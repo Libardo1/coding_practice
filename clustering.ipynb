{
 "cells": [
  {
   "cell_type": "code",
   "execution_count": 1,
   "metadata": {
    "collapsed": true
   },
   "outputs": [],
   "source": [
    "import pickle\n",
    "import string\n",
    "import itertools\n",
    "import scipy\n",
    "\n",
    "from pprint import pprint\n",
    "\n",
    "from sklearn.feature_extraction.text import TfidfVectorizer\n",
    "from sklearn.cluster import KMeans\n",
    "from sklearn.metrics import adjusted_rand_score\n",
    "\n",
    "from nltk.corpus import stopwords\n",
    "\n",
    "import matplotlib.pyplot as plt\n",
    "import matplotlib.ticker as tkr\n",
    "import seaborn as sns\n",
    "\n",
    "%matplotlib inline"
   ]
  },
  {
   "cell_type": "code",
   "execution_count": 2,
   "metadata": {
    "collapsed": true
   },
   "outputs": [],
   "source": [
    "r_state = 8"
   ]
  },
  {
   "cell_type": "code",
   "execution_count": 35,
   "metadata": {
    "collapsed": false
   },
   "outputs": [
    {
     "name": "stdout",
     "output_type": "stream",
     "text": [
      "[(1, 'Paul Lewis'), (2, 'Dan Roberts'), (3, 'Jeb Lund'), (4, 'Tom McCarthy'), (5, 'Ben Jacobs'), (6, 'Sabrina Siddiqui')]\n"
     ]
    }
   ],
   "source": [
    "with open(\"authors.pkl\", 'r') as out_auths:\n",
    "    authors = pickle.load(out_auths)\n",
    "with open(\"labels.pkl\", 'r') as las:\n",
    "    author_labels = pickle.load(las)\n",
    "print author_labels"
   ]
  },
  {
   "cell_type": "code",
   "execution_count": 3,
   "metadata": {
    "collapsed": false
   },
   "outputs": [
    {
     "name": "stdout",
     "output_type": "stream",
     "text": [
      "The diplomatic overture was dispatched to Hu Yaobang, chairman of the Chinese Communist party, on 29 October 1981.\n"
     ]
    }
   ],
   "source": [
    "with open(\"auth_sents.pkl\", 'r') as ins:\n",
    "    sents = pickle.load(ins)\n",
    "    \n",
    "print sents[\"Paul Lewis\"][0]"
   ]
  },
  {
   "cell_type": "code",
   "execution_count": 4,
   "metadata": {
    "collapsed": false
   },
   "outputs": [
    {
     "name": "stdout",
     "output_type": "stream",
     "text": [
      "[21, 4.619047619047619, 0.0, 0.0, 0.0, 0.0, 0.0, 0.0, 0.0, 0.0, 0.0, 0.0, 0.0, 0.0, 3.8815637979434374, 0.0, 4.574710978503383, 0.0, 0.0, 0.0, 0.0, 0.0, 0.0, 0.0, 0.0, 0.0, 0.0, 0.0, 0.0, 0.0, 0.0, 0.0, 0.0, 0.0, 0.0, 0.0, 0.0, 0.0, 0.0, 0.0, 0.0, 0.0, 0.0, 0.0, 0.0, 0.0, 0.0, 0.0, 0.0, 0.0, 0.0, 0.0, 0.0, 0.0, 0.0, 0.0, 0.0, 0.0, 0.0, 0.0, 0.0, 0.0, 0.0, 0.0, 0.0, 0.0, 0.0, 0.0, 0.0, 0.0, 0.0, 0.0, 0.0, 0.0, 0.0, 0.0, 0.0, 0.0, 0.0, 0.0, 0.0, 0.0, 0.0, 0.0, 0.0, 0.0, 0.0, 0.0, 0.0, 0.0, 0.0, 0.0, 0.0, 0.0, 0.0, 0.0, 0.0, 0.0, 0.0, 0.0, 0.0, 0.0, 0.0, 0.0, 0.0, 0.0, 0.0, 4.574710978503383, 0.0, 4.574710978503383, 0.0, 0.0, 0.0, 0.0, 0.0, 0.0, 0.0, 0.0, 0.0, 0.0, 0.0, 0.0, 0.0, 0.0, 0.0, 0.0, 0.0, 0.0, 0.0, 0.0, 3.8815637979434374, 0.0, 0.0, 0.0, 0.0, 0.0, 0.0, 0.0, 0.0, 0.0, 0.0, 0.0, 4.574710978503383, 0.0, 0.0, 0.0, 0.0, 0.0, 4.574710978503383, 0.0, 0.0, 0.0, 0.0, 0.0, 0.0, 0.0, 0.0, 0.0, 0.0, 0.0, 0.0, 0.0, 0.0, 0.0, 0.0, 0.0]\n",
      "3580\n",
      "[('len_s', 21), ('len_w', 4.619047619047619), (u'!', 0), (u'\"', 0), (u'#', 0), (u'$', 0), (u'%', 0), (u'&', 0), (u\"'\", 0), (u\"''\", 0), (u'(', 0), (u')', 0), (u'*', 0), (u'+', 0), (u',', 2), (u'-', 0), (u'.', 1), (u'/', 0), (u':', 0), (u';', 0), (u'<', 0), (u'=', 0), (u'>', 0), (u'?', 0), (u'@', 0), (u'[', 0), (u'\\\\', 0), (u']', 0), (u'^', 0), (u'_', 0), (u'`', 0), (u'``', 0), (u'{', 0), (u'|', 0), (u'}', 0), (u'~', 0), (u'\\u2013', 0), (\"'s\", 0), (\"'t\", 0), (u'a', 0), (u'about', 0), (u'above', 0), (u'after', 0), (u'again', 0), (u'against', 0), (u'all', 0), (u'am', 0), (u'an', 0), (u'and', 0), (u'any', 0), (u'are', 0), (u'as', 0), (u'at', 0), (u'be', 0), (u'because', 0), (u'been', 0), (u'before', 0), (u'being', 0), (u'below', 0), (u'between', 0), (u'both', 0), (u'but', 0), (u'by', 0), (u'can', 0), (u'did', 0), (u'do', 0), (u'does', 0), (u'doing', 0), (u'don', 0), (u'down', 0), (u'during', 0), (u'each', 0), (u'few', 0), (u'for', 0), (u'from', 0), (u'further', 0), (u'had', 0), (u'has', 0), (u'have', 0), (u'having', 0), (u'he', 0), (u'her', 0), (u'here', 0), (u'hers', 0), (u'herself', 0), (u'him', 0), (u'himself', 0), (u'his', 0), (u'how', 0), (u'i', 0), (u'if', 0), (u'in', 0), (u'into', 0), (u'is', 0), (u'it', 0), (u'its', 0), (u'itself', 0), (u'just', 0), (u'me', 0), (u'more', 0), (u'most', 0), (u'my', 0), (u'myself', 0), (u'no', 0), (u'nor', 0), (u'not', 0), (u'now', 0), (u'of', 1), (u'off', 0), (u'on', 1), (u'once', 0), (u'only', 0), (u'or', 0), (u'other', 0), (u'our', 0), (u'ours', 0), (u'ourselves', 0), (u'out', 0), (u'over', 0), (u'own', 0), (u's', 0), (u'same', 0), (u'she', 0), (u'should', 0), (u'so', 0), (u'some', 0), (u'such', 0), (u't', 0), (u'than', 0), (u'that', 0), (u'the', 2), (u'their', 0), (u'theirs', 0), (u'them', 0), (u'themselves', 0), (u'then', 0), (u'there', 0), (u'these', 0), (u'they', 0), (u'this', 0), (u'those', 0), (u'through', 0), (u'to', 1), (u'too', 0), (u'under', 0), (u'until', 0), (u'up', 0), (u'very', 0), (u'was', 1), (u'we', 0), (u'were', 0), (u'what', 0), (u'when', 0), (u'where', 0), (u'which', 0), (u'while', 0), (u'who', 0), (u'whom', 0), (u'why', 0), (u'will', 0), (u'with', 0), (u'you', 0), (u'your', 0), (u'yours', 0), (u'yourself', 0), (u'yourselves', 0)]\n"
     ]
    }
   ],
   "source": [
    "#Sentence features\n",
    "#Sentence length, avg word length, abs(log(punc_freq)), abs(log(stopword_freq))\n",
    "with open(\"features.pkl\", 'r') as outs:\n",
    "    features = pickle.load(outs)\n",
    "print features[0]\n",
    "print len(features)\n",
    "\n",
    "with open(\"raw_features.pkl\", 'r') as rfouts:\n",
    "    rf_counts = pickle.load(rfouts)\n",
    "print rf_counts[0]"
   ]
  },
  {
   "cell_type": "code",
   "execution_count": 5,
   "metadata": {
    "collapsed": false
   },
   "outputs": [
    {
     "name": "stdout",
     "output_type": "stream",
     "text": [
      "[u'!', u'\"', u'#', u'$', u'%', u'&', u\"'\", u'(', u')', u'*', u'+', u',', u'-', u'.', u'/', u':', u';', u'<', u'=', u'>', u'?', u'@', u'[', u'\\\\', u']', u'^', u'_', u'`', u'{', u'|', u'}', u'~', u'``', u\"''\", u'\\u2013'] 35\n"
     ]
    }
   ],
   "source": [
    "sp = string.punctuation\n",
    "sp = unicode(sp)\n",
    "punct = [s for s in sp]\n",
    "\n",
    "#punct = [u'!', u'$', u'%', u'?', u':', u';', u'``', u\"''\", u'\\u2013']\n",
    "punct.append(u'``')\n",
    "punct.append(u\"''\")\n",
    "punct.append(u'\\u2013')\n",
    "print punct, len(punct)"
   ]
  },
  {
   "cell_type": "code",
   "execution_count": 6,
   "metadata": {
    "collapsed": false
   },
   "outputs": [
    {
     "name": "stdout",
     "output_type": "stream",
     "text": [
      "[u'i', u'me', u'my', u'myself', u'we', u'our', u'ours', u'ourselves', u'you', u'your', u'yours', u'yourself', u'yourselves', u'he', u'him', u'his', u'himself', u'she', u'her', u'hers', u'herself', u'it', u'its', u'itself', u'they', u'them', u'their', u'theirs', u'themselves', u'what', u'which', u'who', u'whom', u'this', u'that', u'these', u'those', u'am', u'is', u'are', u'was', u'were', u'be', u'been', u'being', u'have', u'has', u'had', u'having', u'do', u'does', u'did', u'doing', u'a', u'an', u'the', u'and', u'but', u'if', u'or', u'because', u'as', u'until', u'while', u'of', u'at', u'by', u'for', u'with', u'about', u'against', u'between', u'into', u'through', u'during', u'before', u'after', u'above', u'below', u'to', u'from', u'up', u'down', u'in', u'out', u'on', u'off', u'over', u'under', u'again', u'further', u'then', u'once', u'here', u'there', u'when', u'where', u'why', u'how', u'all', u'any', u'both', u'each', u'few', u'more', u'most', u'other', u'some', u'such', u'no', u'nor', u'not', u'only', u'own', u'same', u'so', u'than', u'too', u'very', u's', u't', u'can', u'will', u'just', u'don', u'should', u'now', \"'s\", \"'t\"] 129\n"
     ]
    }
   ],
   "source": [
    "swords = stopwords.words('english')\n",
    "swords.append('\\'s')\n",
    "swords.append('\\'t')\n",
    "print swords, len(swords)"
   ]
  },
  {
   "cell_type": "code",
   "execution_count": 7,
   "metadata": {
    "collapsed": false
   },
   "outputs": [
    {
     "name": "stdout",
     "output_type": "stream",
     "text": [
      "['num_words', 'w_len', u'!', u'\"', u'#', u'$', u'%', u'&', u\"'\", u'(', u')', u'*', u'+', u',', u'-', u'.', u'/', u':', u';', u'<', u'=', u'>', u'?', u'@', u'[', u'\\\\', u']', u'^', u'_', u'`', u'{', u'|', u'}', u'~', u'``', u\"''\", u'\\u2013', u'i', u'me', u'my', u'myself', u'we', u'our', u'ours', u'ourselves', u'you', u'your', u'yours', u'yourself', u'yourselves', u'he', u'him', u'his', u'himself', u'she', u'her', u'hers', u'herself', u'it', u'its', u'itself', u'they', u'them', u'their', u'theirs', u'themselves', u'what', u'which', u'who', u'whom', u'this', u'that', u'these', u'those', u'am', u'is', u'are', u'was', u'were', u'be', u'been', u'being', u'have', u'has', u'had', u'having', u'do', u'does', u'did', u'doing', u'a', u'an', u'the', u'and', u'but', u'if', u'or', u'because', u'as', u'until', u'while', u'of', u'at', u'by', u'for', u'with', u'about', u'against', u'between', u'into', u'through', u'during', u'before', u'after', u'above', u'below', u'to', u'from', u'up', u'down', u'in', u'out', u'on', u'off', u'over', u'under', u'again', u'further', u'then', u'once', u'here', u'there', u'when', u'where', u'why', u'how', u'all', u'any', u'both', u'each', u'few', u'more', u'most', u'other', u'some', u'such', u'no', u'nor', u'not', u'only', u'own', u'same', u'so', u'than', u'too', u'very', u's', u't', u'can', u'will', u'just', u'don', u'should', u'now', \"'s\", \"'t\"]\n"
     ]
    }
   ],
   "source": [
    "raw_features = [\"num_words\", \"w_len\"] + punct + swords\n",
    "print raw_features"
   ]
  },
  {
   "cell_type": "code",
   "execution_count": 8,
   "metadata": {
    "collapsed": false
   },
   "outputs": [
    {
     "name": "stdout",
     "output_type": "stream",
     "text": [
      "0   num_words\n",
      "16   /\n",
      "1   w_len\n",
      "14   -\n",
      "130   here\n",
      "142   most\n",
      "107   against\n",
      "39   my\n",
      "48   yourself\n",
      "91   an\n",
      "9   (\n",
      "31   |\n",
      "129   once\n",
      "109   into\n",
      "37   i\n",
      "73   those\n",
      "93   and\n",
      "80   been\n"
     ]
    }
   ],
   "source": [
    "main_fs = [0, 16, 1, 14, 130, 142, 107, 39, 48, 91, 9, 31, 129, 109, 37, 73, 93, 80]  \n",
    "for f in main_fs:\n",
    "    print f, \" \", raw_features[f]\n"
   ]
  },
  {
   "cell_type": "code",
   "execution_count": 9,
   "metadata": {
    "collapsed": false
   },
   "outputs": [],
   "source": [
    "#flat_features = list(itertools.chain.from_iterable(features))\n",
    "#print flat_features[0]\n",
    "#print len(flat_features)"
   ]
  },
  {
   "cell_type": "code",
   "execution_count": 10,
   "metadata": {
    "collapsed": false
   },
   "outputs": [
    {
     "name": "stdout",
     "output_type": "stream",
     "text": [
      "The diplomatic overture was dispatched to Hu Yaobang, chairman of the Chinese Communist party, on 29 October 1981.\n"
     ]
    }
   ],
   "source": [
    "combined_sents = []\n",
    "\n",
    "for author, sentences in sents.iteritems():\n",
    "    for sentence in sentences:\n",
    "        combined_sents.append(sentence)\n",
    "\n",
    "print combined_sents[0]"
   ]
  },
  {
   "cell_type": "code",
   "execution_count": 11,
   "metadata": {
    "collapsed": false
   },
   "outputs": [
    {
     "name": "stdout",
     "output_type": "stream",
     "text": [
      "When Paul accused Christie in turn of getting too close to the White House and “hugging” Obama, the New Jersey governor shot back that the hugs he remembered were with the families of 9/11 victims.\n",
      "“The terrorists are possessed by the same violent ideology that gave us 9/11, and they are on the offensive and gaining ground,” Jeb Bush will say.\n",
      "The former prime minister also talked about the lessons of the post-9/11 era.\n",
      "Just as soon as you had finished formulating a single thought about one person in a blue/black worsted wool suit with a blue/red tie, a new one (or Carly Fiorina) had taken his place.\n",
      "The Donald, on the other hand, will try to increase his negotiating leverage with NBC by pointing to all the people who tune in to see him “tell it like it” is on a fake show and will probably try to sell a few more seats in his scam college, assuming the whole thing isn’t in a joint FBI/SEC warehouse by now.\n",
      "After flirting with it early in his tenure, Kasich has backed away from what you might call the George W Bush/Sam Brownback theory of governance which is that, once elected, you are the representative of only the citizens who voted for you, and everyone else can take a hike.\n",
      "In the meantime, we can watch every other presumptive nomination failure use their appeals to public service to leverage their multi-platform public/private identities into a monetized national thinksperience.\n",
      "She then offered job-creating solutions like the Keystone Pipeline; cutting down trade barriers in the Pacific and eliminating tax code loopholes (which Obama called called for in the very speech to which she was/was not responding); supporting “our exceptional military and its mission” (which she left undefined); the “repeal and replace” of Obamacare (without saying with what); correcting executive overreach; confronting Iran (but, presumably, not negotiating with it, since Obama called for that); and defending life (ie, the American fetal kind; the rest can be droned or “repealed and replaced”).\n",
      "You could even be forgiven for being unaware that he announced his candidacy for president on Tuesday, given that he is an outlander from beyond the current Republican/media fever dream.\n",
      "Journalism is a dull game a lot of the time: on the local level, every day someone’s gotta cover city hall press statements, then write up an article nobody will read; on a national level, every day that a global climate scientists says, Soon millions of us will drown as other millions will starve in droughts and famines and millions more will be killed by severe new weather patterns, a journalist has to find a response quote from a scientician named Dr. Cody from the ExxonMobile/Royal Dutch Shell Institute for Ethics in Climatism to attribute weather changes to “sun malaise” and dog farts.\n",
      "“To hell with anyone who don’t believe in the USA / Rick Perry all the way.” The chorus of the song, by Colt Ford featuring rapper JJ Lawhorn, extols independence, piety, patriotism, free markets and firearms: I won’t back up, I don’t back down I’ve been raised up to stand my ground Take my job but not my guns Tax my check till I ain’t got none Except for the good Lord up above I answer to no one The result is unquestionably the best use in politics so far of the hick-hop genre – think Cowboy Troy.\n"
     ]
    }
   ],
   "source": [
    "for cs in combined_sents:\n",
    "    if u\"/\" in cs:\n",
    "        print cs"
   ]
  },
  {
   "cell_type": "markdown",
   "metadata": {},
   "source": [
    "### NLP / Clustering Challenges\n",
    "\n",
    "\n",
    "##### Challenge 1\n",
    "\n",
    "Cluster sentences with K-means. If you have your own Fletcher text data, get sentences out and cluster them. If not, cluster the tweets you gathered during the last challenge set. For each cluster, print out the sentences, try to see how close the sentences are. Try different K values and try to find a K value that makes the most sense (the sentences look like they do form a meaningful cluster).\n",
    "\n",
    "How do you deal with retweets (if you're clustering tweets)?"
   ]
  },
  {
   "cell_type": "code",
   "execution_count": 12,
   "metadata": {
    "collapsed": false
   },
   "outputs": [],
   "source": [
    "def run_k_means(X, k, vectorized=False, vectizer=None):\n",
    "    model = KMeans(n_clusters=k, max_iter=100, random_state=r_state) #init='k-means++'\n",
    "    model.fit(X)\n",
    "    print(\"Top terms per cluster:\")\n",
    "    order_centroids = model.cluster_centers_.argsort()[:, ::-1]\n",
    "    if vectorized:\n",
    "        terms = vectizer.get_feature_names()\n",
    "    else:\n",
    "        terms = raw_features\n",
    "        #print order_centroids\n",
    "    for i in range(len(model.cluster_centers_)):\n",
    "        print \"Cluster %d:\" % i,\n",
    "        for ind in order_centroids[i, :10]:\n",
    "            if vectorized:\n",
    "                #print ind, \n",
    "                print ' %s' % terms[ind],\n",
    "            else:\n",
    "                print terms[ind], \n",
    "                #f_ind = features.index(ind)\n",
    "                #print f_ind\n",
    "                #print ' %s' % terms\n",
    "        print\n",
    "    return model\n",
    "\n",
    "def vectorizer_k_means(sentence, k):\n",
    "    vectorizer = TfidfVectorizer(stop_words='english')\n",
    "    X = vectorizer.fit_transform(sentence)\n",
    "    model = run_k_means(X, k, vectorized=True, vectizer=vectorizer)\n",
    "    return model"
   ]
  },
  {
   "cell_type": "code",
   "execution_count": 13,
   "metadata": {
    "collapsed": false,
    "scrolled": false
   },
   "outputs": [
    {
     "name": "stdout",
     "output_type": "stream",
     "text": [
      "Paul Lewis\n",
      "Top terms per cluster:\n",
      "Cluster 0:  hsbc  bank  swiss  irs  ex  tax  leaked  data  im  clients\n",
      "Cluster 1:  sanders  senator  house  republican  party  republicans  campaign  young  political  candidate\n",
      "Cluster 2:  said  deal  president  don  does  world  iran  senator  race  obama\n",
      "Cluster 3:  candidates  policy  debate  fox  news  trump  republican  presidential  stage  foreign\n",
      "Dan Roberts\n",
      "Top terms per cluster:\n",
      "Cluster 0:  house  said  white  know  new  paul  governor  policy  told  obama\n",
      "Cluster 1:  immigration  reform  campaign  gardner  colorado  republican  udall  party  rights  local\n",
      "Cluster 2:  party  senate  mcconnell  tea  republican  candidates  republicans  democrats  primary  house\n",
      "Cluster 3:  clinton  bush  president  iraq  state  secretary  hillary  said  campaign  senator\n",
      "Jeb Lund\n",
      "Top terms per cluster:\n",
      "Cluster 0:  people  good  don  said  florida  things  republican  candidate  great  policy\n",
      "Cluster 1:  like  just  donald  trump  republican  party  doesn  mean  things  isn\n",
      "Cluster 2:  trump  time  kasich  means  party  republican  probably  comments  days  cruz\n",
      "Cluster 3:  rubio  obama  party  republican  spent  president  marco  years  like  florida\n",
      "Tom McCarthy\n",
      "Top terms per cluster:\n",
      "Cluster 0:  trump  president  new  campaign  republican  immigration  policy  obama  police  american\n",
      "Cluster 1:  walker  budget  signed  state  law  years  2011  voters  wisconsin  tax\n",
      "Cluster 2:  governor  wisconsin  senator  cruz  walker  republican  conservative  scott  state  election\n",
      "Cluster 3:  said  bush  george  trump  political  family  issue  people  walker  republicans\n",
      "Ben Jacobs\n",
      "Top terms per cluster:\n",
      "Cluster 0:  policy  foreign  graham  obama  administration  clinton  republican  barack  iran  hillary\n",
      "Cluster 1:  trump  said  just  candidate  saturday  wasn  donald  make  event  candidates\n",
      "Cluster 2:  clinton  republican  state  governor  iowa  candidates  senator  campaign  party  event\n",
      "Cluster 3:  house  santorum  new  white  run  second  hampshire  iowa  state  governor\n",
      "Sabrina Siddiqui\n",
      "Top terms per cluster:\n",
      "Cluster 0:  policy  foreign  obama  rubio  election  clinton  state  president  cuba  secretary\n",
      "Cluster 1:  rubio  republican  clinton  president  republicans  americans  cuba  obama  week  women\n",
      "Cluster 2:  paul  iran  nuclear  presidential  security  campaign  deal  national  senator  israel\n",
      "Cluster 3:  said  people  rubio  president  like  american  don  clinton  real  embargo\n"
     ]
    },
    {
     "name": "stderr",
     "output_type": "stream",
     "text": [
      "/usr/local/lib/python2.7/dist-packages/numpy/core/fromnumeric.py:2507: VisibleDeprecationWarning: `rank` is deprecated; use the `ndim` attribute or function instead. To find the rank of a matrix see `numpy.linalg.matrix_rank`.\n",
      "  VisibleDeprecationWarning)\n"
     ]
    }
   ],
   "source": [
    "#Cluster of terms per author\n",
    "\n",
    "k_ = 4 #4, 5, 6\n",
    "\n",
    "for author, sent in sents.iteritems():\n",
    "    print author\n",
    "    author_model = vectorizer_k_means(sent, k_)"
   ]
  },
  {
   "cell_type": "code",
   "execution_count": 14,
   "metadata": {
    "collapsed": false,
    "scrolled": true
   },
   "outputs": [
    {
     "name": "stdout",
     "output_type": "stream",
     "text": [
      "All authors\n",
      "Top terms per cluster:\n",
      "Cluster 0:  governor  walker  wisconsin  state  scott  bush  florida  republican  jeb  budget\n",
      "Cluster 1:  policy  obama  people  rubio  time  president  like  american  candidates  iran\n",
      "Cluster 2:  said  people  don  president  rubio  think  paul  walker  like  policy\n",
      "Cluster 3:  trump  donald  debate  said  republican  candidates  immigration  party  comments  way\n",
      "Cluster 4:  clinton  hillary  secretary  state  policy  campaign  obama  foreign  republican  democratic\n",
      "Cluster 5:  senator  cruz  ted  rubio  paul  marco  florida  rand  texas  kentucky\n",
      "Cluster 6:  republican  house  party  senate  white  republicans  democrats  immigration  obama  reform\n",
      "Cluster 7:  hsbc  bank  swiss  im  ex  irs  leaked  accounts  doj  clients\n"
     ]
    }
   ],
   "source": [
    "k1 = 8\n",
    "print \"All authors\"\n",
    "all_model = vectorizer_k_means(combined_sents, k1)"
   ]
  },
  {
   "cell_type": "code",
   "execution_count": 15,
   "metadata": {
    "collapsed": false
   },
   "outputs": [
    {
     "name": "stdout",
     "output_type": "stream",
     "text": [
      "Sentence features\n",
      "Top terms per cluster:\n",
      "Cluster 0: num_words / w_len - here most against my an yourself\n",
      "Cluster 1: num_words w_len / here - most my | against an\n",
      "Cluster 2: num_words / w_len - here most my against an yourself\n",
      "Cluster 3: num_words / most ( - | w_len here yourself my\n"
     ]
    }
   ],
   "source": [
    "k2 = 4\n",
    "print \"Sentence features\"\n",
    "feature_model = run_k_means(features, k2)\n",
    "\n",
    "##These results look weird, but it could be because it is the frequency of each of these aspects that is being \n",
    "## fed to the clustering algorithm, not the name of the aspect itself"
   ]
  },
  {
   "cell_type": "code",
   "execution_count": null,
   "metadata": {
    "collapsed": true
   },
   "outputs": [],
   "source": []
  },
  {
   "cell_type": "code",
   "execution_count": null,
   "metadata": {
    "collapsed": true
   },
   "outputs": [],
   "source": []
  },
  {
   "cell_type": "markdown",
   "metadata": {},
   "source": [
    "##### Challenge 2\n",
    "\n",
    "Draw the inertia curve over different k values. (The sklearn KMeans class has an inertia_ attribute.)"
   ]
  },
  {
   "cell_type": "code",
   "execution_count": 16,
   "metadata": {
    "collapsed": false
   },
   "outputs": [
    {
     "name": "stdout",
     "output_type": "stream",
     "text": [
      "\n",
      "Paul Lewis\n",
      "2 3 4 5 6 7 8 9 10 11 12 13 14 15 16 17 18 19 20 21 22 23 24 25 \n",
      "Dan Roberts\n",
      "2 3 4 5 6 7 8 9 10 11 12 13 14 15 16 17 18 19 20 21 22 23 24 25 \n",
      "Jeb Lund\n",
      "2 3 4 5 6 7 8 9 10 11 12 13 14 15 16 17 18 19 20 21 22 23 24 25 \n",
      "Tom McCarthy\n",
      "2 3 4 5 6 7 8 9 10 11 12 13 14 15 16 17 18 19 20 21 22 23 24 25 \n",
      "Ben Jacobs\n",
      "2 3 4 5 6 7 8 9 10 11 12 13 14 15 16 17 18 19 20 21 22 23 24 25 \n",
      "Sabrina Siddiqui\n",
      "2 3 4 5 6 7 8 9 10 11 12 13 14 15 16 17 18 19 20 21 22 23 24 25\n"
     ]
    }
   ],
   "source": [
    "ks = range(2,26)\n",
    "inertiadict = {}\n",
    "for author, sent in sents.iteritems():\n",
    "    print \"\\n\", author\n",
    "    inertiadict[author] = []\n",
    "    for k in ks:\n",
    "        print k,\n",
    "        vectorizer2 = TfidfVectorizer(stop_words='english')\n",
    "        X = vectorizer2.fit_transform(sent)\n",
    "        model = KMeans(n_clusters=k, max_iter=100, random_state=r_state) #init='k-means++'\n",
    "        model.fit(X)\n",
    "        inertiadict[author].append(model.inertia_)\n",
    "    "
   ]
  },
  {
   "cell_type": "code",
   "execution_count": 17,
   "metadata": {
    "collapsed": false
   },
   "outputs": [
    {
     "data": {
      "image/png": "[encoded data removed]",
      "text/plain": [
       "<matplotlib.figure.Figure at 0x7f71e85c2d10>"
      ]
     },
     "metadata": {},
     "output_type": "display_data"
    }
   ],
   "source": [
    "plt.figure(figsize=(10,6))\n",
    "for author, sent in sents.iteritems():\n",
    "    plt.plot(ks, inertiadict[author], label=author)\n",
    "plt.xlabel(\"k\")\n",
    "plt.ylabel(\"inertia\")\n",
    "plt.title(\"Inertias vs K value per author\")\n",
    "plt.legend(loc=\"best\")\n",
    "plt.show()"
   ]
  },
  {
   "cell_type": "code",
   "execution_count": 18,
   "metadata": {
    "collapsed": false
   },
   "outputs": [
    {
     "name": "stdout",
     "output_type": "stream",
     "text": [
      "2 3 4 5 6 7 8 9 10 11 12 13 14 15\n"
     ]
    }
   ],
   "source": [
    "ks = range(2,16)\n",
    "inertias = []\n",
    "for k in ks:\n",
    "    print k,\n",
    "    vectorizer2 = TfidfVectorizer(stop_words='english')\n",
    "    X = vectorizer2.fit_transform(combined_sents)\n",
    "    model = KMeans(n_clusters=k, max_iter=100, random_state=r_state) #init='k-means++'\n",
    "    model.fit(X)\n",
    "    inertias.append(model.inertia_)\n",
    "    "
   ]
  },
  {
   "cell_type": "code",
   "execution_count": 19,
   "metadata": {
    "collapsed": false
   },
   "outputs": [
    {
     "data": {
      "image/png": "[encoded data removed]",
      "text/plain": [
       "<matplotlib.figure.Figure at 0x7f71e85c2710>"
      ]
     },
     "metadata": {},
     "output_type": "display_data"
    }
   ],
   "source": [
    "ax = plt.subplot(111)\n",
    "plt.plot(ks, inertias)\n",
    "plt.xlabel(\"k\")\n",
    "plt.ylabel(\"inertia\")\n",
    "plt.title(\"Inertias vs K value, all authors\")\n",
    "plt.show()"
   ]
  },
  {
   "cell_type": "code",
   "execution_count": 20,
   "metadata": {
    "collapsed": false
   },
   "outputs": [
    {
     "name": "stdout",
     "output_type": "stream",
     "text": [
      "2 3 4 5 6 7 8 9 10 11 12 13 14 15\n"
     ]
    }
   ],
   "source": [
    "fks = range(2,16)\n",
    "f_inertias = []\n",
    "for k in fks:\n",
    "    print k,\n",
    "    model = KMeans(n_clusters=k, max_iter=100, random_state=r_state) #init='k-means++'\n",
    "    model.fit(features)\n",
    "    f_inertias.append(model.inertia_)"
   ]
  },
  {
   "cell_type": "code",
   "execution_count": 21,
   "metadata": {
    "collapsed": false
   },
   "outputs": [
    {
     "data": {
      "image/png": "[encoded data removed]",
      "text/plain": [
       "<matplotlib.figure.Figure at 0x7f71e6acc490>"
      ]
     },
     "metadata": {},
     "output_type": "display_data"
    }
   ],
   "source": [
    "ax = plt.subplot(111)\n",
    "plt.plot(fks, f_inertias)\n",
    "plt.xlabel(\"k\")\n",
    "plt.ylabel(\"inertia\")\n",
    "plt.title(\"Inertias vs K value, all authors, features only\")\n",
    "plt.show()"
   ]
  },
  {
   "cell_type": "markdown",
   "metadata": {},
   "source": [
    "##### Challenge 3\n",
    "\n",
    "__Let's name the clusters 1__\n",
    "\n",
    "For each cluster, find the sentence closest to the centroid of the cluster.\n",
    "\n",
    "(You can use [sklearn.metrics.pairwise_distances](http://scikit-learn.org/stable/modules/generated/sklearn.metrics.pairwise_distances.html#sklearn.metrics.pairwise_distances) or [scipy.spatial.distance](http://docs.scipy.org/doc/scipy/reference/spatial.distance.html) [check `pdist`, `cdist`, and `euclidean distance`] to find distances to the centroid). KMeans has a cluster_centroids_ attribute.\n",
    "\n",
    "This sentence (closest to centroid) is now the name of the cluster. For each cluster, print the representative sentence, and print 'N people expressed a similar statement', or something like that relevant to your dataset. (This is very close to what amazon used to do in the reviews section.)\n",
    "\n",
    "Find the biggest 3 clusters, and print their representative sentences. (This is close to what amazon is doing now in the reviews section, except they choose the sentence from the most helpful review instead of closest to center.)\n"
   ]
  },
  {
   "cell_type": "code",
   "execution_count": 22,
   "metadata": {
    "collapsed": false
   },
   "outputs": [
    {
     "name": "stdout",
     "output_type": "stream",
     "text": [
      "[1 2 2 2 3 1 1 2 1 1]\n"
     ]
    }
   ],
   "source": [
    "cluster_numbers_f = feature_model.predict(features)\n",
    "print cluster_numbers_f[:10]"
   ]
  },
  {
   "cell_type": "code",
   "execution_count": 23,
   "metadata": {
    "collapsed": false
   },
   "outputs": [
    {
     "name": "stdout",
     "output_type": "stream",
     "text": [
      "(4, 166)\n"
     ]
    }
   ],
   "source": [
    "f_centroids = feature_model.cluster_centers_\n",
    "print f_centroids.shape"
   ]
  },
  {
   "cell_type": "code",
   "execution_count": 24,
   "metadata": {
    "collapsed": false
   },
   "outputs": [
    {
     "name": "stdout",
     "output_type": "stream",
     "text": [
      "[4, 104, 116, 179, 286, 291, 342, 348, 358, 366, 387, 388, 442, 446, 463, 490, 542, 551, 669, 725, 754, 764, 767, 768, 771, 784, 788, 849, 857, 871, 874, 922, 945, 947, 955, 968, 976, 987, 995, 1004, 1012, 1037, 1059, 1071, 1076, 1078, 1108, 1114, 1129, 1148, 1153, 1154, 1155, 1173, 1186, 1191, 1276, 1284, 1303, 1315, 1316, 1336, 1350, 1355, 1376, 1380, 1383, 1413, 1438, 1443, 1461, 1462, 1524, 1546, 1569, 1571, 1583, 1613, 1617, 1622, 1628, 1632, 1664, 1672, 1677, 1687, 1691, 1693, 1694, 1695, 1723, 1726, 1730, 1833, 1849, 1898, 1913, 1972, 1995, 2040, 2049, 2053, 2060, 2067, 2068, 2177, 2212, 2214, 2217, 2229, 2249, 2286, 2334, 2376, 2406, 2438, 2483, 2484, 2515, 2532, 2569, 2606, 2632, 2684, 2685, 2741, 2774, 2799, 2817, 2821, 2838, 2879, 2880, 2891, 2946, 2965, 2981, 2983, 3066, 3082, 3089, 3109, 3116, 3120, 3132, 3136, 3138, 3141, 3290, 3329, 3337, 3372, 3381, 3407, 3422, 3432, 3436, 3468, 3484, 3493, 3496, 3502, 3508, 3522, 3535, 3544, 3564]\n"
     ]
    }
   ],
   "source": [
    "c_labels_f = range(f_centroids.shape[0])\n",
    "clusters_dict_f = {el:[] for el in c_labels_f}\n",
    "#print clusters_dict_all\n",
    "count = 0\n",
    "for i, cna in enumerate(cluster_numbers_f):\n",
    "    clusters_dict_f[cna].append(i)\n",
    "\n",
    "print clusters_dict_f[len(c_labels_f)-1]\n"
   ]
  },
  {
   "cell_type": "code",
   "execution_count": 41,
   "metadata": {
    "collapsed": false
   },
   "outputs": [
    {
     "name": "stdout",
     "output_type": "stream",
     "text": [
      " 0\n",
      "1\n",
      "2\n",
      "3\n",
      "[(11.496098183909673, 0, 811, 757), (5.3791913601555112, 1, 2041, 1219), (7.8134461773278892, 2, 2810, 1437), (16.834422010698255, 3, 2817, 167)]\n"
     ]
    }
   ],
   "source": [
    "mins = []\n",
    "for lab, inds in clusters_dict_f.iteritems():\n",
    "    xs = []\n",
    "    print lab\n",
    "    #print inds\n",
    "    mindist = (9999999,9999,9999, len(inds))\n",
    "    for ind in inds:\n",
    "        #print ind\n",
    "        xs.append(features[ind])\n",
    "        \n",
    "        dist = scipy.spatial.distance.euclidean(features[ind], f_centroids[lab])\n",
    "        if dist < mindist[0]:\n",
    "            mindist = (dist, lab, ind, len(inds))\n",
    "    mins.append(mindist)\n",
    "print mins"
   ]
  },
  {
   "cell_type": "code",
   "execution_count": 42,
   "metadata": {
    "collapsed": false
   },
   "outputs": [
    {
     "name": "stdout",
     "output_type": "stream",
     "text": [
      "cluster: 0\n",
      "[('len_s', 47), (u',', 7), ('len_w', 4.446808510638298), (u'and', 3), (u'in', 3), (u'the', 3), (u'.', 1), (u'a', 1), (u'for', 1), (u'of', 1), (u'off', 1), (u'!', 0), (u'\"', 0), (u'#', 0), (u'$', 0), (u'%', 0), (u'&', 0), (u\"'\", 0), (u\"''\", 0), (\"'s\", 0)] author number 2 and 757 similar sentences\n",
      "cluster: 1\n",
      "[('len_s', 12), ('len_w', 3.0), (u\"''\", 2), (u'.', 2), (u'``', 2), (u',', 1), (u'!', 0), (u'\"', 0), (u'#', 0), (u'$', 0), (u'%', 0), (u'&', 0), (u\"'\", 0), (\"'s\", 0), (\"'t\", 0), (u'(', 0), (u')', 0), (u'*', 0), (u'+', 0), (u'-', 0)] author number 4 and 1219 similar sentences\n",
      "cluster: 2\n",
      "[('len_s', 30), ('len_w', 4.5), (u',', 2), (u'his', 2), (u'in', 2), (u'of', 2), (u'the', 2), (u'.', 1), (u'and', 1), (u'to', 1), (u'!', 0), (u'\"', 0), (u'#', 0), (u'$', 0), (u'%', 0), (u'&', 0), (u\"'\", 0), (u\"''\", 0), (\"'s\", 0), (\"'t\", 0)] author number 5 and 1437 similar sentences\n",
      "cluster: 3\n",
      "[('len_s', 82), (u'the', 7), (u'on', 4), ('len_w', 3.817073170731707), (u'to', 3), (u'was', 3), (\"'s\", 2), (u'.', 2), (u'a', 2), (u'and', 2), (u'he', 2), (u'it', 2), (u'that', 2), (u\"''\", 1), (u',', 1), (u':', 1), (u'``', 1), (u'does', 1), (u'from', 1), (u'have', 1)] author number 5 and 167 similar sentences\n"
     ]
    }
   ],
   "source": [
    "for m in mins:\n",
    "    print \"cluster:\", m[1]\n",
    "    print sorted(rf_counts[m[2]], key=lambda x:(-x[1],x[0]))[:20], \"author number\", authors[m[2]], \\\n",
    "                    \"and\", m[3], \"similar sentences\""
   ]
  },
  {
   "cell_type": "markdown",
   "metadata": {},
   "source": [
    "##### Challenge 4\n",
    "\n",
    "__Let's name the clusters 2__\n",
    "\n",
    "Calculate the tf-idf of each word in each cluster (think of all sentences of a cluster together as a document). Represent each cluster with the top 1, or top 2 or... to 5 tf-idf words. For each cluster, print the name (keywords) of the cluster, and \"N statements\" in the cluster (N is the size of the cluster)\n",
    "\n"
   ]
  },
  {
   "cell_type": "code",
   "execution_count": null,
   "metadata": {
    "collapsed": true
   },
   "outputs": [],
   "source": []
  },
  {
   "cell_type": "code",
   "execution_count": null,
   "metadata": {
    "collapsed": true
   },
   "outputs": [],
   "source": []
  },
  {
   "cell_type": "markdown",
   "metadata": {},
   "source": [
    "##### Challenge 5\n",
    "\n",
    "__Let's name the clusters 3__\n",
    "\n",
    "Same as the previous challenge, but this time, calculate tf-idf only for nouns (NN tag) and build keyword(s) with nouns. (This is close to what amazon switched to last year, before settling into the current design). (They would show five nouns, you would click on one and it would show sentences - linked to the reviews- that were related to that noun.)\n"
   ]
  },
  {
   "cell_type": "code",
   "execution_count": null,
   "metadata": {
    "collapsed": true
   },
   "outputs": [],
   "source": []
  },
  {
   "cell_type": "code",
   "execution_count": null,
   "metadata": {
    "collapsed": true
   },
   "outputs": [],
   "source": []
  },
  {
   "cell_type": "markdown",
   "metadata": {},
   "source": [
    "##### Challenge 6\n",
    "\n",
    "Cluster the same data with [MiniBatchKMeans](http://scikit-learn.org/stable/modules/generated/sklearn.cluster.MiniBatchKMeans.html). MiniBatchKMeans is a fast way to apply K-means to large data without much loss -- The results are very similar. Instead of using EVERY single point to find the new place of the centroid, MiniBatch just randomly samples a small number (like 100) in the cluster to calculate the new center. Since this is usually very close to the actual center, the algorithm gets there much faster. Try it and compare the results. ([Example on two-feature data](http://scikit-learn.org/stable/auto_examples/cluster/plot_mini_batch_kmeans.html))\n",
    "\n"
   ]
  },
  {
   "cell_type": "code",
   "execution_count": null,
   "metadata": {
    "collapsed": true
   },
   "outputs": [],
   "source": []
  },
  {
   "cell_type": "code",
   "execution_count": null,
   "metadata": {
    "collapsed": true
   },
   "outputs": [],
   "source": []
  },
  {
   "cell_type": "markdown",
   "metadata": {},
   "source": [
    "##### Challenge 7\n",
    "\n",
    "Switch the __init__ parameter to \"random\" (instead of the default kmeans++) and plot the inertia curve for each of the __n_init__ values for K-Means: 1, 2, 3, 10 (n_init is the number of different runs to try with different random initializations).\n",
    "\n"
   ]
  },
  {
   "cell_type": "code",
   "execution_count": null,
   "metadata": {
    "collapsed": true
   },
   "outputs": [],
   "source": []
  },
  {
   "cell_type": "code",
   "execution_count": null,
   "metadata": {
    "collapsed": true
   },
   "outputs": [],
   "source": []
  },
  {
   "cell_type": "markdown",
   "metadata": {},
   "source": [
    "##### Challenge 8\n",
    "\n",
    "Download [this dataset on the purchase stats from clients of a wholesale distributor](https://archive.ics.uci.edu/ml/datasets/Wholesale+customers). Cluster the clients based on their annual spending features (fresh, milk, grocery, frozen, detergents_paper, delicatessen). Remember to scale the features before clustering. After finding a reasonable amount of clusters, for EACH cluster, plot the histogram for every single feature: FRESH, MILK, GROCERY, FROZEN, DETERGENTS_PAPER, DELICATESSEN, CHANNEL, REGION. Is there a natural way to characterize each cluster? How would you describe each cluster to the wholesale distributor if you were working for them?\n",
    "\n"
   ]
  },
  {
   "cell_type": "code",
   "execution_count": null,
   "metadata": {
    "collapsed": true
   },
   "outputs": [],
   "source": []
  },
  {
   "cell_type": "code",
   "execution_count": null,
   "metadata": {
    "collapsed": true
   },
   "outputs": [],
   "source": []
  },
  {
   "cell_type": "markdown",
   "metadata": {},
   "source": [
    "#### Clustering Extensions (Optional)\n",
    "\n",
    "Use the same code for your previous clustering challenges.\n",
    "\n",
    "Repeat each challenge (except the inertia curves, since only the KMeans implementation gives a quick way of calculating that.) However, this time, try (both) Agglomerative Clustering and DBSCAN instead of KMeans.\n",
    "\n",
    "For text clustering, use cosine distance."
   ]
  },
  {
   "cell_type": "code",
   "execution_count": null,
   "metadata": {
    "collapsed": true
   },
   "outputs": [],
   "source": []
  },
  {
   "cell_type": "code",
   "execution_count": null,
   "metadata": {
    "collapsed": true
   },
   "outputs": [],
   "source": []
  }
 ],
 "metadata": {
  "kernelspec": {
   "display_name": "Python 2",
   "language": "python",
   "name": "python2"
  },
  "language_info": {
   "codemirror_mode": {
    "name": "ipython",
    "version": 2
   },
   "file_extension": ".py",
   "mimetype": "text/x-python",
   "name": "python",
   "nbconvert_exporter": "python",
   "pygments_lexer": "ipython2",
   "version": "2.7.6"
  }
 },
 "nbformat": 4,
 "nbformat_minor": 0
}
