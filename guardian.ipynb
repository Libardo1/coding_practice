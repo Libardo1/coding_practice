{
 "cells": [
  {
   "cell_type": "code",
   "execution_count": 271,
   "metadata": {
    "collapsed": false
   },
   "outputs": [],
   "source": [
    "import pickle\n",
    "import requests \n",
    "import json\n",
    "from pprint import pprint\n",
    "from collections import Counter, defaultdict\n",
    "\n",
    "from nltk import sent_tokenize, word_tokenize, pos_tag, ne_chunk\n",
    "#from nameparser.parser import HumanName"
   ]
  },
  {
   "cell_type": "code",
   "execution_count": 239,
   "metadata": {
    "collapsed": false
   },
   "outputs": [],
   "source": [
    "with open(\"guardian_api.txt\", 'r') as f:\n",
    "    api_key = f.next().strip()"
   ]
  },
  {
   "cell_type": "code",
   "execution_count": 240,
   "metadata": {
    "collapsed": false
   },
   "outputs": [],
   "source": [
    "def get_content(pg):\n",
    "    api_url = 'http://content.guardianapis.com/search'\n",
    "    payload = {\n",
    "        'api-key':              api_key,\n",
    "        'page-size':            50,\n",
    "        'page':                 pg,\n",
    "        'q':                    'party OR policy OR democrat OR republican', \n",
    "        #'order-by':             'newest',\n",
    "        #'show-editors-picks':   'true',\n",
    "        #'show-elements':        'image',\n",
    "        'show-blocks':          'body',\n",
    "        'show-fields':          'byline, wordcount',\n",
    "        #'show-tags':            'all',\n",
    "        #'show-references':      'author',\n",
    "        'format':               'json'\n",
    "    }\n",
    "    response = requests.get(api_url, params=payload)\n",
    "    #response = response.replace(\"'\", '\"')\n",
    "    #data = json.loads(response)\n",
    "    data = response.json() # convert json to python-readable format \n",
    "    return data\n"
   ]
  },
  {
   "cell_type": "code",
   "execution_count": 243,
   "metadata": {
    "collapsed": false
   },
   "outputs": [
    {
     "name": "stdout",
     "output_type": "stream",
     "text": [
      "ok\n",
      "ok\n",
      "ok\n",
      "ok\n",
      "ok\n"
     ]
    }
   ],
   "source": [
    "all_data = []\n",
    "for i in range(1, 6):\n",
    "    data = get_content(i)\n",
    "    print data[\"response\"][\"status\"]\n",
    "    res = data[\"response\"][\"results\"]\n",
    "    all_data += res\n",
    "#print data[\"response\"][\"status\"]"
   ]
  },
  {
   "cell_type": "code",
   "execution_count": 244,
   "metadata": {
    "collapsed": false
   },
   "outputs": [
    {
     "name": "stdout",
     "output_type": "stream",
     "text": [
      "250\n"
     ]
    }
   ],
   "source": [
    "print len(all_data)"
   ]
  },
  {
   "cell_type": "code",
   "execution_count": 245,
   "metadata": {
    "collapsed": false
   },
   "outputs": [
    {
     "name": "stdout",
     "output_type": "stream",
     "text": [
      "{u'apiUrl': u'http://content.guardianapis.com/us-news/2015/jun/09/carly-fiorina-foreign-policy-republican-interview',\n",
      " u'blocks': {u'body': [{u'attributes': {},\n",
      "                        u'bodyHtml': u'<p>Carly Fiorina has chutzpah. The former CEO of Hewlett Packett isn\\u2019t just running for the Republican nomination for president <a href=\"http://www.theguardian.com/us-news/2015/may/03/carly-fiorina-run-for-president-hewlett-packard\">on a platform of managerial expertise</a> after a controversial tenure at that technology company from 1999 to 2005. She\\u2019s running as a foreign policy maven despite having never served in elected office.</p> <p>In an interview with the Guardian on Saturday, Fiorina bragged that she \\u201cknows more world leaders on the stage\\u201d than any of her competitors for the 2016 nomination, a claim she echoed in a speech shortly afterwards at Iowa senator Joni Ernst\\u2019s <a href=\"http://www.theguardian.com/us-news/2015/jun/06/republican-2016-iowa-joni-ernst-roast-ride\">inaugural Roast and Ride fundraiser.</a> The former CEO argued that she \\u201cconducted business and charitable work\\u201d with world leaders \\u201cfor many years\\u201d. She contrasted herself with mere politicians by saying: \\u201cI don\\u2019t do photo ops. I don\\u2019t do <a href=\"http://en.wiktionary.org/wiki/codel\">codels</a> [congressional delegations].\\u201d Fiorina insisted \\u201cI know these people. I know how they think about us.\\u201d</p> <p>Her foreign policy worldview, though, seemed to be more focused on criticism of the Obama administration than any overarching philosophy \\u2013 in contrast to fellow GOP hopefuls such as <a href=\"http://www.theguardian.com/us-news/2015/jun/07/lindsey-graham-republican-party-iowa-2016\">Lindsey Graham</a> or Rand Paul. Fiorina seemed to divide hostile countries into \\u201cenemies\\u201d and \\u201cadversaries\\u201d. For example, China is an \\u201cadversary\\u201d but \\u201cnot an enemy yet\\u201d and certainly not \\u201cin Iran\\u2019s category or even Russia\\u2019s category\\u201d. Yet her skepticism about China did not extend to automatic support for the Trans Pacific Partnership, <a href=\"http://www.washingtonpost.com/politics/some-in-administration-consider-tpp-aimed-mostly-at-china/2015/05/18/599ccc78-fb2e-11e4-9ef4-1bb7ce3b3fb7_story.html\">a trade deal</a> which many in both parties think is crucial to combating Chinese influence in east Asia.</p> <p>Fiorina didn\\u2019t take a position on the controversial legislation, saying: \\u201cThe [Obama] administration has a track record of setting out lofty goals that sound really good and never telling us about the details and the details are always very different than the goals.\\u201d She went on to say that she would not have supported granting Barack Obama trade promotion authority, the ability to submit a trade deal to Congress for an up-and-down vote without amendment which was recently approved in the Senate by a narrow margin, unless she knew \\u201cwhat\\u2019s in the [TPP].\\u201d</p> <p>The former Hewlett Packard executive was just as wary of recent congressional action to approve <a href=\"http://www.theguardian.com/us-news/2015/may/31/nsa-reform-senate-deal-as-patriot-act\">the USA Freedom Act,</a> the first significant rollback of government surveillance since the Carter administration. Fiorina thought the compromise bill, approved by an overwhelming majority in the House of Representatives, \\u201cfeels like a rushed solution\\u201d and did not \\u201cthink it was a step in the right direction\\u201d for the government to relinquish control of telephone metadata and let the phone carriers hold it instead.</p> <p>On domestic policy, Fiorina has long occupied a niche in the Republican field as perhaps the most vehement critic of the Democratic frontrunner Hillary Clinton, a role for which there is considerable competition. In her speech at the Roast and Ride, she said she \\u201cwas gratified\\u201d that she won a poll as the candidate who Republican voters most wanted to see debate Clinton.</p> <p>She was certainly hostile to Clinton\\u2019s most recent policy proposal, which called for automatic voter registration of every eligible American. \\u201cI don\\u2019t think it\\u2019s a good idea unless there are some safeguards on who is registering,\\u201d said Fiorina. The former tech company CEO added: \\u201cWe know, for example, in a state like New Hampshire, people drive across the border from Massachusetts, register the same day and vote and then drive back home to Massachusetts. We know that goes on.\\u201d (One Massachusetts resident <a href=\"http://www.rawstory.com/2014/06/voter-fraud-massachusetts-democrat-pleads-guilty-to-voting-in-new-hampshire-primary/\">was prosecuted</a> in 2014 for voting in two New Hampshire Democratic presidential primaries. A state prosecutor at the time told Reuters he was unaware of any other similar case of voter fraud in the Granite State.) </p> <p>Fiorina then went on to harangue Clinton for accusing the GOP of \\u201ctrying to disenfranchise poor people and minorities\\u201d. She argued: \\u201cIf it\\u2019s such a commonsense proposal why was it accompanied by such vitriol?\\u201d</p> <p>Instead, Fiorina suggested using technology to harness the popular will, using the same tools long employed by reality television shows like American Idol. She said, if elected, during her speeches she would ask people \\u201cto take out their smartphones\\u201d and vote on various questions. \\u201cPress one for yes, press two for no. That technology exists.\\u201d Fiorina thought this would reinvigorate the political process and \\u201cpeople would be excited to be engaged in the critical questions of their time\\u201d.</p> <p>Although her campaign is lagging in the polls, Fiorina is picking up legislative endorsements in New Hampshire and Iowa and has kept perhaps the most active schedule of any Republican candidate so far in those states. It showed this week when Fiorina had perhaps the most visible presence of any campaign at the Roast and Ride on Saturday with volunteers and supporters in bold red T-shirts emblazoned with her first name \\u201cCarly\\u201d.</p> <p>Fiorina is currently on a three-day trip to New Hampshire where she has just received the endorsement of Gene Chandler, 17-term state representative and former speaker of the state house. </p>',\n",
      "                        u'bodyTextSummary': u'Carly Fiorina has chutzpah. The former CEO of Hewlett Packett isn\\u2019t just running for the Republican nomination for president on a platform of managerial expertise after a controversial tenure at that technology company from 1999 to 2005. She\\u2019s running as a foreign policy maven despite having never served in elected office. In an interview with the Guardian on Saturday, Fiorina bragged that she \\u201cknows more world leaders on the stage\\u201d than any of her competitors for the 2016 nomination, a claim she echoed in a speech shortly afterwards at Iowa senator Joni Ernst\\u2019s inaugural Roast and Ride fundraiser. The former CEO argued that she \\u201cconducted business and charitable work\\u201d with world leaders \\u201cfor many years\\u201d. She contrasted herself with mere politicians by saying: \\u201cI don\\u2019t do photo ops. I don\\u2019t do codels [congressional delegations].\\u201d Fiorina insisted \\u201cI know these people. I know how they think about us.\\u201d Her foreign policy worldview, though, seemed to be more focused on criticism of the Obama administration than any overarching philosophy \\u2013 in contrast to fellow GOP hopefuls such as Lindsey Graham or Rand Paul. Fiorina seemed to divide hostile countries into \\u201cenemies\\u201d and \\u201cadversaries\\u201d. For example, China is an \\u201cadversary\\u201d but \\u201cnot an enemy yet\\u201d and certainly not \\u201cin Iran\\u2019s category or even Russia\\u2019s category\\u201d. Yet her skepticism about China did not extend to automatic support for the Trans Pacific Partnership, a trade deal which many in both parties think is crucial to combating Chinese influence in east Asia. Fiorina didn\\u2019t take a position on the controversial legislation, saying: \\u201cThe [Obama] administration has a track record of setting out lofty goals that sound really good and never telling us about the details and the details are always very different than the goals.\\u201d She went on to say that she would not have supported granting Barack Obama trade promotion authority, the ability to submit a trade deal to Congress for an up-and-down vote without amendment which was recently approved in the Senate by a narrow margin, unless she knew \\u201cwhat\\u2019s in the [TPP].\\u201d The former Hewlett Packard executive was just as wary of recent congressional action to approve the USA Freedom Act, the first significant rollback of government surveillance since the Carter administration. Fiorina thought the compromise bill, approved by an overwhelming majority in the House of Representatives, \\u201cfeels like a rushed solution\\u201d and did not \\u201cthink it was a step in the right direction\\u201d for the government to relinquish control of telephone metadata and let the phone carriers hold it instead. On domestic policy, Fiorina has long occupied a niche in the Republican field as perhaps the most vehement critic of the Democratic frontrunner Hillary Clinton, a role for which there is considerable competition. In her speech at the Roast and Ride, she said she \\u201cwas gratified\\u201d that she won a poll as the candidate who Republican voters most wanted to see debate Clinton. She was certainly hostile to Clinton\\u2019s most recent policy proposal, which called for automatic voter registration of every eligible American. \\u201cI don\\u2019t think it\\u2019s a good idea unless there are some safeguards on who is registering,\\u201d said Fiorina. The former tech company CEO added: \\u201cWe know, for example, in a state like New Hampshire, people drive across the border from Massachusetts, register the same day and vote and then drive back home to Massachusetts. We know that goes on.\\u201d (One Massachusetts resident was prosecuted in 2014 for voting in two New Hampshire Democratic presidential primaries. A state prosecutor at the time told Reuters he was unaware of any other similar case of voter fraud in the Granite State.) Fiorina then went on to harangue Clinton for accusing the GOP of \\u201ctrying to disenfranchise poor people and minorities\\u201d. She argued: \\u201cIf it\\u2019s such a commonsense proposal why was it accompanied by such vitriol?\\u201d Instead, Fiorina suggested using technology to harness the popular will, using the same tools long employed by reality television shows like American Idol. She said, if elected, during her speeches she would ask people \\u201cto take out their smartphones\\u201d and vote on various questions. \\u201cPress one for yes, press two for no. That technology exists.\\u201d Fiorina thought this would reinvigorate the political process and \\u201cpeople would be excited to be engaged in the critical questions of their time\\u201d. Although her campaign is lagging in the polls, Fiorina is picking up legislative endorsements in New Hampshire and Iowa and has kept perhaps the most active schedule of any Republican candidate so far in those states. It showed this week when Fiorina had perhaps the most visible presence of any campaign at the Roast and Ride on Saturday with volunteers and supporters in bold red T-shirts emblazoned with her first name \\u201cCarly\\u201d. Fiorina is currently on a three-day trip to New Hampshire where she has just received the endorsement of Gene Chandler, 17-term state representative and former speaker of the state house.',\n",
      "                        u'contributors': [],\n",
      "                        u'createdBy': {u'email': u'ben.jacobs@guardian.co.uk',\n",
      "                                       u'firstName': u'Ben',\n",
      "                                       u'lastName': u'Jacobs'},\n",
      "                        u'createdDate': u'2015-06-09T00:16:52.502+01:00',\n",
      "                        u'firstPublishedDate': u'2015-06-09T00:16:56.791+01:00',\n",
      "                        u'id': u'55762264e4b06840f0819fe6',\n",
      "                        u'lastModifiedBy': {u'email': u'caitlin.curran@guardian.co.uk',\n",
      "                                            u'firstName': u'Caitlin',\n",
      "                                            u'lastName': u'Curran'},\n",
      "                        u'lastModifiedDate': u'2015-06-09T17:03:14.002+01:00',\n",
      "                        u'published': True,\n",
      "                        u'publishedDate': u'2015-06-09T17:03:14.144+01:00'}]},\n",
      " u'fields': {u'byline': u'Ben Jacobs in Boone, Iowa'},\n",
      " u'id': u'us-news/2015/jun/09/carly-fiorina-foreign-policy-republican-interview',\n",
      " u'sectionId': u'us-news',\n",
      " u'sectionName': u'US news',\n",
      " u'type': u'article',\n",
      " u'webPublicationDate': u'2015-06-09T13:03:45Z',\n",
      " u'webTitle': u\"Carly Fiorina claims foreign policy as her strong suit: 'I don't do photo ops'\",\n",
      " u'webUrl': u'http://www.theguardian.com/us-news/2015/jun/09/carly-fiorina-foreign-policy-republican-interview'}\n"
     ]
    }
   ],
   "source": [
    "#pprint(res[0])\n",
    "pprint(all_data[0])"
   ]
  },
  {
   "cell_type": "code",
   "execution_count": 246,
   "metadata": {
    "collapsed": false
   },
   "outputs": [
    {
     "name": "stdout",
     "output_type": "stream",
     "text": [
      "Carly Fiorina has chutzpah. The former CEO of Hewlett Packett isn’t just running for the Republican nomination for president on a platform of managerial expertise after a controversial tenure at that technology company from 1999 to 2005. She’s running as a foreign policy maven despite having never served in elected office. In an interview with the Guardian on Saturday, Fiorina bragged that she “knows more world leaders on the stage” than any of her competitors for the 2016 nomination, a claim she echoed in a speech shortly afterwards at Iowa senator Joni Ernst’s inaugural Roast and Ride fundraiser. The former CEO argued that she “conducted business and charitable work” with world leaders “for many years”. She contrasted herself with mere politicians by saying: “I don’t do photo ops. I don’t do codels [congressional delegations].” Fiorina insisted “I know these people. I know how they think about us.” Her foreign policy worldview, though, seemed to be more focused on criticism of the Obama administration than any overarching philosophy – in contrast to fellow GOP hopefuls such as Lindsey Graham or Rand Paul. Fiorina seemed to divide hostile countries into “enemies” and “adversaries”. For example, China is an “adversary” but “not an enemy yet” and certainly not “in Iran’s category or even Russia’s category”. Yet her skepticism about China did not extend to automatic support for the Trans Pacific Partnership, a trade deal which many in both parties think is crucial to combating Chinese influence in east Asia. Fiorina didn’t take a position on the controversial legislation, saying: “The [Obama] administration has a track record of setting out lofty goals that sound really good and never telling us about the details and the details are always very different than the goals.” She went on to say that she would not have supported granting Barack Obama trade promotion authority, the ability to submit a trade deal to Congress for an up-and-down vote without amendment which was recently approved in the Senate by a narrow margin, unless she knew “what’s in the [TPP].” The former Hewlett Packard executive was just as wary of recent congressional action to approve the USA Freedom Act, the first significant rollback of government surveillance since the Carter administration. Fiorina thought the compromise bill, approved by an overwhelming majority in the House of Representatives, “feels like a rushed solution” and did not “think it was a step in the right direction” for the government to relinquish control of telephone metadata and let the phone carriers hold it instead. On domestic policy, Fiorina has long occupied a niche in the Republican field as perhaps the most vehement critic of the Democratic frontrunner Hillary Clinton, a role for which there is considerable competition. In her speech at the Roast and Ride, she said she “was gratified” that she won a poll as the candidate who Republican voters most wanted to see debate Clinton. She was certainly hostile to Clinton’s most recent policy proposal, which called for automatic voter registration of every eligible American. “I don’t think it’s a good idea unless there are some safeguards on who is registering,” said Fiorina. The former tech company CEO added: “We know, for example, in a state like New Hampshire, people drive across the border from Massachusetts, register the same day and vote and then drive back home to Massachusetts. We know that goes on.” (One Massachusetts resident was prosecuted in 2014 for voting in two New Hampshire Democratic presidential primaries. A state prosecutor at the time told Reuters he was unaware of any other similar case of voter fraud in the Granite State.) Fiorina then went on to harangue Clinton for accusing the GOP of “trying to disenfranchise poor people and minorities”. She argued: “If it’s such a commonsense proposal why was it accompanied by such vitriol?” Instead, Fiorina suggested using technology to harness the popular will, using the same tools long employed by reality television shows like American Idol. She said, if elected, during her speeches she would ask people “to take out their smartphones” and vote on various questions. “Press one for yes, press two for no. That technology exists.” Fiorina thought this would reinvigorate the political process and “people would be excited to be engaged in the critical questions of their time”. Although her campaign is lagging in the polls, Fiorina is picking up legislative endorsements in New Hampshire and Iowa and has kept perhaps the most active schedule of any Republican candidate so far in those states. It showed this week when Fiorina had perhaps the most visible presence of any campaign at the Roast and Ride on Saturday with volunteers and supporters in bold red T-shirts emblazoned with her first name “Carly”. Fiorina is currently on a three-day trip to New Hampshire where she has just received the endorsement of Gene Chandler, 17-term state representative and former speaker of the state house.\n",
      "Ben Jacobs in Boone, Iowa\n"
     ]
    }
   ],
   "source": [
    "print(all_data[0][\"blocks\"][\"body\"][0][\"bodyTextSummary\"])\n",
    "print(all_data[0][\"fields\"][\"byline\"])"
   ]
  },
  {
   "cell_type": "code",
   "execution_count": 247,
   "metadata": {
    "collapsed": true
   },
   "outputs": [],
   "source": [
    "'''def get_human_names(text):\n",
    "    tokens = word_tokenize(text)\n",
    "    pos = pos_tag(tokens)\n",
    "    sentt = ne_chunk(pos)#, binary = False)\n",
    "    person_list = []\n",
    "    person = []\n",
    "    name = \"\"\n",
    "    print sentt\n",
    "    for subtree in sentt.subtrees(filter=lambda t: t.label() == 'PERSON'):\n",
    "        for leaf in subtree.leaves():\n",
    "            person.append(leaf[0])\n",
    "        if len(person) > 1: #avoid grabbing lone surnames\n",
    "            for part in person:\n",
    "                name += part + ' '\n",
    "            #if name[:-1] not in person_list:\n",
    "            person_list.append(name[:-1])\n",
    "            name = ''\n",
    "        person = []\n",
    "\n",
    "    return (person_list)'''\n",
    "\n",
    "def get_human_names(text):\n",
    "    if \" and \" in text or \" with \" in text:\n",
    "        #don't really deal with multiple authors\n",
    "        return text\n",
    "    elif \" in \" in text:\n",
    "        #assume same name in different locations is \n",
    "        # still the same person\n",
    "        ind = text.find(\" in \")\n",
    "        return text[:ind]\n",
    "    else:\n",
    "        return text"
   ]
  },
  {
   "cell_type": "code",
   "execution_count": 281,
   "metadata": {
    "collapsed": true
   },
   "outputs": [],
   "source": [
    "def dd():\n",
    "    return \"\""
   ]
  },
  {
   "cell_type": "code",
   "execution_count": 282,
   "metadata": {
    "collapsed": false
   },
   "outputs": [
    {
     "name": "stdout",
     "output_type": "stream",
     "text": [
      "['Ben Jacobs', 'Frances Perraudin', 'Ben Jacobs', 'Scott Keyes', 'Michael Cohen', 'Ben Jacobs', 'Paul Lewis', 'Ben Jacobs', 'Ben Jacobs in Washington, Sabrina Siddiqui  in Manchester and Jeb Lund', 'Ryan Felton', 'Alan Yuhas with Paul Lewis in Cleveland, Jeb Lund in Tampa, Ben Jacobs in Atlanta, Dan Roberts and Sabrina Siddiqui in Washington and Adam Gabbatt in New York', 'Amanda Holpuch', 'Tom McCarthy', 'Tom Dart', 'Martin Kettle', 'Jeb Lund', 'Sabrina Siddiqui', 'Paul Lewis', 'Observer editorial', 'Dan Roberts', 'Frances Perraudin', 'Paul Lewis', 'Dan Roberts and Sabrina Siddiqui Washington', 'David Boyle', 'Rupert Myers', 'Paul Lewis', 'Anna Leach', 'Ben Jacobs', 'Paul Lewis', 'Jeb Lund', 'Alan Yuhas', 'Scott Lemieux', 'Sabrina Siddiqui', 'Alan Yuhas', 'Paul Lewis', 'Alan Yuhas', 'Patrick Wintour, political editor', 'Frances Perraudin', 'Gary Younge', 'Ben Jacobs in Washington and Alan Yuhas in New York', 'Tom McCarthy', 'Frances Perraudin', 'Sabrina Siddiqui', 'Paul Lewis ', 'Sabrina Siddiqui', 'Tom McCarthy', 'Paul Lewis', 'Sabrina Siddiqui', 'Dan Roberts', 'Ben Jacobs', 'Jeb Lund', 'Dan Roberts', 'Sabrina Siddiqui', 'Tom Dart', 'Amanda Holpuch', 'Ben Jacobs', 'Nicky Woolf', 'Paul Lewis', 'Tom McCarthy', 'Martin Pengelly', 'Ed Pilkington', 'Rose Hackman', 'Tom McCarthy in New York and Ben Jacobs in Washington', 'Ben Jacobs', 'Spencer Ackerman', 'Oliver Laughland', 'Jeb Lund', 'Sabrina Siddiqui', 'Daniel Boffey', 'Saeed Kamali Dehghan', 'Rowena Mason, political correspondent', 'Lauren Gambino', 'Tom McCarthy', 'Nicky Woolf', 'Ben Jacobs', 'Frances Perraudin\\r\\n', 'Tom Dart', 'Jeb Lund', 'Martin Pengelly', 'Ben Jacobs', 'Jeb Lund', 'Gustavo Arellano', 'Tom McCarthy', 'Jeb Lund', 'Dan Roberts', 'Ben Jacobs', 'John Longworth and Caron Lindsay', 'Saba Ahmed', 'Dan Roberts', 'Alan Yuhas', 'Alan Yuhas', 'Ryan Felton in Detroit and Associated Press', 'Tom McCarthy', 'Peter Beaumont', 'Editorial', 'Alan Yuhas', 'Nicky Woolf', 'Nadia Khomami, Claire Phippsand Andrew Sparrow', 'Julian Borger Diplomatic editor', 'Katharine Murphy Deputy political editor', 'Editorial', 'Lauren Gambino', 'Dan Roberts', 'Ben Jacobs', 'Kim Thomas and Jane Dudman', 'Frances Perraudin', 'Jon Swaine', 'Patrick Wintour Political editor', 'Dan Roberts in Washington and Martin Pengelly in New York', 'Ed Pilkington', 'Ben Jacobs', 'Paul Lewis and Dan Roberts in Washington', 'Nicholas Watt and Patrick Wintour', 'Jon Swaine', 'Jessica Valenti', 'Editorial', 'Owen Gibson', 'Dr David Givens', 'Amanda Holpuch', 'Lauren Gambino', 'Edward Helmore and Ben Jacobs', 'Nigel M Smith', 'Steven W Thrasher', 'Tom McCarthy', 'Martin Pengelly', 'Mahita Gajanan', 'Hadley Freeman', 'Lauren Gambino', 'Michael Cohen', 'Sam Thielman', 'Jeb Lund', 'Dan Roberts', 'Martin Kettle', 'Jeb Lund', 'Ben Jacobs', 'Alan Yuhas', 'Alan Yuhas', 'David Dayen', 'Tom McCarthy in New York and Ben Jacobs in Baltimore', 'Jeb Lund', 'Jana Kasperkevic', 'Sabrina Siddiqui', 'Frances Perraudin', 'Dan Roberts', 'Dan Roberts', 'Tom Dart', 'Monica Tan and Matthew Weaver', 'Donna Ferguson', 'Sabrina Siddiqui', 'Paul Lewis', 'Adam Gabbatt', 'Sabrina Siddiqui', 'Dan Roberts and Paul Lewis in Washington', 'Denis Campbell Health correspondent', 'Ben Jacobs', 'Edward Helmore', 'Suzanne Goldenberg', 'Ben Jacobs', 'Suzanne Goldenberg US environment correspondent, and Sabrina Siddiqui in Derry, New Hampshire', 'Daniel Hurst and Shalailah Medhora', 'Dan Roberts', 'Denis Campbell and Owen Bowcott', 'Tom McCarthy', 'Toby Helm', 'Jessica Murphy', 'Jessica Valenti', 'Dana Nuccitelli', 'Kevin Rawlinson and agencies', 'Dan Roberts', 'Patrick Wintour Political editor', 'Ben Jacobs in Washington and Tom Dart', 'Martin Pengelly', 'Sabrina Siddiqui', 'Ben Jacobs', 'Patrick Wintour Political editor', 'Richard Luscombe', 'David Crouch', 'Ben Jacobs', 'Alberto Nardelli , Feilding Cage and Kenton Powell', 'Paul Lewis', 'Suzanne Goldenberg', 'Ben Jacobs and Russ Choma in Washington', 'Kayla Epstein', 'Ben Jacobs', 'Frances Perraudin', 'Paul Lewis  and Dan Roberts in Washington', 'Dana Nuccitelli', 'Paul Lewis and Suzanne Goldenberg Washington', 'Andrew Sparrow , Jamie Grierson, Claire Phipps and Mark Smith', 'Ewen MacAskill', 'Dan Roberts', 'Rory Carroll', 'Tom McCarthy', 'Paul Lewis', 'Karl Mathiesen', 'Sabrina Siddiqui', 'Ben Jacobs', 'Dan Roberts', 'Alan Yuhas and Lauren Gambino in New York', 'Tom McCarthy', 'Bridie Jabour', 'Denis Campbell Health correspondent', 'John Harris', 'Andrew Sparrow,  Jamie Grierson and Peter Walker', 'Andrew Sparrow, Nadia Khomami and Mark Smith', 'Alan Yuhas', 'Sabrina Siddiqui', 'Sabrina Siddiqui', 'Tom Dart', 'Sabrina Siddiqui', 'Rowena Mason Political correspondent', 'Dan Roberts and Paul Lewis in Washington', 'Andrew Sparrow, Claire Phipps Matthew Weaver and  Nadia Khomami', 'Ana Marie Cox', 'Ed Pilkington', 'Dan Roberts', 'Dan Roberts', 'Ben Jacobs', 'Sabrina Siddiqui in Washington and Amanda Holpuch', 'Henry McDonald Ireland correspondent', 'Patrick Wintour', 'Nicky Woolf', 'Dan Roberts', 'Lenore Taylor', 'Dan Roberts', 'Sabrina Siddiqui', 'Ben Jacobs', 'Lenore Taylor Political editor', 'Dave Hill', 'Daniel Boffey', 'Paul Lewis', 'Patrick Diamond', 'Henry McDonald Ireland correspondent', 'Rory Carroll', 'Tom McCarthy', 'Gabrielle Chan'] \n",
      "236\n",
      "Counter({'Ben Jacobs': 22, 'Dan Roberts': 17, 'Sabrina Siddiqui': 16, 'Paul Lewis': 12, 'Tom McCarthy': 12, 'Jeb Lund': 10, 'Alan Yuhas': 9, 'Frances Perraudin': 7, 'Tom Dart': 5, 'Lauren Gambino': 4, 'Nicky Woolf': 4, 'Martin Pengelly': 4, 'Ed Pilkington': 3, 'Amanda Holpuch': 3, 'Editorial': 3, 'Patrick Wintour Political editor': 3, 'Michael Cohen': 2, 'Rory Carroll': 2, 'Daniel Boffey': 2, 'Dan Roberts and Paul Lewis in Washington': 2, 'Dana Nuccitelli': 2, 'Suzanne Goldenberg': 2, 'Henry McDonald Ireland correspondent': 2, 'Martin Kettle': 2, 'Denis Campbell Health correspondent': 2, 'Jon Swaine': 2, 'Jessica Valenti': 2, 'Mahita Gajanan': 1, 'David Boyle': 1, 'Andrew Sparrow, Nadia Khomami and Mark Smith': 1, 'Ben Jacobs in Washington, Sabrina Siddiqui  in Manchester and Jeb Lund': 1, 'John Longworth and Caron Lindsay': 1, 'Paul Lewis and Suzanne Goldenberg Washington': 1, 'Anna Leach': 1, 'Rowena Mason Political correspondent': 1, 'Steven W Thrasher': 1, 'Kayla Epstein': 1, 'Patrick Diamond': 1, 'Saeed Kamali Dehghan': 1, 'Gustavo Arellano': 1, 'Tom McCarthy in New York and Ben Jacobs in Baltimore': 1, 'Ana Marie Cox': 1, 'Dan Roberts and Sabrina Siddiqui Washington': 1, 'Edward Helmore': 1, 'Alan Yuhas and Lauren Gambino in New York': 1, 'Denis Campbell and Owen Bowcott': 1, 'Richard Luscombe': 1, 'Nigel M Smith': 1, 'Julian Borger Diplomatic editor': 1, 'Suzanne Goldenberg US environment correspondent, and Sabrina Siddiqui in Derry, New Hampshire': 1, 'Ben Jacobs and Russ Choma in Washington': 1, 'Scott Lemieux': 1, 'Ben Jacobs in Washington and Tom Dart': 1, 'Rowena Mason, political correspondent': 1, 'Lenore Taylor Political editor': 1, 'Gary Younge': 1, 'Donna Ferguson': 1, 'Paul Lewis  and Dan Roberts in Washington': 1, 'Andrew Sparrow,  Jamie Grierson and Peter Walker': 1, 'Adam Gabbatt': 1, 'Hadley Freeman': 1, 'Katharine Murphy Deputy political editor': 1, 'Alan Yuhas with Paul Lewis in Cleveland, Jeb Lund in Tampa, Ben Jacobs in Atlanta, Dan Roberts and Sabrina Siddiqui in Washington and Adam Gabbatt in New York': 1, 'Andrew Sparrow, Claire Phipps Matthew Weaver and  Nadia Khomami': 1, 'Kim Thomas and Jane Dudman': 1, 'Dr David Givens': 1, 'Karl Mathiesen': 1, 'Paul Lewis and Dan Roberts in Washington': 1, 'Rose Hackman': 1, 'Edward Helmore and Ben Jacobs': 1, 'Daniel Hurst and Shalailah Medhora': 1, 'Nicholas Watt and Patrick Wintour': 1, 'Paul Lewis ': 1, 'Ryan Felton': 1, 'David Crouch': 1, 'Lenore Taylor': 1, 'Gabrielle Chan': 1, 'Owen Gibson': 1, 'Observer editorial': 1, 'Tom McCarthy in New York and Ben Jacobs in Washington': 1, 'Dan Roberts in Washington and Martin Pengelly in New York': 1, 'Kevin Rawlinson and agencies': 1, 'Scott Keyes': 1, 'Andrew Sparrow , Jamie Grierson, Claire Phipps and Mark Smith': 1, 'Patrick Wintour, political editor': 1, 'Alberto Nardelli , Feilding Cage and Kenton Powell': 1, 'Monica Tan and Matthew Weaver': 1, 'Patrick Wintour': 1, 'David Dayen': 1, 'Frances Perraudin\\r\\n': 1, 'Ewen MacAskill': 1, 'John Harris': 1, 'Ben Jacobs in Washington and Alan Yuhas in New York': 1, 'Spencer Ackerman': 1, 'Rupert Myers': 1, 'Saba Ahmed': 1, 'Toby Helm': 1, 'Dave Hill': 1, 'Sabrina Siddiqui in Washington and Amanda Holpuch': 1, 'Peter Beaumont': 1, 'Bridie Jabour': 1, 'Jessica Murphy': 1, 'Ryan Felton in Detroit and Associated Press': 1, 'Sam Thielman': 1, 'Jana Kasperkevic': 1, 'Nadia Khomami, Claire Phippsand Andrew Sparrow': 1, 'Oliver Laughland': 1})\n"
     ]
    }
   ],
   "source": [
    "def make_dict(loc=False):\n",
    "    authors = []\n",
    "    names = []\n",
    "    auth_ar = defaultdict(dd)\n",
    "    for b in range(len(all_data)):\n",
    "        if \"fields\" in all_data[b]:\n",
    "            if \"blocks\" in all_data[b]:\n",
    "                #print b\n",
    "                nm = str(all_data[b][\"fields\"][\"byline\"]).strip()\n",
    "                #print nm\n",
    "                authors.append(nm)\n",
    "                if not loc:\n",
    "                    nm = get_human_names(str(all_data[b][\"fields\"][\"byline\"]))\n",
    "                names.append(nm)\n",
    "                auth_ar[nm] += all_data[b][\"blocks\"][\"body\"][0][\"bodyTextSummary\"]\n",
    "    return names, auth_ar\n",
    "names, auth_ar = make_dict()\n",
    "print names, \"\\n\", len(names)\n",
    "#pprint(authors)\n",
    "counts = Counter(names)\n",
    "print(counts)"
   ]
  },
  {
   "cell_type": "code",
   "execution_count": 283,
   "metadata": {
    "collapsed": false
   },
   "outputs": [
    {
     "name": "stdout",
     "output_type": "stream",
     "text": [
      "23240\n"
     ]
    }
   ],
   "source": [
    "print len(auth_ar[\"Frances Perraudin\"])"
   ]
  },
  {
   "cell_type": "code",
   "execution_count": 284,
   "metadata": {
    "collapsed": false,
    "scrolled": true
   },
   "outputs": [
    {
     "name": "stdout",
     "output_type": "stream",
     "text": [
      "607\n"
     ]
    }
   ],
   "source": [
    "print len(sent_tokenize(auth_ar[\"Paul Lewis\"]))"
   ]
  },
  {
   "cell_type": "code",
   "execution_count": 285,
   "metadata": {
    "collapsed": false
   },
   "outputs": [
    {
     "name": "stdout",
     "output_type": "stream",
     "text": [
      "Mahita Gajanan 22\n",
      "Frances Perraudin 108\n",
      "David Boyle 31\n",
      "Andrew Sparrow, Nadia Khomami and Mark Smith 46\n",
      "Ben Jacobs in Washington, Sabrina Siddiqui  in Manchester and Jeb Lund 10\n",
      "John Longworth and Caron Lindsay 30\n",
      "Paul Lewis and Suzanne Goldenberg Washington 41\n",
      "Anna Leach 49\n",
      "Rowena Mason Political correspondent 114\n",
      "Steven W Thrasher 29\n",
      "Sabrina Siddiqui 550\n",
      "Kayla Epstein 53\n",
      "Patrick Diamond 22\n",
      "Saeed Kamali Dehghan 25\n",
      "Gustavo Arellano 30\n",
      "Tom McCarthy in New York and Ben Jacobs in Baltimore 18\n",
      "Ana Marie Cox 44\n",
      "Dan Roberts and Sabrina Siddiqui Washington 20\n",
      "Edward Helmore 41\n",
      "Alan Yuhas and Lauren Gambino in New York 17\n",
      "Denis Campbell and Owen Bowcott 36\n",
      "Richard Luscombe 26\n",
      "Nigel M Smith 40\n",
      "Julian Borger Diplomatic editor 24\n",
      "Suzanne Goldenberg US environment correspondent, and Sabrina Siddiqui in Derry, New Hampshire 25\n",
      "Ben Jacobs and Russ Choma in Washington 23\n",
      "Scott Lemieux 38\n",
      "Michael Cohen 91\n",
      "Ben Jacobs in Washington and Tom Dart 31\n",
      "Rory Carroll 76\n",
      "Ed Pilkington 98\n",
      "Rowena Mason, political correspondent 59\n",
      "Lenore Taylor Political editor 20\n",
      "Gary Younge 55\n",
      "Lauren Gambino 148\n",
      "Daniel Boffey 121\n",
      "Donna Ferguson 107\n",
      "Paul Lewis  and Dan Roberts in Washington 38\n",
      "Andrew Sparrow,  Jamie Grierson and Peter Walker 37\n",
      "Adam Gabbatt 56\n",
      "Hadley Freeman 48\n",
      "Katharine Murphy Deputy political editor 23\n",
      "Alan Yuhas with Paul Lewis in Cleveland, Jeb Lund in Tampa, Ben Jacobs in Atlanta, Dan Roberts and Sabrina Siddiqui in Washington and Adam Gabbatt in New York 1\n",
      "Andrew Sparrow, Claire Phipps Matthew Weaver and  Nadia Khomami 4\n",
      "Kim Thomas and Jane Dudman 18\n",
      "Paul Lewis 607\n",
      "Dr David Givens 14\n",
      "Dan Roberts and Paul Lewis in Washington 58\n",
      "Karl Mathiesen 23\n",
      "Amanda Holpuch 67\n",
      "Dana Nuccitelli 78\n",
      "Paul Lewis and Dan Roberts in Washington 29\n",
      "Rose Hackman 39\n",
      "Edward Helmore and Ben Jacobs 38\n",
      "Daniel Hurst and Shalailah Medhora 30\n",
      "Nicholas Watt and Patrick Wintour 18\n",
      "Paul Lewis  39\n",
      "Suzanne Goldenberg 61\n",
      "Ryan Felton 17\n",
      "David Crouch 29\n",
      "Nicky Woolf 90\n",
      "Lenore Taylor 37\n",
      "Gabrielle Chan 43\n",
      "Owen Gibson 25\n",
      "Observer editorial 24\n",
      "Tom McCarthy in New York and Ben Jacobs in Washington 46\n",
      "Dan Roberts in Washington and Martin Pengelly in New York 25\n",
      "Kevin Rawlinson and agencies 16\n",
      "Tom McCarthy 515\n",
      "Editorial 87\n",
      "Scott Keyes 44\n",
      "Andrew Sparrow , Jamie Grierson, Claire Phipps and Mark Smith 14\n",
      "Patrick Wintour, political editor 22\n",
      "Alberto Nardelli , Feilding Cage and Kenton Powell 21\n",
      "Monica Tan and Matthew Weaver 17\n",
      "Patrick Wintour 27\n",
      "David Dayen 69\n",
      "Henry McDonald Ireland correspondent 31\n",
      "Martin Kettle 75\n",
      "Frances Perraudin\n",
      "11\n",
      "Tom Dart 172\n",
      "Dan Roberts 412\n",
      "Ewen MacAskill 59\n",
      "John Harris 63\n",
      "Ben Jacobs in Washington and Alan Yuhas in New York 30\n",
      "Spencer Ackerman 44\n",
      "Patrick Wintour Political editor 77\n",
      "Rupert Myers 16\n",
      "Saba Ahmed 21\n",
      "Denis Campbell Health correspondent 77\n",
      "Martin Pengelly 74\n",
      "Alan Yuhas 261\n",
      "Jon Swaine 65\n",
      "Toby Helm 23\n",
      "Ben Jacobs 535\n",
      "Dave Hill 16\n",
      "Sabrina Siddiqui in Washington and Amanda Holpuch 20\n",
      "Peter Beaumont 39\n",
      "Jeb Lund 417\n",
      "Bridie Jabour 16\n",
      "Jessica Murphy 63\n",
      "Ryan Felton in Detroit and Associated Press 25\n",
      "Sam Thielman 51\n",
      "Jana Kasperkevic 29\n",
      "Nadia Khomami, Claire Phippsand Andrew Sparrow 7\n",
      "Jessica Valenti 52\n",
      "Oliver Laughland 19\n"
     ]
    }
   ],
   "source": [
    "for author, text in auth_ar.iteritems():\n",
    "    print author, len(sent_tokenize(text))"
   ]
  },
  {
   "cell_type": "code",
   "execution_count": 292,
   "metadata": {
    "collapsed": false
   },
   "outputs": [],
   "source": [
    "with open(\"author_articles.pkl\", 'w') as out_auth_ar:\n",
    "    pickle.dump(auth_ar, out_auth_ar)"
   ]
  },
  {
   "cell_type": "code",
   "execution_count": null,
   "metadata": {
    "collapsed": true
   },
   "outputs": [],
   "source": []
  },
  {
   "cell_type": "code",
   "execution_count": null,
   "metadata": {
    "collapsed": true
   },
   "outputs": [],
   "source": []
  }
 ],
 "metadata": {
  "kernelspec": {
   "display_name": "Python 2",
   "language": "python",
   "name": "python2"
  },
  "language_info": {
   "codemirror_mode": {
    "name": "ipython",
    "version": 2
   },
   "file_extension": ".py",
   "mimetype": "text/x-python",
   "name": "python",
   "nbconvert_exporter": "python",
   "pygments_lexer": "ipython2",
   "version": "2.7.6"
  }
 },
 "nbformat": 4,
 "nbformat_minor": 0
}
