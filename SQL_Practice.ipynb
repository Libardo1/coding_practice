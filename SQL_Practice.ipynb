{
 "metadata": {
  "name": ""
 },
 "nbformat": 3,
 "nbformat_minor": 0,
 "worksheets": [
  {
   "cells": [
    {
     "cell_type": "markdown",
     "metadata": {},
     "source": [
      "###Practice\n",
      "\n",
      "http://www.w3schools.com/sql/trysql.asp?filename=trysql_select_all\n",
      "\n",
      "1. What customers are from the UK?  \n",
      "2. What is the name of the customer who has the most orders?  \n",
      "3. What supplier has the highest average product price?  \n",
      "4. How many different countries are there customers from? (Hint: Consider DISTINCT.)  \n",
      "5. What category appears in the most orders?  \n",
      "6. What was the total cost for each order?  \n",
      "7. What employee made the most sales (by total cost)?  \n",
      "8. What Employees have BS degrees? (Hint: Look at the LIKE operator.)  \n",
      "9. What supplier of three or more products has the highest average product price? (Hint: Look at the HAVING operator.)  "
     ]
    },
    {
     "cell_type": "markdown",
     "metadata": {},
     "source": [
      "1. What customers are from the UK?  \n",
      "        SELECT * FROM Customers WHERE Country = 'UK';  \n",
      "  7 UK customers    \n",
      "    \n",
      "2. What is the name of the customer who has the most orders?   \n",
      "        SELECT Customers.CustomerName, COUNT(\\*) AS count FROM Orders JOIN Customers ON \n",
      "            Orders.CustomerID = Customers.CustomerID GROUP BY Orders.CustomerID ORDER BY count DESC;  \n",
      "  Ernst Handel\t    10  \n",
      "  \n",
      "3. What supplier has the highest average product price?     \n",
      "        SELECT Suppliers.SupplierName, AVG(Products.Price) AS avg FROM Products JOIN Suppliers WHERE Suppliers.SupplierID = \n",
      "            Products.SupplierID GROUP BY Products.SupplierID ORDER BY avg DESC LIMIT 1;  \n",
      "  Aux joyeux eccl\u00e9siastiques\t140.75\n",
      "\n",
      "4. How many different countries are there customers from? (Hint: Consider DISTINCT.)   \n",
      "        SELECT COUNT(DISTINCT Country) FROM Customers;  \n",
      "  21\n",
      "  \n",
      "5. What category appears in the most orders?  \\*Which one category appears in the largest number of orders\\*\n",
      "        SELECT CategoryName, COUNT(*) AS count From (  \n",
      "            SELECT Categories.CategoryName, Products.ProductID, Products.ProductName, OrderDetails.OrderID FROM Categories JOIN \n",
      "                Products JOIN OrderDetails WHERE Categories.CategoryID = Products.CategoryID AND \n",
      "                Products.ProductID = OrderDetails.ProductID GROUP BY CategoryName, OrderID)\n",
      "        GROUP BY CategoryName LIMIT 1;  \n",
      "    Beverages\t80  \n",
      "    \n",
      "6. What was the total cost for each order?\n",
      "        SELECT OrderDetails.OrderID, SUM(Products.Price) FROM Products JOIN OrderDetails WHERE Products.ProductID = \n",
      "            OrderDetails.ProductID GROUP BY OrderID;  \n",
      "              \n",
      "    10248\t69.8  \n",
      "    10249\t76.25  \n",
      "    10250\t83.7\n",
      "    \n",
      "7. What employee made the most sales (by total cost)?\n",
      "        SELECT EmployeeID, Sum(sumpr) AS order_sum From\n",
      "            (SELECT OrderDetails.OrderID, Employees.EmployeeID, SUM(Products.Price) AS sumpr FROM Products JOIN OrderDetails \n",
      "                JOIN Orders JOIN Employees WHERE Products.ProductID = OrderDetails.ProductID AND OrderDetails.OrderID = \n",
      "                Orders.OrderID AND Orders.EmployeeID = Employees.EmployeeID GROUP BY OrderDetails.OrderID)\n",
      "        GROUP BY EmployeeID ORDER BY order_sum DESC LIMIT 1;  \n",
      "        \n",
      "    EmployeeID, Cost  \n",
      "    4\t           3887.2200000000003  \n",
      "\n",
      "8. What Employees have BS degrees? (Hint: Look at the LIKE operator.)\n",
      "        SELECT * FROM Employees WHERE Notes LIKE '% BS %'  \n",
      "        \n",
      "   3\tLeverling\tJanet\t1963-08-30\tEmpID3.pic\tJanet has a BS degree in chemistry from Boston College). She has also completed a certificate program in food retailing management. Janet was hired as a sales associate and was promoted to sales representative.  \n",
      "\n",
      "9. What supplier of three or more products has the highest average product price? (Hint: Look at the HAVING operator.)  \n",
      "        SELECT SupplierID, AVG(Products.Price) AS avgpr FROM Products GROUP BY Products.SupplierID HAVING \n",
      "            COUNT(Products.ProductID) > 3 ORDER BY avgpr DESC LIMIT 1;\n",
      "        \n",
      "   12\t44.678000000000004"
     ]
    },
    {
     "cell_type": "code",
     "collapsed": false,
     "input": [
      "SELECT Suppliers.SupplierName, AVG(Products.Price) AS avg FROM Products JOIN Suppliers WHERE Suppliers.SupplierID = Products.SupplierID GROUP BY Products.SupplierID ORDER BY avg DESC LIMIT 1"
     ],
     "language": "python",
     "metadata": {},
     "outputs": []
    },
    {
     "cell_type": "code",
     "collapsed": false,
     "input": [
      "SELECT Categories.CategoryName, Products.ProductID, Products.ProductName, OrderDetails.OrderID FROM Categories JOIN Products JOIN OrderDetails WHERE Categories.CategoryID = Products.CategoryID AND Products.ProductID = OrderDetails.ProductID GROUP BY CategoryName, OrderID COUNT(CategoryName) GROUP BY CategoryName;"
     ],
     "language": "python",
     "metadata": {},
     "outputs": []
    },
    {
     "cell_type": "code",
     "collapsed": false,
     "input": [
      "SELECT Products.ProductID, Products.Price, OrderDetails.OrderID, SUM(Products.Price) FROM Products JOIN OrderDetails WHERE Products.ProductID = OrderDetails.ProductID GROUP BY OrderID;"
     ],
     "language": "python",
     "metadata": {},
     "outputs": []
    },
    {
     "cell_type": "code",
     "collapsed": false,
     "input": [
      "SELECT EmployeeID, Sum(sumpr) AS order_sum From\n",
      "    (SELECT OrderDetails.OrderID, Employees.EmployeeID, SUM(Products.Price) AS sumpr FROM Products JOIN OrderDetails JOIN Orders JOIN Employees WHERE Products.ProductID = OrderDetails.ProductID AND OrderDetails.OrderID = Orders.OrderID AND Orders.EmployeeID = Employees.EmployeeID GROUP BY OrderDetails.OrderID)\n",
      "GROUP BY EmployeeID ORDER BY order_sum DESC LIMIT 1; "
     ],
     "language": "python",
     "metadata": {},
     "outputs": []
    }
   ],
   "metadata": {}
  }
 ]
}