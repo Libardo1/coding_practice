{
 "cells": [
  {
   "cell_type": "code",
   "execution_count": 86,
   "metadata": {
    "collapsed": true
   },
   "outputs": [],
   "source": [
    "import pickle\n",
    "from pprint import pprint\n",
    "import seaborn as sns\n",
    "import matplotlib.pyplot as plt\n",
    "\n",
    "from pymongo import MongoClient\n",
    "\n",
    "from bson.son import SON\n",
    "from bson.code import Code\n",
    "\n",
    "%matplotlib inline"
   ]
  },
  {
   "cell_type": "code",
   "execution_count": 2,
   "metadata": {
    "collapsed": true
   },
   "outputs": [],
   "source": [
    "with open('ip.txt', 'r') as inip:\n",
    "    ip = inip.next().strip()"
   ]
  },
  {
   "cell_type": "code",
   "execution_count": 3,
   "metadata": {
    "collapsed": false
   },
   "outputs": [],
   "source": [
    "client = MongoClient(ip)"
   ]
  },
  {
   "cell_type": "code",
   "execution_count": 4,
   "metadata": {
    "collapsed": false
   },
   "outputs": [
    {
     "data": {
      "text/plain": [
       "['raw',\n",
       " 'head',\n",
       " 'metal_cred',\n",
       " 'title',\n",
       " 'direct',\n",
       " 'solid_metal_nuggets',\n",
       " 'cast',\n",
       " 'the_meat',\n",
       " 'year',\n",
       " 'sections']"
      ]
     },
     "execution_count": 4,
     "metadata": {},
     "output_type": "execute_result"
    }
   ],
   "source": [
    "'''with open('heavy_metal_parsed.pkl', 'r') as infile:\n",
    "    reviews = pickle.load(infile)\n",
    "reviews[0].keys()\n",
    "#reviews[0]'''"
   ]
  },
  {
   "cell_type": "code",
   "execution_count": 5,
   "metadata": {
    "collapsed": false
   },
   "outputs": [
    {
     "data": {
      "text/plain": [
       "877"
      ]
     },
     "execution_count": 5,
     "metadata": {},
     "output_type": "execute_result"
    }
   ],
   "source": [
    "#len(reviews)"
   ]
  },
  {
   "cell_type": "code",
   "execution_count": 4,
   "metadata": {
    "collapsed": true
   },
   "outputs": [],
   "source": [
    "db = client.heavy_metal_db\n",
    "hmm = db.hmm"
   ]
  },
  {
   "cell_type": "code",
   "execution_count": 9,
   "metadata": {
    "collapsed": false
   },
   "outputs": [],
   "source": [
    "#hmm.insert(reviews[0])\n",
    "#hmm.find().next()"
   ]
  },
  {
   "cell_type": "code",
   "execution_count": 10,
   "metadata": {
    "collapsed": true
   },
   "outputs": [],
   "source": [
    "#for review in reviews[1:]:\n",
    "#    hmm.save(review)\n",
    "\n",
    "#cursor = hmm.find()"
   ]
  },
  {
   "cell_type": "code",
   "execution_count": 5,
   "metadata": {
    "collapsed": false
   },
   "outputs": [
    {
     "data": {
      "text/plain": [
       "856"
      ]
     },
     "execution_count": 5,
     "metadata": {},
     "output_type": "execute_result"
    }
   ],
   "source": [
    "hmm.count()"
   ]
  },
  {
   "cell_type": "markdown",
   "metadata": {},
   "source": [
    "#####Challenge 1\n",
    "Make a histogram of the years in the data. How many metal movies came\n",
    "out over the years?"
   ]
  },
  {
   "cell_type": "code",
   "execution_count": 6,
   "metadata": {
    "collapsed": false
   },
   "outputs": [],
   "source": [
    "chal1 = hmm.find()\n",
    "yrlist = []\n",
    "for c1 in chal1:\n",
    "    yrlist.append(c1[\"year\"])\n",
    "#print yrlist"
   ]
  },
  {
   "cell_type": "code",
   "execution_count": 7,
   "metadata": {
    "collapsed": false
   },
   "outputs": [
    {
     "data": {
      "image/png": "[encoded data removed]",
      "text/plain": [
       "<matplotlib.figure.Figure at 0x7f406af91d90>"
      ]
     },
     "metadata": {},
     "output_type": "display_data"
    }
   ],
   "source": [
    "plt.hist(yrlist, bins=40)\n",
    "plt.xlabel(\"year\")\n",
    "plt.ylabel(\"count\")\n",
    "plt.title(\"metal movies per year\")\n",
    "plt.show()"
   ]
  },
  {
   "cell_type": "markdown",
   "metadata": {},
   "source": [
    "##### Challenge 2\n",
    "Find the cast member that appeared in most Heavy Metal movies. Is\n",
    "there one that is shared by more than one of these movies? Or are they\n",
    "all completely different actors for every movie?"
   ]
  },
  {
   "cell_type": "code",
   "execution_count": 10,
   "metadata": {
    "collapsed": true
   },
   "outputs": [],
   "source": [
    "pipeline = [\n",
    "        {\"$unwind\": \"$cast\"},\n",
    "        {\"$group\": {\"_id\": \"$cast\", \"count\": {\"$sum\": 1}}},\n",
    "        {\"$sort\": SON([(\"count\", -1), (\"_id\", -1)])}\n",
    "]"
   ]
  },
  {
   "cell_type": "code",
   "execution_count": 14,
   "metadata": {
    "collapsed": false
   },
   "outputs": [
    {
     "data": {
      "text/plain": [
       "{u'_id': u'Alice Cooper', u'count': 15}"
      ]
     },
     "execution_count": 14,
     "metadata": {},
     "output_type": "execute_result"
    }
   ],
   "source": [
    "list(hmm.aggregate(pipeline))[1]"
   ]
  },
  {
   "cell_type": "markdown",
   "metadata": {},
   "source": [
    "##### Challenge 3\n",
    "Find the most used words in Heavy Metal film titles. Is there a word\n",
    "that appears in a lot of them? Is it \"The\"? If it is something like\n",
    "\"the\", How can you get around that? Find one \"meaningful\" word that\n",
    "appears the most (this means non-structural word, unlike \"the\" or \"a\"\n",
    "or \"in\")"
   ]
  },
  {
   "cell_type": "code",
   "execution_count": 135,
   "metadata": {
    "collapsed": true
   },
   "outputs": [],
   "source": [
    "mapper = Code(\"\"\"\n",
    "              function () {\n",
    "                  this.title.replace(/[.,-\\/#!$%\\^&\\*;:{}=\\-_`~()]/g,\"\").split(\" \").forEach(function(z) {\n",
    "                      \n",
    "                       if (z.length > 3){\n",
    "                           emit(z, 1);\n",
    "                       }\n",
    "                  });\n",
    "              }\n",
    "               \"\"\")"
   ]
  },
  {
   "cell_type": "code",
   "execution_count": 136,
   "metadata": {
    "collapsed": true
   },
   "outputs": [],
   "source": [
    "reducer = Code(\"\"\"\n",
    "                function (key, values) {\n",
    "                  var total = 0;\n",
    "                  for (var i = 0; i < values.length; i++) {\n",
    "                    total += values[i];\n",
    "                  }\n",
    "                  return total;\n",
    "                }\n",
    "                \"\"\")"
   ]
  },
  {
   "cell_type": "code",
   "execution_count": 137,
   "metadata": {
    "collapsed": true
   },
   "outputs": [],
   "source": [
    "result = hmm.map_reduce(mapper, reducer, \"results\")"
   ]
  },
  {
   "cell_type": "code",
   "execution_count": 138,
   "metadata": {
    "collapsed": false
   },
   "outputs": [
    {
     "name": "stdout",
     "output_type": "stream",
     "text": [
      "{u'_id': u'METAL', u'value': 36.0}\n",
      "{u'_id': u'DEAD', u'value': 24.0}\n",
      "{u'_id': u'HEAVY', u'value': 19.0}\n",
      "{u'_id': u'ROCK', u'value': 19.0}\n",
      "{u'_id': u'BLACK', u'value': 14.0}\n",
      "{u'_id': u'BLOOD', u'value': 14.0}\n",
      "{u'_id': u'LAST', u'value': 13.0}\n",
      "{u'_id': u'NIGHT', u'value': 13.0}\n",
      "{u'_id': u'DEATH', u'value': 12.0}\n",
      "{u'_id': u'DEVIL', u'value': 12.0}\n"
     ]
    }
   ],
   "source": [
    "for r in result.find().sort(\"value\", -1).limit(10):\n",
    "    print r"
   ]
  },
  {
   "cell_type": "markdown",
   "metadata": {},
   "source": [
    "##### Challenge 4\n",
    "METAL CRED section lists themes included in these movies that makes\n",
    "them more metal.\n",
    "What were the top 5 metal cred keywords in the 70s? In 80s? In 90s, In\n",
    "2000s?"
   ]
  },
  {
   "cell_type": "code",
   "execution_count": 147,
   "metadata": {
    "collapsed": false
   },
   "outputs": [],
   "source": [
    "def metal_cred(yrstart, yrend):\n",
    "    mappermc = Code(\"\"\"\n",
    "                    function () {\n",
    "                        this.metal_cred.forEach(function(z) {\n",
    "                            if (z.replace(/[.,-\\/#!$%\\^&\\*;:{}=\\-_`~()\\\\n]/g,\" \") != 'METAL CRED'){\n",
    "                                emit(z, 1);\n",
    "                            }\n",
    "                        });\n",
    "                    }\n",
    "                   \"\"\")\n",
    "    reducermc = Code(\"\"\"\n",
    "                     function (key, values) {\n",
    "                      var total = 0;\n",
    "                      for (var i = 0; i < values.length; i++) {\n",
    "                        total += values[i];\n",
    "                      }\n",
    "                      return total;\n",
    "                    }\n",
    "                    \"\"\")\n",
    "    resultmc = hmm.map_reduce(mappermc, reducermc, \"results\", query={\"$and\": [{\"year\": {\"$gte\": yrstart}},{\"year\":{\"$lt\": yrend}}]}) #query={\"year\": {\"$gte\": yrstart, \"$lt\": yrend}}) \n",
    "    return resultmc"
   ]
  },
  {
   "cell_type": "code",
   "execution_count": 148,
   "metadata": {
    "collapsed": false
   },
   "outputs": [
    {
     "name": "stdout",
     "output_type": "stream",
     "text": [
      "\n",
      "1970 1980\n",
      "{u'_id': u'Satan', u'value': 19.0}\n",
      "{u'_id': u'Black Mass', u'value': 10.0}\n",
      "{u'_id': u'Post-Apocalypse', u'value': 7.0}\n",
      "{u'_id': u'Video Nasty', u'value': 7.0}\n",
      "{u'_id': u'Giallo', u'value': 6.0}\n",
      "\n",
      "1980 1990\n",
      "{u'_id': u'Post-Apocalypse', u'value': 29.0}\n",
      "{u'_id': u'Sword and Sorcery', u'value': 20.0}\n",
      "{u'_id': u'Satan', u'value': 16.0}\n",
      "{u'_id': u'Video Nasty', u'value': 12.0}\n",
      "{u'_id': u'Zombies', u'value': 11.0}\n",
      "\n",
      "1990 2000\n",
      "{u'_id': u'Satan', u'value': 7.0}\n",
      "{u'_id': u'Gwar', u'value': 6.0}\n",
      "{u'_id': u'Lemmy', u'value': 4.0}\n",
      "{u'_id': u'Post-Apocalypse', u'value': 4.0}\n",
      "{u'_id': u'Alice Cooper', u'value': 3.0}\n",
      "\n",
      "2000 2010\n",
      "{u'_id': u'Torture Porn', u'value': 11.0}\n",
      "{u'_id': u'Satan', u'value': 7.0}\n",
      "{u'_id': u'Jigsaw', u'value': 4.0}\n",
      "{u'_id': u'Music Score: Charlie Clouser', u'value': 4.0}\n",
      "{u'_id': u'Rob Zombie', u'value': 4.0}\n"
     ]
    }
   ],
   "source": [
    "yrslist = [1970, 1980, 1990, 2000, 2010]\n",
    "for y1, y in enumerate(yrslist[:-1]):\n",
    "    print \"\\n\", y, yrslist[y1+1]\n",
    "    resultmc = metal_cred(y, yrslist[y1+1])\n",
    "    for r in resultmc.find().sort(\"value\", -1).limit(5):\n",
    "        #print(str(r[\"_id\"])  + \"\\t\" + str(r[\"value\"]))\n",
    "        print r"
   ]
  },
  {
   "cell_type": "markdown",
   "metadata": {},
   "source": [
    "##### Challenge 5\n",
    "Let's use the length of the METAL CRED section as a proxy score for\n",
    "how metal a movie is. Let's call this the METAL SCORE. To each mongo\n",
    "document, add the metal_score as a new field."
   ]
  },
  {
   "cell_type": "code",
   "execution_count": null,
   "metadata": {
    "collapsed": true
   },
   "outputs": [],
   "source": []
  },
  {
   "cell_type": "code",
   "execution_count": null,
   "metadata": {
    "collapsed": true
   },
   "outputs": [],
   "source": []
  },
  {
   "cell_type": "markdown",
   "metadata": {},
   "source": [
    "##### Challenge 6\n",
    "Find the director that is MOST METAL per movie (director with the\n",
    "highest average metal score).\n",
    "Remember that some movies have multiple directors."
   ]
  },
  {
   "cell_type": "code",
   "execution_count": null,
   "metadata": {
    "collapsed": true
   },
   "outputs": [],
   "source": []
  },
  {
   "cell_type": "code",
   "execution_count": null,
   "metadata": {
    "collapsed": true
   },
   "outputs": [],
   "source": []
  },
  {
   "cell_type": "markdown",
   "metadata": {},
   "source": [
    "##### Challenge 7\n",
    "The majority of directors and actors will have worked on a single\n",
    "movie. See if there are any directors that worked with an actor more\n",
    "than once. If so, find the director-actor duo that have worked\n",
    "together the most times."
   ]
  },
  {
   "cell_type": "code",
   "execution_count": null,
   "metadata": {
    "collapsed": true
   },
   "outputs": [],
   "source": []
  },
  {
   "cell_type": "code",
   "execution_count": null,
   "metadata": {
    "collapsed": true
   },
   "outputs": [],
   "source": []
  },
  {
   "cell_type": "markdown",
   "metadata": {},
   "source": [
    "##### Challenge 8\n",
    "Create an index on the 'director' field to make the queries involving\n",
    "it faster.\n",
    "[What is an index?](http://en.wikipedia.org/wiki/Database_index)\n",
    "\n",
    "[Creating an index in mongo](http://docs.mongodb.org/manual/tutorial/create-an-index/)\n",
    "[Creating an index in pymongo](http://api.mongodb.org/python/current/api/pymongo/collection.html?highlight=create_index#pymongo.collection.Collection.create_index)\n",
    "[Single field index on mongo](http://docs.mongodb.org/manual/core/index-single/)\n",
    "[Mongo documentation on indexes](http://docs.mongodb.org/manual/core/indexes/)"
   ]
  },
  {
   "cell_type": "code",
   "execution_count": null,
   "metadata": {
    "collapsed": true
   },
   "outputs": [],
   "source": []
  },
  {
   "cell_type": "code",
   "execution_count": null,
   "metadata": {
    "collapsed": true
   },
   "outputs": [],
   "source": []
  },
  {
   "cell_type": "markdown",
   "metadata": {},
   "source": [
    "##### Challenge 9 (Optional challenge for early finishers)\n",
    "For each decade, make a histogram of metal scores.\n",
    "Also, calculate the average metal score for each decade. Which decade\n",
    "was the most pure metal decade?"
   ]
  },
  {
   "cell_type": "code",
   "execution_count": null,
   "metadata": {
    "collapsed": true
   },
   "outputs": [],
   "source": []
  },
  {
   "cell_type": "code",
   "execution_count": null,
   "metadata": {
    "collapsed": true
   },
   "outputs": [],
   "source": []
  },
  {
   "cell_type": "markdown",
   "metadata": {},
   "source": [
    "##### Note (rather than a challenge)\n",
    "In the latest version of mongo, you can do a text query.\n",
    "To do this, you need to create one (only one) text-based index.\n",
    "Let's index the_meat field so we can make text search queries on it\n",
    "(in pymongo):\n",
    "\n",
    "db.reviews.create_index([(\"the_meat\", pymongo.TEXT,)])\n",
    "\n",
    "Now you can do text search. For example, let's search for the phrase\n",
    "\"hitting power chords\" within \"the_meat\" fields of all our documents.\n",
    "\n",
    "    db.reviews.find({\"$text\": {\"$search\": \"hitting power\n",
    "    chords\"}}).count()\n",
    "\n",
    "    206\n",
    "\n",
    "It has found 206 reviews. I can print the titles of the first 10\n",
    "reviews that were returned in this text search:\n",
    "\n",
    "    ten_matches = r.find({\"$text\": {\"$search\": \"hitting power chords\"}}).limit(10)\n",
    "    for match in ten_matches:\n",
    "        print match[\"title\"]\n",
    "\n",
    "\n",
    "    DOMINATOR\n",
    "    REPO: THE GENETIC OPERA\n",
    "    GREMLINS 2: THE NEW BATCH\n",
    "    VICE SQUAD\n",
    "    THE JERKY BOYS: THE MOVIE\n",
    "    THE SONG REMAINS THE SAME\n",
    "    THE EXORCIST\n",
    "    THE CROW\n",
    "    CANNIBAL HOLOCAUST\n",
    "    HOSTEL\n",
    "\n",
    "Enjoy your text searches : ) These can be very useful in some apps.\n",
    "\n"
   ]
  },
  {
   "cell_type": "code",
   "execution_count": null,
   "metadata": {
    "collapsed": true
   },
   "outputs": [],
   "source": []
  },
  {
   "cell_type": "code",
   "execution_count": null,
   "metadata": {
    "collapsed": true
   },
   "outputs": [],
   "source": []
  },
  {
   "cell_type": "markdown",
   "metadata": {},
   "source": [
    "### Twitter API Extension\n",
    "\n",
    "Create a mongo collection of tweets about something (anything you\n",
    "choose).\n",
    "\n",
    "Each mongo document should contain the text, username, favorite count\n",
    "and retweet count of the tweet."
   ]
  },
  {
   "cell_type": "code",
   "execution_count": null,
   "metadata": {
    "collapsed": true
   },
   "outputs": [],
   "source": []
  }
 ],
 "metadata": {
  "kernelspec": {
   "display_name": "Python 2",
   "language": "python",
   "name": "python2"
  },
  "language_info": {
   "codemirror_mode": {
    "name": "ipython",
    "version": 2
   },
   "file_extension": ".py",
   "mimetype": "text/x-python",
   "name": "python",
   "nbconvert_exporter": "python",
   "pygments_lexer": "ipython2",
   "version": "2.7.6"
  }
 },
 "nbformat": 4,
 "nbformat_minor": 0
}
