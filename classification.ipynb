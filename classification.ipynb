{
 "metadata": {
  "name": ""
 },
 "nbformat": 3,
 "nbformat_minor": 0,
 "worksheets": [
  {
   "cells": [
    {
     "cell_type": "code",
     "collapsed": false,
     "input": [
      "import pandas as pd\n",
      "import numpy as np\n",
      "import seaborn as sns\n",
      "import matplotlib.pyplot as plt\n",
      "import matplotlib.ticker as tkr\n",
      "from sklearn.cross_validation import train_test_split\n",
      "from sklearn.metrics import accuracy_score\n",
      "from sklearn.learning_curve import learning_curve\n",
      "from sklearn.cross_validation import cross_val_score\n",
      "from sklearn import linear_model\n",
      "from sklearn.neighbors import KNeighborsClassifier\n",
      "from sklearn.naive_bayes import GaussianNB\n",
      "from sklearn.svm import SVC\n",
      "from sklearn.tree import DecisionTreeClassifier\n",
      "from sklearn.ensemble import RandomForestClassifier\n",
      "\n",
      "\n",
      "%matplotlib inline"
     ],
     "language": "python",
     "metadata": {},
     "outputs": [],
     "prompt_number": 90
    },
    {
     "cell_type": "code",
     "collapsed": false,
     "input": [
      "r_state = 7\n",
      "best_k = 6\n",
      "\n",
      "pred_c = \"orange\"\n",
      "pred_al = 0.6\n",
      "data_c = \"purple\"\n",
      "data_al = 0.6\n",
      "\n",
      "sns.set(style=\"whitegrid\", color_codes=True)"
     ],
     "language": "python",
     "metadata": {},
     "outputs": [],
     "prompt_number": 91
    },
    {
     "cell_type": "markdown",
     "metadata": {},
     "source": [
      "###Challenge 1  \n",
      "\n",
      "Load the data into a pandas dataframe. Replace 'y's with 1s, 'n's with 0s.\n",
      "\n",
      "Now, almost every representative has a ?. This represents the absence of a vote (they were absent or some other similar reason). If we dropped all the rows that had a ?, we would throw out most of our data. Instead, we will replace ? with the best guess in the Bayesian sense: in the absence of any other information, we will say that the probability of the representative saying YES is the ratio of others that said YES over the whole votes.\n",
      "\n",
      "So, convert each ? to this probability (when yes=1 and no=0, this is the mean of the colum"
     ]
    },
    {
     "cell_type": "code",
     "collapsed": false,
     "input": [
      "col_names = [\"Party\"] + [\"V%d\" %x for x in range(1,17)]\n",
      "print col_names\n",
      "votes = pd.read_csv(\"house-votes-84.data\", sep=\",\", na_values=\"?\", names=col_names)\n",
      "votes.head()"
     ],
     "language": "python",
     "metadata": {},
     "outputs": [
      {
       "output_type": "stream",
       "stream": "stdout",
       "text": [
        "['Party', 'V1', 'V2', 'V3', 'V4', 'V5', 'V6', 'V7', 'V8', 'V9', 'V10', 'V11', 'V12', 'V13', 'V14', 'V15', 'V16']\n"
       ]
      },
      {
       "html": [
        "<div style=\"max-width:1500px;overflow:auto;\">\n",
        "<table border=\"1\" class=\"dataframe\">\n",
        "  <thead>\n",
        "    <tr style=\"text-align: right;\">\n",
        "      <th></th>\n",
        "      <th>Party</th>\n",
        "      <th>V1</th>\n",
        "      <th>V2</th>\n",
        "      <th>V3</th>\n",
        "      <th>V4</th>\n",
        "      <th>V5</th>\n",
        "      <th>V6</th>\n",
        "      <th>V7</th>\n",
        "      <th>V8</th>\n",
        "      <th>V9</th>\n",
        "      <th>V10</th>\n",
        "      <th>V11</th>\n",
        "      <th>V12</th>\n",
        "      <th>V13</th>\n",
        "      <th>V14</th>\n",
        "      <th>V15</th>\n",
        "      <th>V16</th>\n",
        "    </tr>\n",
        "  </thead>\n",
        "  <tbody>\n",
        "    <tr>\n",
        "      <th>0</th>\n",
        "      <td>republican</td>\n",
        "      <td>n</td>\n",
        "      <td>y</td>\n",
        "      <td>n</td>\n",
        "      <td>y</td>\n",
        "      <td>y</td>\n",
        "      <td>y</td>\n",
        "      <td>n</td>\n",
        "      <td>n</td>\n",
        "      <td>n</td>\n",
        "      <td>y</td>\n",
        "      <td>NaN</td>\n",
        "      <td>y</td>\n",
        "      <td>y</td>\n",
        "      <td>y</td>\n",
        "      <td>n</td>\n",
        "      <td>y</td>\n",
        "    </tr>\n",
        "    <tr>\n",
        "      <th>1</th>\n",
        "      <td>republican</td>\n",
        "      <td>n</td>\n",
        "      <td>y</td>\n",
        "      <td>n</td>\n",
        "      <td>y</td>\n",
        "      <td>y</td>\n",
        "      <td>y</td>\n",
        "      <td>n</td>\n",
        "      <td>n</td>\n",
        "      <td>n</td>\n",
        "      <td>n</td>\n",
        "      <td>n</td>\n",
        "      <td>y</td>\n",
        "      <td>y</td>\n",
        "      <td>y</td>\n",
        "      <td>n</td>\n",
        "      <td>NaN</td>\n",
        "    </tr>\n",
        "    <tr>\n",
        "      <th>2</th>\n",
        "      <td>democrat</td>\n",
        "      <td>NaN</td>\n",
        "      <td>y</td>\n",
        "      <td>y</td>\n",
        "      <td>NaN</td>\n",
        "      <td>y</td>\n",
        "      <td>y</td>\n",
        "      <td>n</td>\n",
        "      <td>n</td>\n",
        "      <td>n</td>\n",
        "      <td>n</td>\n",
        "      <td>y</td>\n",
        "      <td>n</td>\n",
        "      <td>y</td>\n",
        "      <td>y</td>\n",
        "      <td>n</td>\n",
        "      <td>n</td>\n",
        "    </tr>\n",
        "    <tr>\n",
        "      <th>3</th>\n",
        "      <td>democrat</td>\n",
        "      <td>n</td>\n",
        "      <td>y</td>\n",
        "      <td>y</td>\n",
        "      <td>n</td>\n",
        "      <td>NaN</td>\n",
        "      <td>y</td>\n",
        "      <td>n</td>\n",
        "      <td>n</td>\n",
        "      <td>n</td>\n",
        "      <td>n</td>\n",
        "      <td>y</td>\n",
        "      <td>n</td>\n",
        "      <td>y</td>\n",
        "      <td>n</td>\n",
        "      <td>n</td>\n",
        "      <td>y</td>\n",
        "    </tr>\n",
        "    <tr>\n",
        "      <th>4</th>\n",
        "      <td>democrat</td>\n",
        "      <td>y</td>\n",
        "      <td>y</td>\n",
        "      <td>y</td>\n",
        "      <td>n</td>\n",
        "      <td>y</td>\n",
        "      <td>y</td>\n",
        "      <td>n</td>\n",
        "      <td>n</td>\n",
        "      <td>n</td>\n",
        "      <td>n</td>\n",
        "      <td>y</td>\n",
        "      <td>NaN</td>\n",
        "      <td>y</td>\n",
        "      <td>y</td>\n",
        "      <td>y</td>\n",
        "      <td>y</td>\n",
        "    </tr>\n",
        "  </tbody>\n",
        "</table>\n",
        "</div>"
       ],
       "metadata": {},
       "output_type": "pyout",
       "prompt_number": 92,
       "text": [
        "        Party   V1 V2 V3   V4   V5 V6 V7 V8 V9 V10  V11  V12 V13 V14 V15  V16\n",
        "0  republican    n  y  n    y    y  y  n  n  n   y  NaN    y   y   y   n    y\n",
        "1  republican    n  y  n    y    y  y  n  n  n   n    n    y   y   y   n  NaN\n",
        "2    democrat  NaN  y  y  NaN    y  y  n  n  n   n    y    n   y   y   n    n\n",
        "3    democrat    n  y  y    n  NaN  y  n  n  n   n    y    n   y   n   n    y\n",
        "4    democrat    y  y  y    n    y  y  n  n  n   n    y  NaN   y   y   y    y"
       ]
      }
     ],
     "prompt_number": 92
    },
    {
     "cell_type": "code",
     "collapsed": false,
     "input": [
      "votes = votes.replace(\"n\", 0)\n",
      "votes = votes.replace(\"y\", 1)\n",
      "votes.head()"
     ],
     "language": "python",
     "metadata": {},
     "outputs": [
      {
       "html": [
        "<div style=\"max-width:1500px;overflow:auto;\">\n",
        "<table border=\"1\" class=\"dataframe\">\n",
        "  <thead>\n",
        "    <tr style=\"text-align: right;\">\n",
        "      <th></th>\n",
        "      <th>Party</th>\n",
        "      <th>V1</th>\n",
        "      <th>V2</th>\n",
        "      <th>V3</th>\n",
        "      <th>V4</th>\n",
        "      <th>V5</th>\n",
        "      <th>V6</th>\n",
        "      <th>V7</th>\n",
        "      <th>V8</th>\n",
        "      <th>V9</th>\n",
        "      <th>V10</th>\n",
        "      <th>V11</th>\n",
        "      <th>V12</th>\n",
        "      <th>V13</th>\n",
        "      <th>V14</th>\n",
        "      <th>V15</th>\n",
        "      <th>V16</th>\n",
        "    </tr>\n",
        "  </thead>\n",
        "  <tbody>\n",
        "    <tr>\n",
        "      <th>0</th>\n",
        "      <td>republican</td>\n",
        "      <td>0</td>\n",
        "      <td>1</td>\n",
        "      <td>0</td>\n",
        "      <td>1</td>\n",
        "      <td>1</td>\n",
        "      <td>1</td>\n",
        "      <td>0</td>\n",
        "      <td>0</td>\n",
        "      <td>0</td>\n",
        "      <td>1</td>\n",
        "      <td>NaN</td>\n",
        "      <td>1</td>\n",
        "      <td>1</td>\n",
        "      <td>1</td>\n",
        "      <td>0</td>\n",
        "      <td>1</td>\n",
        "    </tr>\n",
        "    <tr>\n",
        "      <th>1</th>\n",
        "      <td>republican</td>\n",
        "      <td>0</td>\n",
        "      <td>1</td>\n",
        "      <td>0</td>\n",
        "      <td>1</td>\n",
        "      <td>1</td>\n",
        "      <td>1</td>\n",
        "      <td>0</td>\n",
        "      <td>0</td>\n",
        "      <td>0</td>\n",
        "      <td>0</td>\n",
        "      <td>0</td>\n",
        "      <td>1</td>\n",
        "      <td>1</td>\n",
        "      <td>1</td>\n",
        "      <td>0</td>\n",
        "      <td>NaN</td>\n",
        "    </tr>\n",
        "    <tr>\n",
        "      <th>2</th>\n",
        "      <td>democrat</td>\n",
        "      <td>NaN</td>\n",
        "      <td>1</td>\n",
        "      <td>1</td>\n",
        "      <td>NaN</td>\n",
        "      <td>1</td>\n",
        "      <td>1</td>\n",
        "      <td>0</td>\n",
        "      <td>0</td>\n",
        "      <td>0</td>\n",
        "      <td>0</td>\n",
        "      <td>1</td>\n",
        "      <td>0</td>\n",
        "      <td>1</td>\n",
        "      <td>1</td>\n",
        "      <td>0</td>\n",
        "      <td>0</td>\n",
        "    </tr>\n",
        "    <tr>\n",
        "      <th>3</th>\n",
        "      <td>democrat</td>\n",
        "      <td>0</td>\n",
        "      <td>1</td>\n",
        "      <td>1</td>\n",
        "      <td>0</td>\n",
        "      <td>NaN</td>\n",
        "      <td>1</td>\n",
        "      <td>0</td>\n",
        "      <td>0</td>\n",
        "      <td>0</td>\n",
        "      <td>0</td>\n",
        "      <td>1</td>\n",
        "      <td>0</td>\n",
        "      <td>1</td>\n",
        "      <td>0</td>\n",
        "      <td>0</td>\n",
        "      <td>1</td>\n",
        "    </tr>\n",
        "    <tr>\n",
        "      <th>4</th>\n",
        "      <td>democrat</td>\n",
        "      <td>1</td>\n",
        "      <td>1</td>\n",
        "      <td>1</td>\n",
        "      <td>0</td>\n",
        "      <td>1</td>\n",
        "      <td>1</td>\n",
        "      <td>0</td>\n",
        "      <td>0</td>\n",
        "      <td>0</td>\n",
        "      <td>0</td>\n",
        "      <td>1</td>\n",
        "      <td>NaN</td>\n",
        "      <td>1</td>\n",
        "      <td>1</td>\n",
        "      <td>1</td>\n",
        "      <td>1</td>\n",
        "    </tr>\n",
        "  </tbody>\n",
        "</table>\n",
        "</div>"
       ],
       "metadata": {},
       "output_type": "pyout",
       "prompt_number": 93,
       "text": [
        "        Party  V1  V2  V3  V4  V5  V6  V7  V8  V9  V10  V11  V12  V13  V14  \\\n",
        "0  republican   0   1   0   1   1   1   0   0   0    1  NaN    1    1    1   \n",
        "1  republican   0   1   0   1   1   1   0   0   0    0    0    1    1    1   \n",
        "2    democrat NaN   1   1 NaN   1   1   0   0   0    0    1    0    1    1   \n",
        "3    democrat   0   1   1   0 NaN   1   0   0   0    0    1    0    1    0   \n",
        "4    democrat   1   1   1   0   1   1   0   0   0    0    1  NaN    1    1   \n",
        "\n",
        "   V15  V16  \n",
        "0    0    1  \n",
        "1    0  NaN  \n",
        "2    0    0  \n",
        "3    0    1  \n",
        "4    1    1  "
       ]
      }
     ],
     "prompt_number": 93
    },
    {
     "cell_type": "code",
     "collapsed": false,
     "input": [
      "votes = votes.fillna(votes.mean())\n",
      "votes.iloc[:15]"
     ],
     "language": "python",
     "metadata": {},
     "outputs": [
      {
       "html": [
        "<div style=\"max-width:1500px;overflow:auto;\">\n",
        "<table border=\"1\" class=\"dataframe\">\n",
        "  <thead>\n",
        "    <tr style=\"text-align: right;\">\n",
        "      <th></th>\n",
        "      <th>Party</th>\n",
        "      <th>V1</th>\n",
        "      <th>V2</th>\n",
        "      <th>V3</th>\n",
        "      <th>V4</th>\n",
        "      <th>V5</th>\n",
        "      <th>V6</th>\n",
        "      <th>V7</th>\n",
        "      <th>V8</th>\n",
        "      <th>V9</th>\n",
        "      <th>V10</th>\n",
        "      <th>V11</th>\n",
        "      <th>V12</th>\n",
        "      <th>V13</th>\n",
        "      <th>V14</th>\n",
        "      <th>V15</th>\n",
        "      <th>V16</th>\n",
        "    </tr>\n",
        "  </thead>\n",
        "  <tbody>\n",
        "    <tr>\n",
        "      <th>0</th>\n",
        "      <td>republican</td>\n",
        "      <td>0.00000</td>\n",
        "      <td>1</td>\n",
        "      <td>0</td>\n",
        "      <td>1.000000</td>\n",
        "      <td>1.000000</td>\n",
        "      <td>1</td>\n",
        "      <td>0</td>\n",
        "      <td>0</td>\n",
        "      <td>0.000000</td>\n",
        "      <td>1</td>\n",
        "      <td>0.362319</td>\n",
        "      <td>1.000000</td>\n",
        "      <td>1.000000</td>\n",
        "      <td>1.000000</td>\n",
        "      <td>0.000000</td>\n",
        "      <td>1.000000</td>\n",
        "    </tr>\n",
        "    <tr>\n",
        "      <th>1</th>\n",
        "      <td>republican</td>\n",
        "      <td>0.00000</td>\n",
        "      <td>1</td>\n",
        "      <td>0</td>\n",
        "      <td>1.000000</td>\n",
        "      <td>1.000000</td>\n",
        "      <td>1</td>\n",
        "      <td>0</td>\n",
        "      <td>0</td>\n",
        "      <td>0.000000</td>\n",
        "      <td>0</td>\n",
        "      <td>0.000000</td>\n",
        "      <td>1.000000</td>\n",
        "      <td>1.000000</td>\n",
        "      <td>1.000000</td>\n",
        "      <td>0.000000</td>\n",
        "      <td>0.812689</td>\n",
        "    </tr>\n",
        "    <tr>\n",
        "      <th>2</th>\n",
        "      <td>democrat</td>\n",
        "      <td>0.44208</td>\n",
        "      <td>1</td>\n",
        "      <td>1</td>\n",
        "      <td>0.417453</td>\n",
        "      <td>1.000000</td>\n",
        "      <td>1</td>\n",
        "      <td>0</td>\n",
        "      <td>0</td>\n",
        "      <td>0.000000</td>\n",
        "      <td>0</td>\n",
        "      <td>1.000000</td>\n",
        "      <td>0.000000</td>\n",
        "      <td>1.000000</td>\n",
        "      <td>1.000000</td>\n",
        "      <td>0.000000</td>\n",
        "      <td>0.000000</td>\n",
        "    </tr>\n",
        "    <tr>\n",
        "      <th>3</th>\n",
        "      <td>democrat</td>\n",
        "      <td>0.00000</td>\n",
        "      <td>1</td>\n",
        "      <td>1</td>\n",
        "      <td>0.000000</td>\n",
        "      <td>0.504762</td>\n",
        "      <td>1</td>\n",
        "      <td>0</td>\n",
        "      <td>0</td>\n",
        "      <td>0.000000</td>\n",
        "      <td>0</td>\n",
        "      <td>1.000000</td>\n",
        "      <td>0.000000</td>\n",
        "      <td>1.000000</td>\n",
        "      <td>0.000000</td>\n",
        "      <td>0.000000</td>\n",
        "      <td>1.000000</td>\n",
        "    </tr>\n",
        "    <tr>\n",
        "      <th>4</th>\n",
        "      <td>democrat</td>\n",
        "      <td>1.00000</td>\n",
        "      <td>1</td>\n",
        "      <td>1</td>\n",
        "      <td>0.000000</td>\n",
        "      <td>1.000000</td>\n",
        "      <td>1</td>\n",
        "      <td>0</td>\n",
        "      <td>0</td>\n",
        "      <td>0.000000</td>\n",
        "      <td>0</td>\n",
        "      <td>1.000000</td>\n",
        "      <td>0.423267</td>\n",
        "      <td>1.000000</td>\n",
        "      <td>1.000000</td>\n",
        "      <td>1.000000</td>\n",
        "      <td>1.000000</td>\n",
        "    </tr>\n",
        "    <tr>\n",
        "      <th>5</th>\n",
        "      <td>democrat</td>\n",
        "      <td>0.00000</td>\n",
        "      <td>1</td>\n",
        "      <td>1</td>\n",
        "      <td>0.000000</td>\n",
        "      <td>1.000000</td>\n",
        "      <td>1</td>\n",
        "      <td>0</td>\n",
        "      <td>0</td>\n",
        "      <td>0.000000</td>\n",
        "      <td>0</td>\n",
        "      <td>0.000000</td>\n",
        "      <td>0.000000</td>\n",
        "      <td>1.000000</td>\n",
        "      <td>1.000000</td>\n",
        "      <td>1.000000</td>\n",
        "      <td>1.000000</td>\n",
        "    </tr>\n",
        "    <tr>\n",
        "      <th>6</th>\n",
        "      <td>democrat</td>\n",
        "      <td>0.00000</td>\n",
        "      <td>1</td>\n",
        "      <td>0</td>\n",
        "      <td>1.000000</td>\n",
        "      <td>1.000000</td>\n",
        "      <td>1</td>\n",
        "      <td>0</td>\n",
        "      <td>0</td>\n",
        "      <td>0.000000</td>\n",
        "      <td>0</td>\n",
        "      <td>0.000000</td>\n",
        "      <td>0.000000</td>\n",
        "      <td>0.509756</td>\n",
        "      <td>1.000000</td>\n",
        "      <td>1.000000</td>\n",
        "      <td>1.000000</td>\n",
        "    </tr>\n",
        "    <tr>\n",
        "      <th>7</th>\n",
        "      <td>republican</td>\n",
        "      <td>0.00000</td>\n",
        "      <td>1</td>\n",
        "      <td>0</td>\n",
        "      <td>1.000000</td>\n",
        "      <td>1.000000</td>\n",
        "      <td>1</td>\n",
        "      <td>0</td>\n",
        "      <td>0</td>\n",
        "      <td>0.000000</td>\n",
        "      <td>0</td>\n",
        "      <td>0.000000</td>\n",
        "      <td>0.000000</td>\n",
        "      <td>1.000000</td>\n",
        "      <td>1.000000</td>\n",
        "      <td>0.427518</td>\n",
        "      <td>1.000000</td>\n",
        "    </tr>\n",
        "    <tr>\n",
        "      <th>8</th>\n",
        "      <td>republican</td>\n",
        "      <td>0.00000</td>\n",
        "      <td>1</td>\n",
        "      <td>0</td>\n",
        "      <td>1.000000</td>\n",
        "      <td>1.000000</td>\n",
        "      <td>1</td>\n",
        "      <td>0</td>\n",
        "      <td>0</td>\n",
        "      <td>0.000000</td>\n",
        "      <td>0</td>\n",
        "      <td>0.000000</td>\n",
        "      <td>1.000000</td>\n",
        "      <td>1.000000</td>\n",
        "      <td>1.000000</td>\n",
        "      <td>0.000000</td>\n",
        "      <td>1.000000</td>\n",
        "    </tr>\n",
        "    <tr>\n",
        "      <th>9</th>\n",
        "      <td>democrat</td>\n",
        "      <td>1.00000</td>\n",
        "      <td>1</td>\n",
        "      <td>1</td>\n",
        "      <td>0.000000</td>\n",
        "      <td>0.000000</td>\n",
        "      <td>0</td>\n",
        "      <td>1</td>\n",
        "      <td>1</td>\n",
        "      <td>1.000000</td>\n",
        "      <td>0</td>\n",
        "      <td>0.000000</td>\n",
        "      <td>0.000000</td>\n",
        "      <td>0.000000</td>\n",
        "      <td>0.000000</td>\n",
        "      <td>0.427518</td>\n",
        "      <td>0.812689</td>\n",
        "    </tr>\n",
        "    <tr>\n",
        "      <th>10</th>\n",
        "      <td>republican</td>\n",
        "      <td>0.00000</td>\n",
        "      <td>1</td>\n",
        "      <td>0</td>\n",
        "      <td>1.000000</td>\n",
        "      <td>1.000000</td>\n",
        "      <td>0</td>\n",
        "      <td>0</td>\n",
        "      <td>0</td>\n",
        "      <td>0.000000</td>\n",
        "      <td>0</td>\n",
        "      <td>0.362319</td>\n",
        "      <td>0.423267</td>\n",
        "      <td>1.000000</td>\n",
        "      <td>1.000000</td>\n",
        "      <td>0.000000</td>\n",
        "      <td>0.000000</td>\n",
        "    </tr>\n",
        "    <tr>\n",
        "      <th>11</th>\n",
        "      <td>republican</td>\n",
        "      <td>0.00000</td>\n",
        "      <td>1</td>\n",
        "      <td>0</td>\n",
        "      <td>1.000000</td>\n",
        "      <td>1.000000</td>\n",
        "      <td>1</td>\n",
        "      <td>0</td>\n",
        "      <td>0</td>\n",
        "      <td>0.000000</td>\n",
        "      <td>0</td>\n",
        "      <td>1.000000</td>\n",
        "      <td>0.423267</td>\n",
        "      <td>1.000000</td>\n",
        "      <td>1.000000</td>\n",
        "      <td>0.427518</td>\n",
        "      <td>0.812689</td>\n",
        "    </tr>\n",
        "    <tr>\n",
        "      <th>12</th>\n",
        "      <td>democrat</td>\n",
        "      <td>0.00000</td>\n",
        "      <td>1</td>\n",
        "      <td>1</td>\n",
        "      <td>0.000000</td>\n",
        "      <td>0.000000</td>\n",
        "      <td>0</td>\n",
        "      <td>1</td>\n",
        "      <td>1</td>\n",
        "      <td>1.000000</td>\n",
        "      <td>0</td>\n",
        "      <td>0.000000</td>\n",
        "      <td>0.000000</td>\n",
        "      <td>1.000000</td>\n",
        "      <td>0.000000</td>\n",
        "      <td>0.427518</td>\n",
        "      <td>0.812689</td>\n",
        "    </tr>\n",
        "    <tr>\n",
        "      <th>13</th>\n",
        "      <td>democrat</td>\n",
        "      <td>1.00000</td>\n",
        "      <td>1</td>\n",
        "      <td>1</td>\n",
        "      <td>0.000000</td>\n",
        "      <td>0.000000</td>\n",
        "      <td>1</td>\n",
        "      <td>1</td>\n",
        "      <td>1</td>\n",
        "      <td>0.501211</td>\n",
        "      <td>1</td>\n",
        "      <td>1.000000</td>\n",
        "      <td>0.423267</td>\n",
        "      <td>0.000000</td>\n",
        "      <td>0.000000</td>\n",
        "      <td>1.000000</td>\n",
        "      <td>0.812689</td>\n",
        "    </tr>\n",
        "    <tr>\n",
        "      <th>14</th>\n",
        "      <td>republican</td>\n",
        "      <td>0.00000</td>\n",
        "      <td>1</td>\n",
        "      <td>0</td>\n",
        "      <td>1.000000</td>\n",
        "      <td>1.000000</td>\n",
        "      <td>1</td>\n",
        "      <td>0</td>\n",
        "      <td>0</td>\n",
        "      <td>0.000000</td>\n",
        "      <td>0</td>\n",
        "      <td>0.000000</td>\n",
        "      <td>1.000000</td>\n",
        "      <td>0.509756</td>\n",
        "      <td>0.593301</td>\n",
        "      <td>0.000000</td>\n",
        "      <td>0.812689</td>\n",
        "    </tr>\n",
        "  </tbody>\n",
        "</table>\n",
        "</div>"
       ],
       "metadata": {},
       "output_type": "pyout",
       "prompt_number": 94,
       "text": [
        "         Party       V1  V2  V3        V4        V5  V6  V7  V8        V9  \\\n",
        "0   republican  0.00000   1   0  1.000000  1.000000   1   0   0  0.000000   \n",
        "1   republican  0.00000   1   0  1.000000  1.000000   1   0   0  0.000000   \n",
        "2     democrat  0.44208   1   1  0.417453  1.000000   1   0   0  0.000000   \n",
        "3     democrat  0.00000   1   1  0.000000  0.504762   1   0   0  0.000000   \n",
        "4     democrat  1.00000   1   1  0.000000  1.000000   1   0   0  0.000000   \n",
        "5     democrat  0.00000   1   1  0.000000  1.000000   1   0   0  0.000000   \n",
        "6     democrat  0.00000   1   0  1.000000  1.000000   1   0   0  0.000000   \n",
        "7   republican  0.00000   1   0  1.000000  1.000000   1   0   0  0.000000   \n",
        "8   republican  0.00000   1   0  1.000000  1.000000   1   0   0  0.000000   \n",
        "9     democrat  1.00000   1   1  0.000000  0.000000   0   1   1  1.000000   \n",
        "10  republican  0.00000   1   0  1.000000  1.000000   0   0   0  0.000000   \n",
        "11  republican  0.00000   1   0  1.000000  1.000000   1   0   0  0.000000   \n",
        "12    democrat  0.00000   1   1  0.000000  0.000000   0   1   1  1.000000   \n",
        "13    democrat  1.00000   1   1  0.000000  0.000000   1   1   1  0.501211   \n",
        "14  republican  0.00000   1   0  1.000000  1.000000   1   0   0  0.000000   \n",
        "\n",
        "    V10       V11       V12       V13       V14       V15       V16  \n",
        "0     1  0.362319  1.000000  1.000000  1.000000  0.000000  1.000000  \n",
        "1     0  0.000000  1.000000  1.000000  1.000000  0.000000  0.812689  \n",
        "2     0  1.000000  0.000000  1.000000  1.000000  0.000000  0.000000  \n",
        "3     0  1.000000  0.000000  1.000000  0.000000  0.000000  1.000000  \n",
        "4     0  1.000000  0.423267  1.000000  1.000000  1.000000  1.000000  \n",
        "5     0  0.000000  0.000000  1.000000  1.000000  1.000000  1.000000  \n",
        "6     0  0.000000  0.000000  0.509756  1.000000  1.000000  1.000000  \n",
        "7     0  0.000000  0.000000  1.000000  1.000000  0.427518  1.000000  \n",
        "8     0  0.000000  1.000000  1.000000  1.000000  0.000000  1.000000  \n",
        "9     0  0.000000  0.000000  0.000000  0.000000  0.427518  0.812689  \n",
        "10    0  0.362319  0.423267  1.000000  1.000000  0.000000  0.000000  \n",
        "11    0  1.000000  0.423267  1.000000  1.000000  0.427518  0.812689  \n",
        "12    0  0.000000  0.000000  1.000000  0.000000  0.427518  0.812689  \n",
        "13    1  1.000000  0.423267  0.000000  0.000000  1.000000  0.812689  \n",
        "14    0  0.000000  1.000000  0.509756  0.593301  0.000000  0.812689  "
       ]
      }
     ],
     "prompt_number": 94
    },
    {
     "cell_type": "markdown",
     "metadata": {},
     "source": [
      "###Challenge 2\n",
      "\n",
      "Split the data into a test and training set."
     ]
    },
    {
     "cell_type": "code",
     "collapsed": false,
     "input": [
      "y = votes[\"Party\"]\n",
      "X = votes.iloc[:,1:]\n",
      "\n",
      "X_train, X_test, y_train, y_test = train_test_split(X, y, test_size=0.25, random_state=r_state)\n",
      "X_train.head()"
     ],
     "language": "python",
     "metadata": {},
     "outputs": [
      {
       "html": [
        "<div style=\"max-width:1500px;overflow:auto;\">\n",
        "<table border=\"1\" class=\"dataframe\">\n",
        "  <thead>\n",
        "    <tr style=\"text-align: right;\">\n",
        "      <th></th>\n",
        "      <th>V1</th>\n",
        "      <th>V2</th>\n",
        "      <th>V3</th>\n",
        "      <th>V4</th>\n",
        "      <th>V5</th>\n",
        "      <th>V6</th>\n",
        "      <th>V7</th>\n",
        "      <th>V8</th>\n",
        "      <th>V9</th>\n",
        "      <th>V10</th>\n",
        "      <th>V11</th>\n",
        "      <th>V12</th>\n",
        "      <th>V13</th>\n",
        "      <th>V14</th>\n",
        "      <th>V15</th>\n",
        "      <th>V16</th>\n",
        "    </tr>\n",
        "  </thead>\n",
        "  <tbody>\n",
        "    <tr>\n",
        "      <th>177</th>\n",
        "      <td>0.00000</td>\n",
        "      <td>0.000000</td>\n",
        "      <td>1</td>\n",
        "      <td>0</td>\n",
        "      <td>0.000000</td>\n",
        "      <td>0</td>\n",
        "      <td>1.000000</td>\n",
        "      <td>1</td>\n",
        "      <td>1.000000</td>\n",
        "      <td>1</td>\n",
        "      <td>1.000000</td>\n",
        "      <td>0.423267</td>\n",
        "      <td>0.000000</td>\n",
        "      <td>0</td>\n",
        "      <td>1</td>\n",
        "      <td>1.000000</td>\n",
        "    </tr>\n",
        "    <tr>\n",
        "      <th>206</th>\n",
        "      <td>0.00000</td>\n",
        "      <td>0.000000</td>\n",
        "      <td>0</td>\n",
        "      <td>1</td>\n",
        "      <td>1.000000</td>\n",
        "      <td>1</td>\n",
        "      <td>0.000000</td>\n",
        "      <td>0</td>\n",
        "      <td>0.000000</td>\n",
        "      <td>1</td>\n",
        "      <td>0.000000</td>\n",
        "      <td>1.000000</td>\n",
        "      <td>0.000000</td>\n",
        "      <td>1</td>\n",
        "      <td>0</td>\n",
        "      <td>1.000000</td>\n",
        "    </tr>\n",
        "    <tr>\n",
        "      <th>13</th>\n",
        "      <td>1.00000</td>\n",
        "      <td>1.000000</td>\n",
        "      <td>1</td>\n",
        "      <td>0</td>\n",
        "      <td>0.000000</td>\n",
        "      <td>1</td>\n",
        "      <td>1.000000</td>\n",
        "      <td>1</td>\n",
        "      <td>0.501211</td>\n",
        "      <td>1</td>\n",
        "      <td>1.000000</td>\n",
        "      <td>0.423267</td>\n",
        "      <td>0.000000</td>\n",
        "      <td>0</td>\n",
        "      <td>1</td>\n",
        "      <td>0.812689</td>\n",
        "    </tr>\n",
        "    <tr>\n",
        "      <th>390</th>\n",
        "      <td>0.44208</td>\n",
        "      <td>0.503876</td>\n",
        "      <td>0</td>\n",
        "      <td>0</td>\n",
        "      <td>0.504762</td>\n",
        "      <td>1</td>\n",
        "      <td>0.567696</td>\n",
        "      <td>0</td>\n",
        "      <td>0.000000</td>\n",
        "      <td>0</td>\n",
        "      <td>1.000000</td>\n",
        "      <td>1.000000</td>\n",
        "      <td>0.000000</td>\n",
        "      <td>1</td>\n",
        "      <td>0</td>\n",
        "      <td>0.812689</td>\n",
        "    </tr>\n",
        "    <tr>\n",
        "      <th>413</th>\n",
        "      <td>1.00000</td>\n",
        "      <td>1.000000</td>\n",
        "      <td>1</td>\n",
        "      <td>1</td>\n",
        "      <td>1.000000</td>\n",
        "      <td>1</td>\n",
        "      <td>1.000000</td>\n",
        "      <td>1</td>\n",
        "      <td>0.000000</td>\n",
        "      <td>1</td>\n",
        "      <td>0.362319</td>\n",
        "      <td>0.423267</td>\n",
        "      <td>0.509756</td>\n",
        "      <td>1</td>\n",
        "      <td>0</td>\n",
        "      <td>1.000000</td>\n",
        "    </tr>\n",
        "  </tbody>\n",
        "</table>\n",
        "</div>"
       ],
       "metadata": {},
       "output_type": "pyout",
       "prompt_number": 95,
       "text": [
        "          V1        V2  V3  V4        V5  V6        V7  V8        V9  V10  \\\n",
        "177  0.00000  0.000000   1   0  0.000000   0  1.000000   1  1.000000    1   \n",
        "206  0.00000  0.000000   0   1  1.000000   1  0.000000   0  0.000000    1   \n",
        "13   1.00000  1.000000   1   0  0.000000   1  1.000000   1  0.501211    1   \n",
        "390  0.44208  0.503876   0   0  0.504762   1  0.567696   0  0.000000    0   \n",
        "413  1.00000  1.000000   1   1  1.000000   1  1.000000   1  0.000000    1   \n",
        "\n",
        "          V11       V12       V13  V14  V15       V16  \n",
        "177  1.000000  0.423267  0.000000    0    1  1.000000  \n",
        "206  0.000000  1.000000  0.000000    1    0  1.000000  \n",
        "13   1.000000  0.423267  0.000000    0    1  0.812689  \n",
        "390  1.000000  1.000000  0.000000    1    0  0.812689  \n",
        "413  0.362319  0.423267  0.509756    1    0  1.000000  "
       ]
      }
     ],
     "prompt_number": 95
    },
    {
     "cell_type": "markdown",
     "metadata": {},
     "source": [
      "###Challenge 3\n",
      "\n",
      "Using scikit.learn's KNN algorithm, train a model that predicts the party (republican/democrat):\n",
      "\n",
      "from sklearn.neighbors import KNeighborsClassifier\n",
      "Try it with a lot of different k values (number of neighbors), from 1 to 20, and on the test set calculate the accuracy (number of correct predictions / number of all predictions) for each k\n",
      "\n",
      "You can use this to calculate accuracy:\n",
      "\n",
      "from sklearn.metrics import accuracy_score\n",
      "Which k value gives the highest accuracy?"
     ]
    },
    {
     "cell_type": "code",
     "collapsed": false,
     "input": [
      "acc_k_score = []\n",
      "ks = range(1,21)\n",
      "for k in ks:\n",
      "    knn = KNeighborsClassifier(n_neighbors=k)\n",
      "    knn.fit(X_train, y_train) \n",
      "    predicted = knn.predict(X_test)\n",
      "    acc = accuracy_score(y_test, predicted)\n",
      "    acc_k_score.append(acc)\n",
      "    print \"k:\", k, \"acc:\", acc"
     ],
     "language": "python",
     "metadata": {},
     "outputs": [
      {
       "output_type": "stream",
       "stream": "stdout",
       "text": [
        "k: 1 acc: 0.94495412844\n",
        "k: 2 acc: 0.954128440367\n",
        "k: 3 acc: 0.94495412844\n",
        "k: 4 acc: 0.94495412844\n",
        "k: 5 acc: 0.94495412844\n",
        "k: 6 acc: 0.954128440367\n",
        "k: 7 acc: 0.926605504587\n",
        "k: 8 acc: 0.94495412844\n",
        "k: 9 acc: 0.94495412844\n",
        "k: 10 acc: 0.94495412844\n",
        "k: 11 acc: 0.926605504587\n",
        "k: 12 acc: 0.926605504587\n",
        "k: 13 acc: 0.935779816514\n",
        "k: 14 acc: 0.94495412844\n",
        "k: 15 acc: 0.935779816514\n",
        "k: 16 acc: 0.935779816514\n",
        "k: 17 acc: 0.935779816514\n",
        "k: 18 acc: 0.935779816514\n",
        "k: 19 acc: 0.935779816514\n",
        "k: 20 acc: 0.935779816514\n"
       ]
      }
     ],
     "prompt_number": 96
    },
    {
     "cell_type": "markdown",
     "metadata": {},
     "source": [
      "r_state = 2: It seems that k=3 has the best accuracy, since the accuracy goes down between ks of 4-8, and, after k=9, the accuracy is almost always the same, so this is probably over generalizing.  \n",
      "r_state = 7: k=2 and k=6 both have the greatest accuracy"
     ]
    },
    {
     "cell_type": "markdown",
     "metadata": {},
     "source": [
      "###Challenge 4\n",
      "\n",
      "Make a similar model but with LogisticRegression instead, calculate test accuracy."
     ]
    },
    {
     "cell_type": "code",
     "collapsed": false,
     "input": [
      "regr = linear_model.LogisticRegression()\n",
      "regr.fit(X_train, y_train)"
     ],
     "language": "python",
     "metadata": {},
     "outputs": [
      {
       "metadata": {},
       "output_type": "pyout",
       "prompt_number": 97,
       "text": [
        "LogisticRegression(C=1.0, class_weight=None, dual=False, fit_intercept=True,\n",
        "          intercept_scaling=1, max_iter=100, multi_class='ovr',\n",
        "          penalty='l2', random_state=None, solver='liblinear', tol=0.0001,\n",
        "          verbose=0)"
       ]
      }
     ],
     "prompt_number": 97
    },
    {
     "cell_type": "code",
     "collapsed": false,
     "input": [
      "predicted = regr.predict(X_test)\n",
      "logreg_acc = accuracy_score(y_test, predicted)\n",
      "print \"acc:\", logreg_acc"
     ],
     "language": "python",
     "metadata": {},
     "outputs": [
      {
       "output_type": "stream",
       "stream": "stdout",
       "text": [
        "acc: 0.954128440367\n"
       ]
      }
     ],
     "prompt_number": 98
    },
    {
     "cell_type": "markdown",
     "metadata": {},
     "source": [
      "###Challenge 5\n",
      "\n",
      "Make a bar graph of democrats and republicans. How many of each are there?\n",
      "\n",
      "Make a very simple predictor that predicts 'democrat' for every incoming example.\n",
      "\n",
      "Just make a function that takes in an X --an array or matrix with input examples--, and returns an array of the same length as X, where each value is 'democrat'. For example, if X is three rows, your function should return ['democrat','democrat','democrat']. Make a y_predicted vector using this and measure its accuracy.\n",
      "\n",
      "Do the same with predicting 'republican' all the time and measure its accuracy."
     ]
    },
    {
     "cell_type": "code",
     "collapsed": false,
     "input": [
      "y_0 = y.replace(\"republican\", 0)\n",
      "y_1 = y_0.replace(\"democrat\", 1)"
     ],
     "language": "python",
     "metadata": {},
     "outputs": [],
     "prompt_number": 99
    },
    {
     "cell_type": "code",
     "collapsed": false,
     "input": [
      "sns.countplot(x=\"Party\", data=votes, color=data_c, alpha=data_al)\n",
      "sns.plt.title(\"True Party Count\")\n",
      "plt.show()\n",
      "\n",
      "dem = y_1.sum()\n",
      "rep = len(y_1)-dem\n",
      "print \"rep:\", rep, \"dem:\", dem"
     ],
     "language": "python",
     "metadata": {},
     "outputs": [
      {
       "metadata": {},
       "output_type": "display_data",
       "png": "[encoded data removed]",
       "text": [
        "<matplotlib.figure.Figure at 0x7f6802227ed0>"
       ]
      },
      {
       "output_type": "stream",
       "stream": "stdout",
       "text": [
        "rep: 168 dem: 267\n"
       ]
      }
     ],
     "prompt_number": 100
    },
    {
     "cell_type": "code",
     "collapsed": false,
     "input": [
      "def dem_pred(data):\n",
      "    dems = [\"democrat\" for _ in range(len(data))]\n",
      "    return dems\n",
      "\n",
      "def rep_pred(data):\n",
      "    dems = [\"republican\" for _ in range(len(data))]\n",
      "    return dems\n",
      "\n",
      "print dem_pred([[0,1,0],[1],[1,2]])\n",
      "print rep_pred([[\"a\"],[\"a\",\"b\"],[\"a\",\"b\",\"c\"]])"
     ],
     "language": "python",
     "metadata": {},
     "outputs": [
      {
       "output_type": "stream",
       "stream": "stdout",
       "text": [
        "['democrat', 'democrat', 'democrat']\n",
        "['republican', 'republican', 'republican']\n"
       ]
      }
     ],
     "prompt_number": 101
    },
    {
     "cell_type": "code",
     "collapsed": false,
     "input": [
      "dems_acc = accuracy_score(y_test, dem_pred(X_test))\n",
      "print \"dem pred acc:\", dems_acc"
     ],
     "language": "python",
     "metadata": {},
     "outputs": [
      {
       "output_type": "stream",
       "stream": "stdout",
       "text": [
        "dem pred acc: 0.651376146789\n"
       ]
      }
     ],
     "prompt_number": 102
    },
    {
     "cell_type": "code",
     "collapsed": false,
     "input": [
      "reps_acc = accuracy_score(y_test, rep_pred(X_test))\n",
      "print \"rep pred acc:\", reps_acc"
     ],
     "language": "python",
     "metadata": {},
     "outputs": [
      {
       "output_type": "stream",
       "stream": "stdout",
       "text": [
        "rep pred acc: 0.348623853211\n"
       ]
      }
     ],
     "prompt_number": 103
    },
    {
     "cell_type": "markdown",
     "metadata": {},
     "source": [
      "###Challenge 6\n",
      "\n",
      "Plot the accuracies as a function of k. Since k only matters for KNN, your logistic regression accuracy, 'democrat' predictor accuracy and 'republican' predictor accuracy will stay the same over all k, so each of these three will be a horizontal line. But the KNN accuracy will change with k."
     ]
    },
    {
     "cell_type": "code",
     "collapsed": false,
     "input": [
      "ax = plt.subplot(111)\n",
      "plt.plot(ks, acc_k_score, label='knn score', color=\"green\")\n",
      "plt.plot(ks, [dems_acc]*len(ks), label='dem only', color=\"blue\")\n",
      "plt.plot(ks, [reps_acc]*len(ks), label='rep only', color=\"red\")\n",
      "plt.plot(ks, [logreg_acc]*len(ks), label='logistic reg')\n",
      "ax.legend(loc='upper right')\n",
      "plt.xlabel(\"k\")\n",
      "plt.show()"
     ],
     "language": "python",
     "metadata": {},
     "outputs": [
      {
       "metadata": {},
       "output_type": "display_data",
       "png": "[encoded data removed]",
       "text": [
        "<matplotlib.figure.Figure at 0x7f68021d3f10>"
       ]
      }
     ],
     "prompt_number": 104
    },
    {
     "cell_type": "markdown",
     "metadata": {},
     "source": [
      "###Challenge 7\n",
      "\n",
      "Plot a learning curve for the logistic regression model. But instead of going through the painstaking steps of doing it yourself, use this function:\n",
      "\n",
      "`from sklearn.learning_curve import learning_curve`  \n",
      "\n",
      "This will give you the m, training errors and testing errors. All you need to do is plot them. You don't even need to give it separate training/test sets. It will do crossvalidation all by itself. Easy, isn't it? : ) Remember, since it does cross-validation, it doesn't have a single training error or test error per m value. Instead, it has one for each fold (separate partition) of the cross validation. A good idea is to take the mean of these errors from different folds. This gives you a meaningful single number per m. What I mean is that doing something like:\n",
      "\n",
      "`train_cv_err = np.mean(train_err, axis=1)`  \n",
      "`test_cv_err = np.mean(ts_err, axis=1)`  \n",
      "\n",
      "Before plotting `m` vs `train_cv_err` and `m` vs `test_cv_err`, where `train_err` and `test_err` are the vectors returned by the learning curve function. The `np.mean(...., axis=1)` means take the mean along axis 1 (axis 1 is the columns axis-- for each row, you have a bunch of columns, each corresponding to a cross validation fold, you are averaging these columns for each row).\n",
      "\n",
      "Draw the learning curve for KNN with the best k value as well."
     ]
    },
    {
     "cell_type": "code",
     "collapsed": false,
     "input": [
      "def plot_learning_curve(model, X_, y_):\n",
      "    train_sizes, train_scores, test_scores = learning_curve(model, X_, y_)\n",
      "    print \"train sizes:\", train_sizes, \"\\n\", \"train scores:\\n\", train_scores, \"\\n\", \"test scores:\\n\", test_scores\n",
      "    train_cv_scores = np.mean(train_scores, axis=1)\n",
      "    test_cv_scores = np.mean(test_scores, axis=1)\n",
      "    \n",
      "    print \"mean train scores:\", train_cv_scores, \"\\n\", \"mean test scores:\", test_cv_scores\n",
      "\n",
      "    ax = plt.subplot(111)\n",
      "    plt.plot(train_sizes, train_cv_scores, label='training score', color=\"green\")\n",
      "    plt.plot(train_sizes, test_cv_scores, label='testing score', color=\"blue\")\n",
      "    ax.legend(loc='lower right')\n",
      "    plt.xlabel(\"m\")\n",
      "    plt.show()"
     ],
     "language": "python",
     "metadata": {},
     "outputs": [],
     "prompt_number": 105
    },
    {
     "cell_type": "markdown",
     "metadata": {},
     "source": [
      "**Logistic Regression Training Curve**  "
     ]
    },
    {
     "cell_type": "code",
     "collapsed": false,
     "input": [
      "plot_learning_curve(linear_model.LogisticRegression(), X, y)"
     ],
     "language": "python",
     "metadata": {},
     "outputs": [
      {
       "output_type": "stream",
       "stream": "stdout",
       "text": [
        "train sizes: [ 29  94 159 224 290] \n",
        "train scores:\n",
        "[[ 1.          0.96551724  0.96551724]\n",
        " [ 0.9893617   0.9787234   0.9787234 ]\n",
        " [ 0.98113208  0.97484277  0.97484277]\n",
        " [ 0.98214286  0.97321429  0.98214286]\n",
        " [ 0.96896552  0.96551724  0.97241379]] \n",
        "test scores:\n",
        "[[ 0.97241379  0.89655172  0.88965517]\n",
        " [ 0.97241379  0.91724138  0.89655172]\n",
        " [ 0.97241379  0.93103448  0.91724138]\n",
        " [ 0.97241379  0.95172414  0.93103448]\n",
        " [ 0.97931034  0.96551724  0.93793103]]\n",
        "mean train scores: [ 0.97701149  0.9822695   0.9769392   0.97916667  0.96896552] \n",
        "mean test scores: [ 0.91954023  0.92873563  0.94022989  0.95172414  0.96091954]\n"
       ]
      },
      {
       "metadata": {},
       "output_type": "display_data",
       "png": "[encoded data removed]",
       "text": [
        "<matplotlib.figure.Figure at 0x7f6801d60a10>"
       ]
      }
     ],
     "prompt_number": 106
    },
    {
     "cell_type": "markdown",
     "metadata": {},
     "source": [
      "**KNN Training Curve**  "
     ]
    },
    {
     "cell_type": "code",
     "collapsed": false,
     "input": [
      "plot_learning_curve(KNeighborsClassifier(n_neighbors=best_k), X, y)"
     ],
     "language": "python",
     "metadata": {},
     "outputs": [
      {
       "output_type": "stream",
       "stream": "stdout",
       "text": [
        "train sizes: [ 29  94 159 224 290] \n",
        "train scores:\n",
        "[[ 0.89655172  0.96551724  0.96551724]\n",
        " [ 0.91489362  0.96808511  0.96808511]\n",
        " [ 0.93710692  0.96855346  0.97484277]\n",
        " [ 0.94196429  0.97321429  0.96428571]\n",
        " [ 0.92758621  0.94482759  0.96206897]] \n",
        "test scores:\n",
        "[[ 0.95172414  0.90344828  0.89655172]\n",
        " [ 0.95862069  0.90344828  0.90344828]\n",
        " [ 0.95172414  0.89655172  0.93103448]\n",
        " [ 0.94482759  0.89655172  0.93103448]\n",
        " [ 0.94482759  0.92413793  0.93103448]]\n",
        "mean train scores: [ 0.94252874  0.95035461  0.96016771  0.95982143  0.94482759] \n",
        "mean test scores: [ 0.91724138  0.92183908  0.92643678  0.92413793  0.93333333]\n"
       ]
      },
      {
       "metadata": {},
       "output_type": "display_data",
       "png": "[encoded data removed]",
       "text": [
        "<matplotlib.figure.Figure at 0x7f6801f25b10>"
       ]
      }
     ],
     "prompt_number": 107
    },
    {
     "cell_type": "markdown",
     "metadata": {},
     "source": [
      "###Challenge 8\n",
      "\n",
      "This is a preview of many other classification algorithms that we will go over. Scikit.learn has the same interface for all of these, so you can use them exactly the same way as you did LogisticRegression and KNeighborsClassifier. Use each of these to classify your data and print the test accuracy of each:\n",
      "\n",
      "Gaussian Naive Bayes\n",
      "\n",
      "`from sklearn.naive_bayes import GaussianNB`  \n",
      "\n",
      "SVM (Support Vector Machine) Classifier\n",
      "\n",
      "`from sklearn.svm import SVC`  \n",
      "\n",
      "Decision Tree\n",
      "\n",
      "`from sklearn.tree import DecisionTreeClassifier`  \n",
      "\n",
      "Random Forest\n",
      "\n",
      "`from sklearn.ensemble import RandomForestClassifier`"
     ]
    },
    {
     "cell_type": "code",
     "collapsed": false,
     "input": [
      "def get_accuracy(mod, X_, y_, X_ts, y_ts, name):\n",
      "    mod.fit(X_, y_)\n",
      "    predicted = mod.predict(X_ts)\n",
      "    acc = accuracy_score(y_ts, predicted)\n",
      "    print \"%s acc:\" %name, acc"
     ],
     "language": "python",
     "metadata": {},
     "outputs": [],
     "prompt_number": 108
    },
    {
     "cell_type": "code",
     "collapsed": false,
     "input": [
      "get_accuracy(GaussianNB(), X_train, y_train, X_test, y_test, \"Gaussian\")"
     ],
     "language": "python",
     "metadata": {},
     "outputs": [
      {
       "output_type": "stream",
       "stream": "stdout",
       "text": [
        "Gaussian acc: 0.94495412844\n"
       ]
      }
     ],
     "prompt_number": 109
    },
    {
     "cell_type": "code",
     "collapsed": false,
     "input": [
      "get_accuracy(SVC(), X_train, y_train, X_test, y_test, \"SVC\")"
     ],
     "language": "python",
     "metadata": {},
     "outputs": [
      {
       "output_type": "stream",
       "stream": "stdout",
       "text": [
        "SVC acc: 0.954128440367\n"
       ]
      }
     ],
     "prompt_number": 110
    },
    {
     "cell_type": "code",
     "collapsed": false,
     "input": [
      "get_accuracy(DecisionTreeClassifier(), X_train, y_train, X_test, y_test, \"DTC\")"
     ],
     "language": "python",
     "metadata": {},
     "outputs": [
      {
       "output_type": "stream",
       "stream": "stdout",
       "text": [
        "DTC acc: 0.935779816514\n"
       ]
      }
     ],
     "prompt_number": 111
    },
    {
     "cell_type": "code",
     "collapsed": false,
     "input": [
      "get_accuracy(RandomForestClassifier(), X_train, y_train, X_test, y_test, \"DTC\")"
     ],
     "language": "python",
     "metadata": {},
     "outputs": [
      {
       "output_type": "stream",
       "stream": "stdout",
       "text": [
        "DTC acc: 0.97247706422\n"
       ]
      }
     ],
     "prompt_number": 112
    },
    {
     "cell_type": "markdown",
     "metadata": {},
     "source": [
      "###Challenge 9\n",
      "\n",
      "There is actually a way to do cross validation quickly to get your accuracy results for an algorithm, without separating training and test yourself:\n",
      "\n",
      "`from sklearn.cross_validation import cross_val_score`\n",
      "\n",
      "Just like the learning_curve function, this takes a classifier object, X and Y. Returns accuracy (or whatever score you prefer by using the scoring keyword argument). Of course, it will return a score for each cross validation fold, so to get the generalized accuracy, you need to take the mean of what it returns.\n",
      "\n",
      "Use this function to calculate the cross validation score of each of the classifiers you tried before."
     ]
    },
    {
     "cell_type": "code",
     "collapsed": false,
     "input": [
      "print \"knn\", np.mean(cross_val_score(KNeighborsClassifier(n_neighbors=best_k), X, y))"
     ],
     "language": "python",
     "metadata": {},
     "outputs": [
      {
       "output_type": "stream",
       "stream": "stdout",
       "text": [
        "knn 0.933333333333\n"
       ]
      }
     ],
     "prompt_number": 113
    },
    {
     "cell_type": "code",
     "collapsed": false,
     "input": [
      "print \"logreg\", np.mean(cross_val_score(linear_model.LogisticRegression(), X, y))"
     ],
     "language": "python",
     "metadata": {},
     "outputs": [
      {
       "output_type": "stream",
       "stream": "stdout",
       "text": [
        "logreg 0.96091954023\n"
       ]
      }
     ],
     "prompt_number": 114
    },
    {
     "cell_type": "code",
     "collapsed": false,
     "input": [
      "print \"gaussnb\", np.mean(cross_val_score(GaussianNB(), X, y))"
     ],
     "language": "python",
     "metadata": {},
     "outputs": [
      {
       "output_type": "stream",
       "stream": "stdout",
       "text": [
        "gaussnb 0.931034482759\n"
       ]
      }
     ],
     "prompt_number": 115
    },
    {
     "cell_type": "code",
     "collapsed": false,
     "input": [
      "print \"svc\", np.mean(cross_val_score(SVC(), X, y))"
     ],
     "language": "python",
     "metadata": {},
     "outputs": [
      {
       "output_type": "stream",
       "stream": "stdout",
       "text": [
        "svc 0.954022988506\n"
       ]
      }
     ],
     "prompt_number": 116
    },
    {
     "cell_type": "code",
     "collapsed": false,
     "input": [
      "print \"dectree\", np.mean(cross_val_score(DecisionTreeClassifier(), X, y))"
     ],
     "language": "python",
     "metadata": {},
     "outputs": [
      {
       "output_type": "stream",
       "stream": "stdout",
       "text": [
        "dectree 0.951724137931\n"
       ]
      }
     ],
     "prompt_number": 117
    },
    {
     "cell_type": "code",
     "collapsed": false,
     "input": [
      "print \"ranfor\", np.mean(cross_val_score(RandomForestClassifier(), X, y))"
     ],
     "language": "python",
     "metadata": {},
     "outputs": [
      {
       "output_type": "stream",
       "stream": "stdout",
       "text": [
        "ranfor 0.95632183908\n"
       ]
      }
     ],
     "prompt_number": 118
    },
    {
     "cell_type": "markdown",
     "metadata": {},
     "source": [
      "###Challenge 10\n",
      "\n",
      "Instead of 'democrat' or 'republican', can you predict the vote of a representative based on their other votes?\n",
      "\n",
      "Reload the data from scratch. Convert y-->1, n-->0.\n",
      "\n",
      "Choose one vote. Build a classifier (logistic regression or KNN), that uses the other votes (do not use the party as a feature) to predict if the vote will be 1 or 0.\n",
      "\n",
      "Convert each ? to the mode of the column (if a senator has not voted, make their vote 1 if most others voted 1, make it 0 if most others voted 0).\n",
      "\n",
      "Calculate the cross validation accuracy of your classifier for predicting how each representative will vote on the issue."
     ]
    },
    {
     "cell_type": "code",
     "collapsed": false,
     "input": [
      "votes10 = pd.read_csv(\"house-votes-84.data\", sep=\",\", na_values=\"?\", names=col_names)\n",
      "votes10 = votes10.replace(\"n\", 0)\n",
      "votes10 = votes10.replace(\"y\", 1)\n",
      "votes10.iloc[:10]"
     ],
     "language": "python",
     "metadata": {},
     "outputs": [
      {
       "html": [
        "<div style=\"max-width:1500px;overflow:auto;\">\n",
        "<table border=\"1\" class=\"dataframe\">\n",
        "  <thead>\n",
        "    <tr style=\"text-align: right;\">\n",
        "      <th></th>\n",
        "      <th>Party</th>\n",
        "      <th>V1</th>\n",
        "      <th>V2</th>\n",
        "      <th>V3</th>\n",
        "      <th>V4</th>\n",
        "      <th>V5</th>\n",
        "      <th>V6</th>\n",
        "      <th>V7</th>\n",
        "      <th>V8</th>\n",
        "      <th>V9</th>\n",
        "      <th>V10</th>\n",
        "      <th>V11</th>\n",
        "      <th>V12</th>\n",
        "      <th>V13</th>\n",
        "      <th>V14</th>\n",
        "      <th>V15</th>\n",
        "      <th>V16</th>\n",
        "    </tr>\n",
        "  </thead>\n",
        "  <tbody>\n",
        "    <tr>\n",
        "      <th>0</th>\n",
        "      <td>republican</td>\n",
        "      <td>0</td>\n",
        "      <td>1</td>\n",
        "      <td>0</td>\n",
        "      <td>1</td>\n",
        "      <td>1</td>\n",
        "      <td>1</td>\n",
        "      <td>0</td>\n",
        "      <td>0</td>\n",
        "      <td>0</td>\n",
        "      <td>1</td>\n",
        "      <td>NaN</td>\n",
        "      <td>1</td>\n",
        "      <td>1</td>\n",
        "      <td>1</td>\n",
        "      <td>0</td>\n",
        "      <td>1</td>\n",
        "    </tr>\n",
        "    <tr>\n",
        "      <th>1</th>\n",
        "      <td>republican</td>\n",
        "      <td>0</td>\n",
        "      <td>1</td>\n",
        "      <td>0</td>\n",
        "      <td>1</td>\n",
        "      <td>1</td>\n",
        "      <td>1</td>\n",
        "      <td>0</td>\n",
        "      <td>0</td>\n",
        "      <td>0</td>\n",
        "      <td>0</td>\n",
        "      <td>0</td>\n",
        "      <td>1</td>\n",
        "      <td>1</td>\n",
        "      <td>1</td>\n",
        "      <td>0</td>\n",
        "      <td>NaN</td>\n",
        "    </tr>\n",
        "    <tr>\n",
        "      <th>2</th>\n",
        "      <td>democrat</td>\n",
        "      <td>NaN</td>\n",
        "      <td>1</td>\n",
        "      <td>1</td>\n",
        "      <td>NaN</td>\n",
        "      <td>1</td>\n",
        "      <td>1</td>\n",
        "      <td>0</td>\n",
        "      <td>0</td>\n",
        "      <td>0</td>\n",
        "      <td>0</td>\n",
        "      <td>1</td>\n",
        "      <td>0</td>\n",
        "      <td>1</td>\n",
        "      <td>1</td>\n",
        "      <td>0</td>\n",
        "      <td>0</td>\n",
        "    </tr>\n",
        "    <tr>\n",
        "      <th>3</th>\n",
        "      <td>democrat</td>\n",
        "      <td>0</td>\n",
        "      <td>1</td>\n",
        "      <td>1</td>\n",
        "      <td>0</td>\n",
        "      <td>NaN</td>\n",
        "      <td>1</td>\n",
        "      <td>0</td>\n",
        "      <td>0</td>\n",
        "      <td>0</td>\n",
        "      <td>0</td>\n",
        "      <td>1</td>\n",
        "      <td>0</td>\n",
        "      <td>1</td>\n",
        "      <td>0</td>\n",
        "      <td>0</td>\n",
        "      <td>1</td>\n",
        "    </tr>\n",
        "    <tr>\n",
        "      <th>4</th>\n",
        "      <td>democrat</td>\n",
        "      <td>1</td>\n",
        "      <td>1</td>\n",
        "      <td>1</td>\n",
        "      <td>0</td>\n",
        "      <td>1</td>\n",
        "      <td>1</td>\n",
        "      <td>0</td>\n",
        "      <td>0</td>\n",
        "      <td>0</td>\n",
        "      <td>0</td>\n",
        "      <td>1</td>\n",
        "      <td>NaN</td>\n",
        "      <td>1</td>\n",
        "      <td>1</td>\n",
        "      <td>1</td>\n",
        "      <td>1</td>\n",
        "    </tr>\n",
        "    <tr>\n",
        "      <th>5</th>\n",
        "      <td>democrat</td>\n",
        "      <td>0</td>\n",
        "      <td>1</td>\n",
        "      <td>1</td>\n",
        "      <td>0</td>\n",
        "      <td>1</td>\n",
        "      <td>1</td>\n",
        "      <td>0</td>\n",
        "      <td>0</td>\n",
        "      <td>0</td>\n",
        "      <td>0</td>\n",
        "      <td>0</td>\n",
        "      <td>0</td>\n",
        "      <td>1</td>\n",
        "      <td>1</td>\n",
        "      <td>1</td>\n",
        "      <td>1</td>\n",
        "    </tr>\n",
        "    <tr>\n",
        "      <th>6</th>\n",
        "      <td>democrat</td>\n",
        "      <td>0</td>\n",
        "      <td>1</td>\n",
        "      <td>0</td>\n",
        "      <td>1</td>\n",
        "      <td>1</td>\n",
        "      <td>1</td>\n",
        "      <td>0</td>\n",
        "      <td>0</td>\n",
        "      <td>0</td>\n",
        "      <td>0</td>\n",
        "      <td>0</td>\n",
        "      <td>0</td>\n",
        "      <td>NaN</td>\n",
        "      <td>1</td>\n",
        "      <td>1</td>\n",
        "      <td>1</td>\n",
        "    </tr>\n",
        "    <tr>\n",
        "      <th>7</th>\n",
        "      <td>republican</td>\n",
        "      <td>0</td>\n",
        "      <td>1</td>\n",
        "      <td>0</td>\n",
        "      <td>1</td>\n",
        "      <td>1</td>\n",
        "      <td>1</td>\n",
        "      <td>0</td>\n",
        "      <td>0</td>\n",
        "      <td>0</td>\n",
        "      <td>0</td>\n",
        "      <td>0</td>\n",
        "      <td>0</td>\n",
        "      <td>1</td>\n",
        "      <td>1</td>\n",
        "      <td>NaN</td>\n",
        "      <td>1</td>\n",
        "    </tr>\n",
        "    <tr>\n",
        "      <th>8</th>\n",
        "      <td>republican</td>\n",
        "      <td>0</td>\n",
        "      <td>1</td>\n",
        "      <td>0</td>\n",
        "      <td>1</td>\n",
        "      <td>1</td>\n",
        "      <td>1</td>\n",
        "      <td>0</td>\n",
        "      <td>0</td>\n",
        "      <td>0</td>\n",
        "      <td>0</td>\n",
        "      <td>0</td>\n",
        "      <td>1</td>\n",
        "      <td>1</td>\n",
        "      <td>1</td>\n",
        "      <td>0</td>\n",
        "      <td>1</td>\n",
        "    </tr>\n",
        "    <tr>\n",
        "      <th>9</th>\n",
        "      <td>democrat</td>\n",
        "      <td>1</td>\n",
        "      <td>1</td>\n",
        "      <td>1</td>\n",
        "      <td>0</td>\n",
        "      <td>0</td>\n",
        "      <td>0</td>\n",
        "      <td>1</td>\n",
        "      <td>1</td>\n",
        "      <td>1</td>\n",
        "      <td>0</td>\n",
        "      <td>0</td>\n",
        "      <td>0</td>\n",
        "      <td>0</td>\n",
        "      <td>0</td>\n",
        "      <td>NaN</td>\n",
        "      <td>NaN</td>\n",
        "    </tr>\n",
        "  </tbody>\n",
        "</table>\n",
        "</div>"
       ],
       "metadata": {},
       "output_type": "pyout",
       "prompt_number": 119,
       "text": [
        "        Party  V1  V2  V3  V4  V5  V6  V7  V8  V9  V10  V11  V12  V13  V14  \\\n",
        "0  republican   0   1   0   1   1   1   0   0   0    1  NaN    1    1    1   \n",
        "1  republican   0   1   0   1   1   1   0   0   0    0    0    1    1    1   \n",
        "2    democrat NaN   1   1 NaN   1   1   0   0   0    0    1    0    1    1   \n",
        "3    democrat   0   1   1   0 NaN   1   0   0   0    0    1    0    1    0   \n",
        "4    democrat   1   1   1   0   1   1   0   0   0    0    1  NaN    1    1   \n",
        "5    democrat   0   1   1   0   1   1   0   0   0    0    0    0    1    1   \n",
        "6    democrat   0   1   0   1   1   1   0   0   0    0    0    0  NaN    1   \n",
        "7  republican   0   1   0   1   1   1   0   0   0    0    0    0    1    1   \n",
        "8  republican   0   1   0   1   1   1   0   0   0    0    0    1    1    1   \n",
        "9    democrat   1   1   1   0   0   0   1   1   1    0    0    0    0    0   \n",
        "\n",
        "   V15  V16  \n",
        "0    0    1  \n",
        "1    0  NaN  \n",
        "2    0    0  \n",
        "3    0    1  \n",
        "4    1    1  \n",
        "5    1    1  \n",
        "6    1    1  \n",
        "7  NaN    1  \n",
        "8    0    1  \n",
        "9  NaN  NaN  "
       ]
      }
     ],
     "prompt_number": 119
    },
    {
     "cell_type": "code",
     "collapsed": false,
     "input": [
      "votes10 = votes10.fillna(votes10.mode().iloc[0])\n",
      "votes10.iloc[:10]"
     ],
     "language": "python",
     "metadata": {},
     "outputs": [
      {
       "html": [
        "<div style=\"max-width:1500px;overflow:auto;\">\n",
        "<table border=\"1\" class=\"dataframe\">\n",
        "  <thead>\n",
        "    <tr style=\"text-align: right;\">\n",
        "      <th></th>\n",
        "      <th>Party</th>\n",
        "      <th>V1</th>\n",
        "      <th>V2</th>\n",
        "      <th>V3</th>\n",
        "      <th>V4</th>\n",
        "      <th>V5</th>\n",
        "      <th>V6</th>\n",
        "      <th>V7</th>\n",
        "      <th>V8</th>\n",
        "      <th>V9</th>\n",
        "      <th>V10</th>\n",
        "      <th>V11</th>\n",
        "      <th>V12</th>\n",
        "      <th>V13</th>\n",
        "      <th>V14</th>\n",
        "      <th>V15</th>\n",
        "      <th>V16</th>\n",
        "    </tr>\n",
        "  </thead>\n",
        "  <tbody>\n",
        "    <tr>\n",
        "      <th>0</th>\n",
        "      <td>republican</td>\n",
        "      <td>0</td>\n",
        "      <td>1</td>\n",
        "      <td>0</td>\n",
        "      <td>1</td>\n",
        "      <td>1</td>\n",
        "      <td>1</td>\n",
        "      <td>0</td>\n",
        "      <td>0</td>\n",
        "      <td>0</td>\n",
        "      <td>1</td>\n",
        "      <td>0</td>\n",
        "      <td>1</td>\n",
        "      <td>1</td>\n",
        "      <td>1</td>\n",
        "      <td>0</td>\n",
        "      <td>1</td>\n",
        "    </tr>\n",
        "    <tr>\n",
        "      <th>1</th>\n",
        "      <td>republican</td>\n",
        "      <td>0</td>\n",
        "      <td>1</td>\n",
        "      <td>0</td>\n",
        "      <td>1</td>\n",
        "      <td>1</td>\n",
        "      <td>1</td>\n",
        "      <td>0</td>\n",
        "      <td>0</td>\n",
        "      <td>0</td>\n",
        "      <td>0</td>\n",
        "      <td>0</td>\n",
        "      <td>1</td>\n",
        "      <td>1</td>\n",
        "      <td>1</td>\n",
        "      <td>0</td>\n",
        "      <td>1</td>\n",
        "    </tr>\n",
        "    <tr>\n",
        "      <th>2</th>\n",
        "      <td>democrat</td>\n",
        "      <td>0</td>\n",
        "      <td>1</td>\n",
        "      <td>1</td>\n",
        "      <td>0</td>\n",
        "      <td>1</td>\n",
        "      <td>1</td>\n",
        "      <td>0</td>\n",
        "      <td>0</td>\n",
        "      <td>0</td>\n",
        "      <td>0</td>\n",
        "      <td>1</td>\n",
        "      <td>0</td>\n",
        "      <td>1</td>\n",
        "      <td>1</td>\n",
        "      <td>0</td>\n",
        "      <td>0</td>\n",
        "    </tr>\n",
        "    <tr>\n",
        "      <th>3</th>\n",
        "      <td>democrat</td>\n",
        "      <td>0</td>\n",
        "      <td>1</td>\n",
        "      <td>1</td>\n",
        "      <td>0</td>\n",
        "      <td>1</td>\n",
        "      <td>1</td>\n",
        "      <td>0</td>\n",
        "      <td>0</td>\n",
        "      <td>0</td>\n",
        "      <td>0</td>\n",
        "      <td>1</td>\n",
        "      <td>0</td>\n",
        "      <td>1</td>\n",
        "      <td>0</td>\n",
        "      <td>0</td>\n",
        "      <td>1</td>\n",
        "    </tr>\n",
        "    <tr>\n",
        "      <th>4</th>\n",
        "      <td>democrat</td>\n",
        "      <td>1</td>\n",
        "      <td>1</td>\n",
        "      <td>1</td>\n",
        "      <td>0</td>\n",
        "      <td>1</td>\n",
        "      <td>1</td>\n",
        "      <td>0</td>\n",
        "      <td>0</td>\n",
        "      <td>0</td>\n",
        "      <td>0</td>\n",
        "      <td>1</td>\n",
        "      <td>0</td>\n",
        "      <td>1</td>\n",
        "      <td>1</td>\n",
        "      <td>1</td>\n",
        "      <td>1</td>\n",
        "    </tr>\n",
        "    <tr>\n",
        "      <th>5</th>\n",
        "      <td>democrat</td>\n",
        "      <td>0</td>\n",
        "      <td>1</td>\n",
        "      <td>1</td>\n",
        "      <td>0</td>\n",
        "      <td>1</td>\n",
        "      <td>1</td>\n",
        "      <td>0</td>\n",
        "      <td>0</td>\n",
        "      <td>0</td>\n",
        "      <td>0</td>\n",
        "      <td>0</td>\n",
        "      <td>0</td>\n",
        "      <td>1</td>\n",
        "      <td>1</td>\n",
        "      <td>1</td>\n",
        "      <td>1</td>\n",
        "    </tr>\n",
        "    <tr>\n",
        "      <th>6</th>\n",
        "      <td>democrat</td>\n",
        "      <td>0</td>\n",
        "      <td>1</td>\n",
        "      <td>0</td>\n",
        "      <td>1</td>\n",
        "      <td>1</td>\n",
        "      <td>1</td>\n",
        "      <td>0</td>\n",
        "      <td>0</td>\n",
        "      <td>0</td>\n",
        "      <td>0</td>\n",
        "      <td>0</td>\n",
        "      <td>0</td>\n",
        "      <td>1</td>\n",
        "      <td>1</td>\n",
        "      <td>1</td>\n",
        "      <td>1</td>\n",
        "    </tr>\n",
        "    <tr>\n",
        "      <th>7</th>\n",
        "      <td>republican</td>\n",
        "      <td>0</td>\n",
        "      <td>1</td>\n",
        "      <td>0</td>\n",
        "      <td>1</td>\n",
        "      <td>1</td>\n",
        "      <td>1</td>\n",
        "      <td>0</td>\n",
        "      <td>0</td>\n",
        "      <td>0</td>\n",
        "      <td>0</td>\n",
        "      <td>0</td>\n",
        "      <td>0</td>\n",
        "      <td>1</td>\n",
        "      <td>1</td>\n",
        "      <td>0</td>\n",
        "      <td>1</td>\n",
        "    </tr>\n",
        "    <tr>\n",
        "      <th>8</th>\n",
        "      <td>republican</td>\n",
        "      <td>0</td>\n",
        "      <td>1</td>\n",
        "      <td>0</td>\n",
        "      <td>1</td>\n",
        "      <td>1</td>\n",
        "      <td>1</td>\n",
        "      <td>0</td>\n",
        "      <td>0</td>\n",
        "      <td>0</td>\n",
        "      <td>0</td>\n",
        "      <td>0</td>\n",
        "      <td>1</td>\n",
        "      <td>1</td>\n",
        "      <td>1</td>\n",
        "      <td>0</td>\n",
        "      <td>1</td>\n",
        "    </tr>\n",
        "    <tr>\n",
        "      <th>9</th>\n",
        "      <td>democrat</td>\n",
        "      <td>1</td>\n",
        "      <td>1</td>\n",
        "      <td>1</td>\n",
        "      <td>0</td>\n",
        "      <td>0</td>\n",
        "      <td>0</td>\n",
        "      <td>1</td>\n",
        "      <td>1</td>\n",
        "      <td>1</td>\n",
        "      <td>0</td>\n",
        "      <td>0</td>\n",
        "      <td>0</td>\n",
        "      <td>0</td>\n",
        "      <td>0</td>\n",
        "      <td>0</td>\n",
        "      <td>1</td>\n",
        "    </tr>\n",
        "  </tbody>\n",
        "</table>\n",
        "</div>"
       ],
       "metadata": {},
       "output_type": "pyout",
       "prompt_number": 120,
       "text": [
        "        Party  V1  V2  V3  V4  V5  V6  V7  V8  V9  V10  V11  V12  V13  V14  \\\n",
        "0  republican   0   1   0   1   1   1   0   0   0    1    0    1    1    1   \n",
        "1  republican   0   1   0   1   1   1   0   0   0    0    0    1    1    1   \n",
        "2    democrat   0   1   1   0   1   1   0   0   0    0    1    0    1    1   \n",
        "3    democrat   0   1   1   0   1   1   0   0   0    0    1    0    1    0   \n",
        "4    democrat   1   1   1   0   1   1   0   0   0    0    1    0    1    1   \n",
        "5    democrat   0   1   1   0   1   1   0   0   0    0    0    0    1    1   \n",
        "6    democrat   0   1   0   1   1   1   0   0   0    0    0    0    1    1   \n",
        "7  republican   0   1   0   1   1   1   0   0   0    0    0    0    1    1   \n",
        "8  republican   0   1   0   1   1   1   0   0   0    0    0    1    1    1   \n",
        "9    democrat   1   1   1   0   0   0   1   1   1    0    0    0    0    0   \n",
        "\n",
        "   V15  V16  \n",
        "0    0    1  \n",
        "1    0    1  \n",
        "2    0    0  \n",
        "3    0    1  \n",
        "4    1    1  \n",
        "5    1    1  \n",
        "6    1    1  \n",
        "7    0    1  \n",
        "8    0    1  \n",
        "9    0    1  "
       ]
      }
     ],
     "prompt_number": 120
    },
    {
     "cell_type": "code",
     "collapsed": false,
     "input": [
      "y10 = votes10[\"V16\"]\n",
      "X10 = votes10.iloc[:,1:16]\n",
      "print X10.head(), '\\n', y10.head()"
     ],
     "language": "python",
     "metadata": {},
     "outputs": [
      {
       "output_type": "stream",
       "stream": "stdout",
       "text": [
        "   V1  V2  V3  V4  V5  V6  V7  V8  V9  V10  V11  V12  V13  V14  V15\n",
        "0   0   1   0   1   1   1   0   0   0    1    0    1    1    1    0\n",
        "1   0   1   0   1   1   1   0   0   0    0    0    1    1    1    0\n",
        "2   0   1   1   0   1   1   0   0   0    0    1    0    1    1    0\n",
        "3   0   1   1   0   1   1   0   0   0    0    1    0    1    0    0\n",
        "4   1   1   1   0   1   1   0   0   0    0    1    0    1    1    1 \n",
        "0    1\n",
        "1    1\n",
        "2    0\n",
        "3    1\n",
        "4    1\n",
        "Name: V16, dtype: float64\n"
       ]
      }
     ],
     "prompt_number": 121
    },
    {
     "cell_type": "code",
     "collapsed": false,
     "input": [
      "print \"logreg\", np.mean(cross_val_score(linear_model.LogisticRegression(), X10, y10))"
     ],
     "language": "python",
     "metadata": {},
     "outputs": [
      {
       "output_type": "stream",
       "stream": "stdout",
       "text": [
        "logreg 0.848223595584\n"
       ]
      }
     ],
     "prompt_number": 122
    },
    {
     "cell_type": "code",
     "collapsed": false,
     "input": [
      "print \"knn\", np.mean(cross_val_score(KNeighborsClassifier(), X10, y10))"
     ],
     "language": "python",
     "metadata": {},
     "outputs": [
      {
       "output_type": "stream",
       "stream": "stdout",
       "text": [
        "knn 0.804496229815\n"
       ]
      }
     ],
     "prompt_number": 123
    },
    {
     "cell_type": "markdown",
     "metadata": {},
     "source": [
      "###Challenge 11\n",
      "\n",
      "Back to movie data! Choose one categoric feature to predict. I chose MPAA Rating, but genre, month, etc. are all decent choices. If you don't have any non-numeric features, you can make two bins out of a numeric one (like \"Runtime>100 mins\" and \"Runtime<=100 mins\")\n",
      "\n",
      "Make a bar graph of how many of each movie there is in the data. For example, with Ratings, show how many G, PG, PG-13, R movies there are, etc. (basically a histogram of your labels).\n",
      "\n",
      "Predict your outcome variable (labels) using KNN and logistic regression. Calculate their accuracies.\n",
      "\n",
      "Make a baseline stupid predictor that always predicts the label that is present the most in the data. Calculate its accuracy on a test set.\n",
      "\n",
      "How much better do KNN and logistic regression do versus the baseline?\n",
      "\n",
      "What are the coefficients of logistic regression? Which features affect the outcome how?"
     ]
    },
    {
     "cell_type": "code",
     "collapsed": false,
     "input": [
      "movies = pd.read_csv(\"2013_movies.csv\", sep=\",\")\n",
      "movies.head()"
     ],
     "language": "python",
     "metadata": {},
     "outputs": [
      {
       "html": [
        "<div style=\"max-width:1500px;overflow:auto;\">\n",
        "<table border=\"1\" class=\"dataframe\">\n",
        "  <thead>\n",
        "    <tr style=\"text-align: right;\">\n",
        "      <th></th>\n",
        "      <th>Title</th>\n",
        "      <th>Budget</th>\n",
        "      <th>DomesticTotalGross</th>\n",
        "      <th>Director</th>\n",
        "      <th>Rating</th>\n",
        "      <th>Runtime</th>\n",
        "      <th>ReleaseDate</th>\n",
        "    </tr>\n",
        "  </thead>\n",
        "  <tbody>\n",
        "    <tr>\n",
        "      <th>0</th>\n",
        "      <td>The Hunger Games: Catching Fire</td>\n",
        "      <td>130000000</td>\n",
        "      <td>424668047</td>\n",
        "      <td>Francis Lawrence</td>\n",
        "      <td>PG-13</td>\n",
        "      <td>146</td>\n",
        "      <td>2013-11-22 00:00:00</td>\n",
        "    </tr>\n",
        "    <tr>\n",
        "      <th>1</th>\n",
        "      <td>Iron Man 3</td>\n",
        "      <td>200000000</td>\n",
        "      <td>409013994</td>\n",
        "      <td>Shane Black</td>\n",
        "      <td>PG-13</td>\n",
        "      <td>129</td>\n",
        "      <td>2013-05-03 00:00:00</td>\n",
        "    </tr>\n",
        "    <tr>\n",
        "      <th>2</th>\n",
        "      <td>Frozen</td>\n",
        "      <td>150000000</td>\n",
        "      <td>400738009</td>\n",
        "      <td>Chris BuckJennifer Lee</td>\n",
        "      <td>PG</td>\n",
        "      <td>108</td>\n",
        "      <td>2013-11-22 00:00:00</td>\n",
        "    </tr>\n",
        "    <tr>\n",
        "      <th>3</th>\n",
        "      <td>Despicable Me 2</td>\n",
        "      <td>76000000</td>\n",
        "      <td>368061265</td>\n",
        "      <td>Pierre CoffinChris Renaud</td>\n",
        "      <td>PG</td>\n",
        "      <td>98</td>\n",
        "      <td>2013-07-03 00:00:00</td>\n",
        "    </tr>\n",
        "    <tr>\n",
        "      <th>4</th>\n",
        "      <td>Man of Steel</td>\n",
        "      <td>225000000</td>\n",
        "      <td>291045518</td>\n",
        "      <td>Zack Snyder</td>\n",
        "      <td>PG-13</td>\n",
        "      <td>143</td>\n",
        "      <td>2013-06-14 00:00:00</td>\n",
        "    </tr>\n",
        "  </tbody>\n",
        "</table>\n",
        "</div>"
       ],
       "metadata": {},
       "output_type": "pyout",
       "prompt_number": 124,
       "text": [
        "                             Title     Budget  DomesticTotalGross  \\\n",
        "0  The Hunger Games: Catching Fire  130000000           424668047   \n",
        "1                       Iron Man 3  200000000           409013994   \n",
        "2                           Frozen  150000000           400738009   \n",
        "3                  Despicable Me 2   76000000           368061265   \n",
        "4                     Man of Steel  225000000           291045518   \n",
        "\n",
        "                    Director Rating  Runtime          ReleaseDate  \n",
        "0           Francis Lawrence  PG-13      146  2013-11-22 00:00:00  \n",
        "1                Shane Black  PG-13      129  2013-05-03 00:00:00  \n",
        "2     Chris BuckJennifer Lee     PG      108  2013-11-22 00:00:00  \n",
        "3  Pierre CoffinChris Renaud     PG       98  2013-07-03 00:00:00  \n",
        "4                Zack Snyder  PG-13      143  2013-06-14 00:00:00  "
       ]
      }
     ],
     "prompt_number": 124
    },
    {
     "cell_type": "code",
     "collapsed": false,
     "input": [
      "sns.countplot(x=\"Rating\", data=movies, color=data_c, alpha=data_al)\n",
      "sns.plt.show()"
     ],
     "language": "python",
     "metadata": {},
     "outputs": [
      {
       "metadata": {},
       "output_type": "display_data",
       "png": "[encoded data removed]",
       "text": [
        "<matplotlib.figure.Figure at 0x7f6801e54050>"
       ]
      }
     ],
     "prompt_number": 125
    },
    {
     "cell_type": "code",
     "collapsed": false,
     "input": [
      "moviesb = movies.dropna()\n",
      "Xm = moviesb[[\"Budget\", \"DomesticTotalGross\", \"Runtime\"]]\n",
      "ym = moviesb[\"Rating\"]\n",
      "Xm.head() "
     ],
     "language": "python",
     "metadata": {},
     "outputs": [
      {
       "html": [
        "<div style=\"max-width:1500px;overflow:auto;\">\n",
        "<table border=\"1\" class=\"dataframe\">\n",
        "  <thead>\n",
        "    <tr style=\"text-align: right;\">\n",
        "      <th></th>\n",
        "      <th>Budget</th>\n",
        "      <th>DomesticTotalGross</th>\n",
        "      <th>Runtime</th>\n",
        "    </tr>\n",
        "  </thead>\n",
        "  <tbody>\n",
        "    <tr>\n",
        "      <th>0</th>\n",
        "      <td>130000000</td>\n",
        "      <td>424668047</td>\n",
        "      <td>146</td>\n",
        "    </tr>\n",
        "    <tr>\n",
        "      <th>1</th>\n",
        "      <td>200000000</td>\n",
        "      <td>409013994</td>\n",
        "      <td>129</td>\n",
        "    </tr>\n",
        "    <tr>\n",
        "      <th>2</th>\n",
        "      <td>150000000</td>\n",
        "      <td>400738009</td>\n",
        "      <td>108</td>\n",
        "    </tr>\n",
        "    <tr>\n",
        "      <th>3</th>\n",
        "      <td>76000000</td>\n",
        "      <td>368061265</td>\n",
        "      <td>98</td>\n",
        "    </tr>\n",
        "    <tr>\n",
        "      <th>4</th>\n",
        "      <td>225000000</td>\n",
        "      <td>291045518</td>\n",
        "      <td>143</td>\n",
        "    </tr>\n",
        "  </tbody>\n",
        "</table>\n",
        "</div>"
       ],
       "metadata": {},
       "output_type": "pyout",
       "prompt_number": 126,
       "text": [
        "      Budget  DomesticTotalGross  Runtime\n",
        "0  130000000           424668047      146\n",
        "1  200000000           409013994      129\n",
        "2  150000000           400738009      108\n",
        "3   76000000           368061265       98\n",
        "4  225000000           291045518      143"
       ]
      }
     ],
     "prompt_number": 126
    },
    {
     "cell_type": "code",
     "collapsed": false,
     "input": [
      "ym.values #I think I somehow dropped the G value with the earlier dropna command"
     ],
     "language": "python",
     "metadata": {},
     "outputs": [
      {
       "metadata": {},
       "output_type": "pyout",
       "prompt_number": 127,
       "text": [
        "array(['PG-13', 'PG-13', 'PG', 'PG', 'PG-13', 'PG-13', 'PG-13', 'PG',\n",
        "       'PG-13', 'PG-13', 'PG-13', 'PG', 'R', 'R', 'R', 'PG-13', 'R', 'R',\n",
        "       'PG-13', 'PG-13', 'PG-13', 'R', 'PG-13', 'PG-13', 'R', 'PG-13', 'R',\n",
        "       'PG', 'PG-13', 'R', 'PG-13', 'R', 'R', 'PG-13', 'R', 'PG', 'PG-13',\n",
        "       'PG-13', 'PG-13', 'PG-13', 'PG', 'R', 'PG-13', 'PG-13', 'PG-13',\n",
        "       'PG', 'R', 'PG', 'R', 'PG-13', 'PG-13', 'R', 'PG-13', 'PG-13', 'R',\n",
        "       'PG-13', 'PG', 'PG', 'R', 'PG', 'R', 'R', 'PG-13', 'R', 'R', 'R',\n",
        "       'PG-13', 'R', 'R', 'PG-13', 'PG-13', 'R', 'PG', 'R', 'PG-13',\n",
        "       'PG-13', 'PG-13', 'PG-13', 'PG-13', 'PG', 'R', 'R', 'R', 'PG-13',\n",
        "       'R', 'R', 'R'], dtype=object)"
       ]
      }
     ],
     "prompt_number": 127
    },
    {
     "cell_type": "code",
     "collapsed": false,
     "input": [
      "print \"logreg\", np.mean(cross_val_score(linear_model.LogisticRegression(), Xm, ym))\n",
      "print \"knn\", np.mean(cross_val_score(KNeighborsClassifier(6), Xm, ym))"
     ],
     "language": "python",
     "metadata": {},
     "outputs": [
      {
       "output_type": "stream",
       "stream": "stdout",
       "text": [
        "logreg 0.550602079912\n",
        "knn 0.425259989053\n"
       ]
      }
     ],
     "prompt_number": 128
    },
    {
     "cell_type": "code",
     "collapsed": false,
     "input": [
      "def pg13_pred(data):\n",
      "    pg13s = [\"PG-13\" for _ in range(len(data))]\n",
      "    return pg13s"
     ],
     "language": "python",
     "metadata": {},
     "outputs": [],
     "prompt_number": 129
    },
    {
     "cell_type": "code",
     "collapsed": false,
     "input": [
      "Xm_train, Xm_test, ym_train, ym_test = train_test_split(Xm, ym, test_size=0.25, random_state=r_state)\n",
      "Xm_train.head()"
     ],
     "language": "python",
     "metadata": {},
     "outputs": [
      {
       "html": [
        "<div style=\"max-width:1500px;overflow:auto;\">\n",
        "<table border=\"1\" class=\"dataframe\">\n",
        "  <thead>\n",
        "    <tr style=\"text-align: right;\">\n",
        "      <th></th>\n",
        "      <th>Budget</th>\n",
        "      <th>DomesticTotalGross</th>\n",
        "      <th>Runtime</th>\n",
        "    </tr>\n",
        "  </thead>\n",
        "  <tbody>\n",
        "    <tr>\n",
        "      <th>48</th>\n",
        "      <td>105000000</td>\n",
        "      <td>71017784</td>\n",
        "      <td>105</td>\n",
        "    </tr>\n",
        "    <tr>\n",
        "      <th>97</th>\n",
        "      <td>20000000</td>\n",
        "      <td>26004851</td>\n",
        "      <td>109</td>\n",
        "    </tr>\n",
        "    <tr>\n",
        "      <th>29</th>\n",
        "      <td>103000000</td>\n",
        "      <td>112200072</td>\n",
        "      <td>100</td>\n",
        "    </tr>\n",
        "    <tr>\n",
        "      <th>70</th>\n",
        "      <td>60000000</td>\n",
        "      <td>46000903</td>\n",
        "      <td>113</td>\n",
        "    </tr>\n",
        "    <tr>\n",
        "      <th>99</th>\n",
        "      <td>23000000</td>\n",
        "      <td>25568251</td>\n",
        "      <td>120</td>\n",
        "    </tr>\n",
        "  </tbody>\n",
        "</table>\n",
        "</div>"
       ],
       "metadata": {},
       "output_type": "pyout",
       "prompt_number": 130,
       "text": [
        "       Budget  DomesticTotalGross  Runtime\n",
        "48  105000000            71017784      105\n",
        "97   20000000            26004851      109\n",
        "29  103000000           112200072      100\n",
        "70   60000000            46000903      113\n",
        "99   23000000            25568251      120"
       ]
      }
     ],
     "prompt_number": 130
    },
    {
     "cell_type": "code",
     "collapsed": false,
     "input": [
      "ym_train.head()"
     ],
     "language": "python",
     "metadata": {},
     "outputs": [
      {
       "metadata": {},
       "output_type": "pyout",
       "prompt_number": 131,
       "text": [
        "48    PG\n",
        "97     R\n",
        "29     R\n",
        "70     R\n",
        "99     R\n",
        "Name: Rating, dtype: object"
       ]
      }
     ],
     "prompt_number": 131
    },
    {
     "cell_type": "code",
     "collapsed": false,
     "input": [
      "pg13_acc = accuracy_score(ym_test, pg13_pred(Xm_test))\n",
      "print \"PG13 pred acc:\", pg13_acc"
     ],
     "language": "python",
     "metadata": {},
     "outputs": [
      {
       "output_type": "stream",
       "stream": "stdout",
       "text": [
        "PG13 pred acc: 0.454545454545\n"
       ]
      }
     ],
     "prompt_number": 132
    },
    {
     "cell_type": "markdown",
     "metadata": {},
     "source": [
      "Always predicting PG-13 seems to actually be slightly more accurate than KNN for rating prediction. :(  \n",
      "The logistic regression seems to be about 10% better than the stupid algorithm."
     ]
    },
    {
     "cell_type": "code",
     "collapsed": false,
     "input": [
      "#print logreg.classes_[0], logreg.coef_[0]"
     ],
     "language": "python",
     "metadata": {},
     "outputs": [],
     "prompt_number": 133
    },
    {
     "cell_type": "code",
     "collapsed": false,
     "input": [
      "logreg = linear_model.LogisticRegression()\n",
      "logreg.fit(Xm, ym)\n",
      "for x in range(len(logreg.classes_)):\n",
      "    print logreg.classes_[x], \"\\t\", logreg.coef_[x]"
     ],
     "language": "python",
     "metadata": {},
     "outputs": [
      {
       "output_type": "stream",
       "stream": "stdout",
       "text": [
        "PG \t[ -6.98558915e-09  -5.01821745e-09  -1.61743117e-13]\n",
        "PG-13 \t[  8.69092546e-09  -4.44510939e-09  -4.67765450e-14]\n",
        "R \t[ -1.78037425e-08   3.48107421e-09   9.80588274e-14]\n"
       ]
      }
     ],
     "prompt_number": 134
    },
    {
     "cell_type": "markdown",
     "metadata": {},
     "source": [
      "###Challenge 12\n",
      "\n",
      "Now you are a classification master. The representative votes dataset only had 0s and 1s. Let's just swiftly tackle the breast cancer surgery data we talked about in class.\n",
      "\n",
      "Get it from here: Haberman Survival Dataset\n",
      "\n",
      "What is the average and standard deviation of the age of all of the patients?  \n",
      "What is the average and standard deviation of the age of those patients that survived 5 or more years after surgery?  \n",
      "What is the average and standard deviation of the age of those patients who survived fewer than 5 years after surgery?  \n",
      "Plot a histogram of the ages side by side with a histogram of the number of axillary nodes.  \n",
      "What is the earliest year of surgery in this dataset?  \n",
      "What is the most recent year of surgery?  \n",
      "Use logistic regression to predict survival after 5 years. How well does your model do?  \n",
      "What are the coefficients of logistic regression? Which features affect the outcome how?  \n",
      "Draw the learning curve for logistic regression in this case.  "
     ]
    },
    {
     "cell_type": "markdown",
     "metadata": {},
     "source": [
      "Attribute Information:\n",
      "   1. Age of patient at time of operation (numerical)\n",
      "   2. Patient's year of operation (year - 1900, numerical)\n",
      "   3. Number of positive axillary nodes detected (numerical)\n",
      "   4. Survival status (class attribute)\n",
      "         1 = the patient survived 5 years or longer\n",
      "         2 = the patient died within 5 years"
     ]
    },
    {
     "cell_type": "code",
     "collapsed": false,
     "input": [
      "haber_cols = [\"Age\", \"19YR\", \"Nodes\", \"SStatus\"]\n",
      "haber = pd.read_csv(\"haberman.data\", sep=\",\", names=haber_cols)\n",
      "haber.head()"
     ],
     "language": "python",
     "metadata": {},
     "outputs": [
      {
       "html": [
        "<div style=\"max-width:1500px;overflow:auto;\">\n",
        "<table border=\"1\" class=\"dataframe\">\n",
        "  <thead>\n",
        "    <tr style=\"text-align: right;\">\n",
        "      <th></th>\n",
        "      <th>Age</th>\n",
        "      <th>19YR</th>\n",
        "      <th>Nodes</th>\n",
        "      <th>SStatus</th>\n",
        "    </tr>\n",
        "  </thead>\n",
        "  <tbody>\n",
        "    <tr>\n",
        "      <th>0</th>\n",
        "      <td>30</td>\n",
        "      <td>64</td>\n",
        "      <td>1</td>\n",
        "      <td>1</td>\n",
        "    </tr>\n",
        "    <tr>\n",
        "      <th>1</th>\n",
        "      <td>30</td>\n",
        "      <td>62</td>\n",
        "      <td>3</td>\n",
        "      <td>1</td>\n",
        "    </tr>\n",
        "    <tr>\n",
        "      <th>2</th>\n",
        "      <td>30</td>\n",
        "      <td>65</td>\n",
        "      <td>0</td>\n",
        "      <td>1</td>\n",
        "    </tr>\n",
        "    <tr>\n",
        "      <th>3</th>\n",
        "      <td>31</td>\n",
        "      <td>59</td>\n",
        "      <td>2</td>\n",
        "      <td>1</td>\n",
        "    </tr>\n",
        "    <tr>\n",
        "      <th>4</th>\n",
        "      <td>31</td>\n",
        "      <td>65</td>\n",
        "      <td>4</td>\n",
        "      <td>1</td>\n",
        "    </tr>\n",
        "  </tbody>\n",
        "</table>\n",
        "</div>"
       ],
       "metadata": {},
       "output_type": "pyout",
       "prompt_number": 135,
       "text": [
        "   Age  19YR  Nodes  SStatus\n",
        "0   30    64      1        1\n",
        "1   30    62      3        1\n",
        "2   30    65      0        1\n",
        "3   31    59      2        1\n",
        "4   31    65      4        1"
       ]
      }
     ],
     "prompt_number": 135
    },
    {
     "cell_type": "code",
     "collapsed": false,
     "input": [
      "print \"All patients\"\n",
      "avgage = haber[\"Age\"].mean()\n",
      "agestd = haber[\"Age\"].std()\n",
      "print \"avg age: \", avgage, \"\\nage std:\", agestd"
     ],
     "language": "python",
     "metadata": {},
     "outputs": [
      {
       "output_type": "stream",
       "stream": "stdout",
       "text": [
        "All patients\n",
        "avg age:  52.4575163399 \n",
        "age std: 10.8034523493\n"
       ]
      }
     ],
     "prompt_number": 136
    },
    {
     "cell_type": "code",
     "collapsed": false,
     "input": [
      "print \"Of patients who survived\"\n",
      "habersurvived = haber[haber[\"SStatus\"] == 1]\n",
      "print habersurvived.head()\n",
      "yesage = habersurvived[\"Age\"].mean()\n",
      "yesstd = habersurvived[\"Age\"].std()\n",
      "print \"avg age: \", yesage, \"\\nage std:\", yesstd"
     ],
     "language": "python",
     "metadata": {},
     "outputs": [
      {
       "output_type": "stream",
       "stream": "stdout",
       "text": [
        "Of patients who survived\n",
        "   Age  19YR  Nodes  SStatus\n",
        "0   30    64      1        1\n",
        "1   30    62      3        1\n",
        "2   30    65      0        1\n",
        "3   31    59      2        1\n",
        "4   31    65      4        1\n",
        "avg age:  52.0177777778 \n",
        "age std: 11.0121541799\n"
       ]
      }
     ],
     "prompt_number": 137
    },
    {
     "cell_type": "code",
     "collapsed": false,
     "input": [
      "print \"Of patients who died\"\n",
      "haberno = haber[haber[\"SStatus\"] == 2]\n",
      "print haberno.head()\n",
      "noage = haberno[\"Age\"].mean()\n",
      "nostd = haberno[\"Age\"].std()\n",
      "print \"avg age: \", noage, \"\\nage std:\", nostd"
     ],
     "language": "python",
     "metadata": {},
     "outputs": [
      {
       "output_type": "stream",
       "stream": "stdout",
       "text": [
        "Of patients who died\n",
        "    Age  19YR  Nodes  SStatus\n",
        "7    34    59      0        2\n",
        "8    34    66      9        2\n",
        "24   38    69     21        2\n",
        "34   39    66      0        2\n",
        "43   41    60     23        2\n",
        "avg age:  53.6790123457 \n",
        "age std: 10.1671372083\n"
       ]
      }
     ],
     "prompt_number": 138
    },
    {
     "cell_type": "code",
     "collapsed": false,
     "input": [
      "ax = plt.subplot(121)\n",
      "sns.distplot(haber[\"Age\"], kde=False, color=data_c)\n",
      "\n",
      "ax2 = plt.subplot(122)\n",
      "sns.distplot(haber[\"Nodes\"], kde=False, color=pred_c)\n",
      "sns.plt.show()"
     ],
     "language": "python",
     "metadata": {},
     "outputs": [
      {
       "metadata": {},
       "output_type": "display_data",
       "png": "[encoded data removed]",
       "text": [
        "<matplotlib.figure.Figure at 0x7f6801dc9e90>"
       ]
      }
     ],
     "prompt_number": 139
    },
    {
     "cell_type": "code",
     "collapsed": false,
     "input": [
      "min(haber[\"19YR\"])"
     ],
     "language": "python",
     "metadata": {},
     "outputs": [
      {
       "metadata": {},
       "output_type": "pyout",
       "prompt_number": 140,
       "text": [
        "58"
       ]
      }
     ],
     "prompt_number": 140
    },
    {
     "cell_type": "code",
     "collapsed": false,
     "input": [
      "max(haber[\"19YR\"])"
     ],
     "language": "python",
     "metadata": {},
     "outputs": [
      {
       "metadata": {},
       "output_type": "pyout",
       "prompt_number": 141,
       "text": [
        "69"
       ]
      }
     ],
     "prompt_number": 141
    },
    {
     "cell_type": "code",
     "collapsed": false,
     "input": [
      "Xh = haber[[\"Age\", \"19YR\", \"Nodes\"]]\n",
      "yh = haber[\"SStatus\"]\n",
      "print Xh.head(), \"\\n\", yh.head()"
     ],
     "language": "python",
     "metadata": {},
     "outputs": [
      {
       "output_type": "stream",
       "stream": "stdout",
       "text": [
        "   Age  19YR  Nodes\n",
        "0   30    64      1\n",
        "1   30    62      3\n",
        "2   30    65      0\n",
        "3   31    59      2\n",
        "4   31    65      4 \n",
        "0    1\n",
        "1    1\n",
        "2    1\n",
        "3    1\n",
        "4    1\n",
        "Name: SStatus, dtype: int64\n"
       ]
      }
     ],
     "prompt_number": 142
    },
    {
     "cell_type": "code",
     "collapsed": false,
     "input": [
      "logreg = linear_model.LogisticRegression()\n",
      "logreg.fit(Xh, yh)\n",
      "print logreg.classes_, \"\\n\", logreg.coef_"
     ],
     "language": "python",
     "metadata": {},
     "outputs": [
      {
       "output_type": "stream",
       "stream": "stdout",
       "text": [
        "[1 2] \n",
        "[[ 0.01854689 -0.0345458   0.08812314]]\n"
       ]
      }
     ],
     "prompt_number": 149
    },
    {
     "cell_type": "code",
     "collapsed": false,
     "input": [],
     "language": "python",
     "metadata": {},
     "outputs": [],
     "prompt_number": 143
    },
    {
     "cell_type": "code",
     "collapsed": false,
     "input": [
      "plot_learning_curve(linear_model.LogisticRegression(), Xh, yh)"
     ],
     "language": "python",
     "metadata": {},
     "outputs": [
      {
       "output_type": "stream",
       "stream": "stdout",
       "text": [
        "train sizes: [ 20  66 112 158 204] \n",
        "train scores:\n",
        "[[ 0.85        0.9         0.9       ]\n",
        " [ 0.8030303   0.81818182  0.81818182]\n",
        " [ 0.75        0.77678571  0.77678571]\n",
        " [ 0.73417722  0.75316456  0.77848101]\n",
        " [ 0.74019608  0.75490196  0.74019608]] \n",
        "test scores:\n",
        "[[ 0.75490196  0.73529412  0.73529412]\n",
        " [ 0.75490196  0.68627451  0.29411765]\n",
        " [ 0.74509804  0.74509804  0.28431373]\n",
        " [ 0.7745098   0.73529412  0.66666667]\n",
        " [ 0.76470588  0.71568627  0.7745098 ]]\n",
        "mean train scores: [ 0.88333333  0.81313131  0.76785714  0.75527426  0.74509804] \n",
        "mean test scores: [ 0.74183007  0.57843137  0.59150327  0.7254902   0.75163399]\n"
       ]
      },
      {
       "metadata": {},
       "output_type": "display_data",
       "png": "[encoded data removed]",
       "text": [
        "<matplotlib.figure.Figure at 0x7f680217be50>"
       ]
      }
     ],
     "prompt_number": 144
    },
    {
     "cell_type": "code",
     "collapsed": false,
     "input": [],
     "language": "python",
     "metadata": {},
     "outputs": [],
     "prompt_number": 144
    }
   ],
   "metadata": {}
  }
 ]
}